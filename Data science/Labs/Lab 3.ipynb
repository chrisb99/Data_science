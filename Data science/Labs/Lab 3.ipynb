{
 "cells": [
  {
   "cell_type": "code",
   "execution_count": 230,
   "metadata": {
    "collapsed": false
   },
   "outputs": [],
   "source": [
    "from __future__ import division\n",
    "import numpy as np"
   ]
  },
  {
   "cell_type": "markdown",
   "metadata": {},
   "source": [
    "### Problem 1"
   ]
  },
  {
   "cell_type": "code",
   "execution_count": 18,
   "metadata": {
    "collapsed": false
   },
   "outputs": [
    {
     "name": "stdout",
     "output_type": "stream",
     "text": [
      "0.75\n",
      "0.166666666667\n",
      "0.142857142857\n"
     ]
    }
   ],
   "source": [
    "s1 = set(['nike', 'running', 'shoe'])\n",
    "s2 = set(['nike', 'black', 'running', 'shoe'])\n",
    "s3 = set(['nike', 'blue', 'jacket', 'adidas'])\n",
    "\n",
    "def findJaccard(set1, set2):\n",
    "    jaccard = len(set1.intersection(set2))/len(set1.union(set2))\n",
    "    print jaccard\n",
    "\n",
    "findJaccard(s1, s2)\n",
    "findJaccard(s1, s3)\n",
    "findJaccard(s2, s3)"
   ]
  },
  {
   "cell_type": "markdown",
   "metadata": {},
   "source": [
    "### Problem 2"
   ]
  },
  {
   "cell_type": "markdown",
   "metadata": {},
   "source": [
    "###### (a)"
   ]
  },
  {
   "cell_type": "code",
   "execution_count": 19,
   "metadata": {
    "collapsed": false
   },
   "outputs": [],
   "source": [
    "s_12 = [['nike', 1, 1], ['running', 1, 1], ['shoe', 1, 1], ['black', 0, 1], \n",
    "     ['blue', 0, 0], ['jacket', 0, 0], ['adidas', 0, 0]]\n",
    "\n",
    "s_13= [['nike', 1, 1], ['running', 1, 0], ['shoe', 1, 0], ['black', 0, 0], \n",
    "     ['blue', 0, 1], ['jacket', 0, 1], ['adidas', 0, 1]]\n",
    "\n",
    "s_23= [['nike', 1, 1], ['running', 1, 0], ['shoe', 1, 0], ['black', 1, 0], \n",
    "     ['blue', 0, 1], ['jacket', 0, 1], ['adidas', 0, 1]]"
   ]
  },
  {
   "cell_type": "markdown",
   "metadata": {},
   "source": [
    "###### (b)"
   ]
  },
  {
   "cell_type": "code",
   "execution_count": 20,
   "metadata": {
    "collapsed": false,
    "scrolled": true
   },
   "outputs": [],
   "source": [
    "from random import shuffle\n",
    "def findFirstNonZero(in_list):\n",
    "    out_list = [[],[]]\n",
    "    for s in in_list:\n",
    "        for i in range(1, 3):\n",
    "            if s[i] == 1 and not out_list[i-1]:\n",
    "                out_list[i-1].append(s[0])\n",
    "    return out_list"
   ]
  },
  {
   "cell_type": "code",
   "execution_count": 21,
   "metadata": {
    "collapsed": false
   },
   "outputs": [
    {
     "data": {
      "text/plain": [
       "[['shoe'], ['shoe']]"
      ]
     },
     "execution_count": 21,
     "metadata": {},
     "output_type": "execute_result"
    }
   ],
   "source": [
    "# set 1 and set 2\n",
    "ss_12 = s_12[:]\n",
    "shuffle(ss_12)\n",
    "findFirstNonZero(ss_12)"
   ]
  },
  {
   "cell_type": "code",
   "execution_count": 22,
   "metadata": {
    "collapsed": false
   },
   "outputs": [
    {
     "data": {
      "text/plain": [
       "[['nike'], ['nike']]"
      ]
     },
     "execution_count": 22,
     "metadata": {},
     "output_type": "execute_result"
    }
   ],
   "source": [
    "# set 1 and set 3\n",
    "ss_13 = s_13[:]\n",
    "shuffle(ss_13)\n",
    "findFirstNonZero(ss_13)"
   ]
  },
  {
   "cell_type": "code",
   "execution_count": 23,
   "metadata": {
    "collapsed": false
   },
   "outputs": [
    {
     "data": {
      "text/plain": [
       "[['nike'], ['jacket']]"
      ]
     },
     "execution_count": 23,
     "metadata": {},
     "output_type": "execute_result"
    }
   ],
   "source": [
    "# set 2 and set 3\n",
    "ss_23 = s_23[:]\n",
    "shuffle(ss_23)\n",
    "findFirstNonZero(ss_23)"
   ]
  },
  {
   "cell_type": "markdown",
   "metadata": {},
   "source": [
    "###### (c)"
   ]
  },
  {
   "cell_type": "code",
   "execution_count": 24,
   "metadata": {
    "collapsed": false
   },
   "outputs": [],
   "source": [
    "def hashedSet(in_list, a, b):\n",
    "    new_perm = []\n",
    "    out_list = []\n",
    "    for i in range(0, 7):\n",
    "        new_perm.append((a*i + b)%7)   \n",
    "#    print new_perm\n",
    "    for i in range(0,7):\n",
    "        index = new_perm.index(i)\n",
    "        out_list.append(in_list[index])\n",
    "    return out_list"
   ]
  },
  {
   "cell_type": "code",
   "execution_count": 25,
   "metadata": {
    "collapsed": false
   },
   "outputs": [
    {
     "data": {
      "text/plain": [
       "[['shoe'], ['shoe']]"
      ]
     },
     "execution_count": 25,
     "metadata": {},
     "output_type": "execute_result"
    }
   ],
   "source": [
    "findFirstNonZero(hashedSet(s_12, 3, 2))"
   ]
  },
  {
   "cell_type": "code",
   "execution_count": 26,
   "metadata": {
    "collapsed": false
   },
   "outputs": [
    {
     "data": {
      "text/plain": [
       "[['shoe'], ['blue']]"
      ]
     },
     "execution_count": 26,
     "metadata": {},
     "output_type": "execute_result"
    }
   ],
   "source": [
    "findFirstNonZero(hashedSet(s_13, 3, 2))"
   ]
  },
  {
   "cell_type": "code",
   "execution_count": 27,
   "metadata": {
    "collapsed": false
   },
   "outputs": [
    {
     "data": {
      "text/plain": [
       "[['shoe'], ['blue']]"
      ]
     },
     "execution_count": 27,
     "metadata": {},
     "output_type": "execute_result"
    }
   ],
   "source": [
    "findFirstNonZero(hashedSet(s_23, 3, 2))"
   ]
  },
  {
   "cell_type": "markdown",
   "metadata": {},
   "source": [
    "###### (d)"
   ]
  },
  {
   "cell_type": "code",
   "execution_count": 28,
   "metadata": {
    "collapsed": false
   },
   "outputs": [],
   "source": [
    "import random\n",
    "def randPerm(in_list, iterations):\n",
    "    same_as_jac = 0\n",
    "    for i in range(0, iterations):\n",
    "        a = random.randint(1, 6)\n",
    "        b = random.randint(1, 6)\n",
    "        \n",
    "        permed_list = findFirstNonZero(hashedSet(in_list,a,b))\n",
    "        #print a, b\n",
    "        #print permed_list\n",
    "        if permed_list[0][0] == permed_list[1][0]:\n",
    "            same_as_jac += 1\n",
    "    print same_as_jac/iterations"
   ]
  },
  {
   "cell_type": "code",
   "execution_count": 29,
   "metadata": {
    "collapsed": false
   },
   "outputs": [
    {
     "name": "stdout",
     "output_type": "stream",
     "text": [
      "0.6\n"
     ]
    }
   ],
   "source": [
    "randPerm(s_12, 20)"
   ]
  },
  {
   "cell_type": "code",
   "execution_count": 30,
   "metadata": {
    "collapsed": false
   },
   "outputs": [
    {
     "name": "stdout",
     "output_type": "stream",
     "text": [
      "0.0\n"
     ]
    }
   ],
   "source": [
    "randPerm(s_13, 20)"
   ]
  },
  {
   "cell_type": "code",
   "execution_count": 31,
   "metadata": {
    "collapsed": false
   },
   "outputs": [
    {
     "name": "stdout",
     "output_type": "stream",
     "text": [
      "0.0\n"
     ]
    }
   ],
   "source": [
    "randPerm(s_23, 20)"
   ]
  },
  {
   "cell_type": "markdown",
   "metadata": {},
   "source": [
    "### Problem 3"
   ]
  },
  {
   "cell_type": "code",
   "execution_count": 32,
   "metadata": {
    "collapsed": true
   },
   "outputs": [],
   "source": [
    "S = [[1, 1, 1], [1, 1, 0], [1, 1, 0], [0, 1, 0], [0, 0, 1], [0, 0, 1], [0, 0, 1]]"
   ]
  },
  {
   "cell_type": "code",
   "execution_count": 217,
   "metadata": {
    "collapsed": false
   },
   "outputs": [],
   "source": [
    "def hashFunction(a, b):\n",
    "    hashed_row_list = []\n",
    "    for i in range(0, 7):\n",
    "        hashed_row_list.append((a*i + b)%7)\n",
    "    return hashed_row_list\n",
    "    \n",
    "def SIG(in_list, a, b):\n",
    "    signature = [[],[],[]]\n",
    "    new_row = hashFunction(a, b)   \n",
    "    for i in range(0,7):\n",
    "        for j in range(0,3):\n",
    "            if(S[i][j] == 1):\n",
    "                if(not signature[j]):\n",
    "                    signature[j].append(new_row[i])\n",
    "                elif signature[j][0] > new_row[i]:\n",
    "                    signature[j][0] = new_row[i]\n",
    "    return signature\n",
    "\n",
    "def SIG_matrix(in_list):\n",
    "    SIG_matrix = [[],[],[]]\n",
    "    for j in range(20):\n",
    "        a = random.randint(1,6)\n",
    "        b = random.randint(1,6)\n",
    "        sig = SIG(in_list, a, b)\n",
    "        for i in range(0,3):\n",
    "            SIG_matrix[i].append(sig[i][0])\n",
    "    return SIG_matrix\n",
    "\n",
    "SIG_matrix = SIG_matrix(S)"
   ]
  },
  {
   "cell_type": "code",
   "execution_count": 34,
   "metadata": {
    "collapsed": false
   },
   "outputs": [
    {
     "name": "stdout",
     "output_type": "stream",
     "text": [
      "1.0\n"
     ]
    }
   ],
   "source": [
    "findJaccard(set(SIG_matrix[0]), set(SIG_matrix[1]))"
   ]
  },
  {
   "cell_type": "code",
   "execution_count": 35,
   "metadata": {
    "collapsed": false
   },
   "outputs": [
    {
     "name": "stdout",
     "output_type": "stream",
     "text": [
      "0.75\n"
     ]
    }
   ],
   "source": [
    "findJaccard(set(SIG_matrix[0]), set(SIG_matrix[2]))"
   ]
  },
  {
   "cell_type": "code",
   "execution_count": 36,
   "metadata": {
    "collapsed": false
   },
   "outputs": [
    {
     "name": "stdout",
     "output_type": "stream",
     "text": [
      "0.75\n"
     ]
    }
   ],
   "source": [
    "findJaccard(set(SIG_matrix[1]), set(SIG_matrix[2]))"
   ]
  },
  {
   "cell_type": "markdown",
   "metadata": {},
   "source": [
    "### Problem 4"
   ]
  },
  {
   "cell_type": "code",
   "execution_count": 91,
   "metadata": {
    "collapsed": false
   },
   "outputs": [],
   "source": [
    "from nltk.corpus import stopwords\n",
    "stop_words = stopwords.words(\"english\")\n",
    "def readExcerpts():\n",
    "    f = open(\"Lab3articles-5.txt\", \"r\")\n",
    "    excerpts= []\n",
    "    for line in f:\n",
    "        excerpts.append(line)\n",
    "    return excerpts\n",
    "\n",
    "def removeStopWords(excerpts):\n",
    "    for i in range(0, 6):\n",
    "        temp = excerpts[i].split(' ')\n",
    "        result = [word for word in temp if word.lower() not in stop_words]\n",
    "        excerpts[i] = result\n",
    "    return excerpts"
   ]
  },
  {
   "cell_type": "markdown",
   "metadata": {},
   "source": [
    "###### (a)"
   ]
  },
  {
   "cell_type": "code",
   "execution_count": 95,
   "metadata": {
    "collapsed": true
   },
   "outputs": [
    {
     "name": "stdout",
     "output_type": "stream",
     "text": [
      "[\"t120 The Supreme Court in Johnnesberg on Friday postponed until March 14 a hearing on a petition by government minister Winnie Mandela to prevent police reading documents seized from her home, the SAPA news agency reported. David Wright and Carlos Delgado homered and Jorge Sosa won for the sixth time as the New York Mets snapped a four-game losing streak with a 3-0 victory over Detroit on Friday night. US Defense Secretary Robert Gates said on Sunday that Iran was not yet able to make a nuclear weapon and that its program was progressing slower than Tehran expected. A Palestinian suicide bomber blew himself up in a crowded hotel dining room here Wednesday evening just as more than 200 people gathered for their Passover holiday meal, killing at least 19 and wounding more than 100 others, many of them children. OPEC kingpin Saudi Arabia signalled Tuesday it could act alone to meet a predicted increase in demand for oil, as it pushed hesitant fellow members of the cartel to raise production quotas immediately. The most important form of political compromise in Iraq isn't among top Iraqi politicians in Baghdad, but at the local level, President Bush asserted Thursday, in a departure from past rhetoric on Iraqi politics. Nancy Smith likes the HBO series ``Sex and the City,'' but the high school drama teacher often can't be in front of the television on Sunday nights, when new episodes air. An exhibition opened here today to market the 50th anniversary of China sending its volunteers to join forces with the People's Army of the Democratic People's Republic of Korea (DPRK) in the War to Resist U.S. Aggression and Aid Korea (1950-53).\\n\", 't121 The IG Metall union has decided not to spread its metalworkers\\' pay strike to further firms in Bavaria Monday as earlier planned, the union\\'s regional leader Werner Neugebauer said Friday. After 3 1/2 months of industry lobbying, congressional hearings and intensive Wall Street analysis, the American public will have a chance to weigh in on whether it thinks the proposed merger of the country\\'s only two satellite radio companies is a good idea. Hungarians were voting Sunday in a general election that looked likely to bring the right-wing Fidesz party back to power, while giving the far-right Jobbik its first ticket into parliament. The French government has warned the United States that it might end its cooperation in the investigation of Zacarias Moussaoui, a French citizen who is the only person charged so far in the Sept. 11 terrorist attacks, if the United States seeks the death penalty in the case, U.S. More than 1,000 illegal immigrants have landed off Italy\\'s southern coast in the past 24 hours and authorities said Tuesday they were expecting \"over a thousand more\". A San Bernardino County jury Thursday acquitted a former sheriff\\'s deputy of attempted voluntary manslaughter for opening fire on an unarmed, off-duty Air Force police officer after a high-speed chase last year, a brutal shooting videotaped by a bystander and aired nationwide. As computers shrink from the size of an outhouse to the dimensions of a pack of cigarettes, inventors are hatching scads of uses for them. The Ministry of Culture has nominated eight songs to mark the 50th anniversary of the operations of the Chinese People\\'s Volunteers (CPV) in the War to Resist U.S. Aggression and Aid Korea (1950-53).\\n', \"t122 Malaysia said Friday it had no plans to overregulate its emerging financial futures markets amid global concern over the financial derivatives fiasco, which wrecked British merchant bank Barings. Former Taiwanese President Lee Teng-hui reiterated that the island is independent of China, and slammed Beijing over its criticism of his visit to a Tokyo war shrine, as he wrapped up a visit to Japan on Saturday. Supporters of Iraqi Prime Minister Nuri al-Maliki, who was beaten into second place in a general election last month, lodged a protest on Sunday against what it said was its loss of 750,000 votes. EDMONTON, Alberta - No team dinners, no bonding sessions. The Los Angeles Kings say they aren't going to let two bad games spoil four good months. Sinn Fein, the Irish Republican Army's political wing, has no place in Northern Ireland politics, US Senator Ted Kennedy said Tuesday, explaining his refusal to meet this week with Gerry Adams, the group's leader. The gun that killed Lana Clarkson was in her hands and not in Phil Spector's, a defense expert insisted Thursday during a second day of testy cross-examination. President Bush, described as very upset about a Muslim intern being ordered out of the White House, issued an apology Friday for the incident. Tian Jiyun, a vice chairman of the Standing Committee of the National People's Congress (NPC), has praised Shanghai for its new economic and social progress.\\n\", \"t123 South Korea is redoubling its efforts behind Kim Chul-Su, Asia's candidate to head the new World Trade Organization (WTO), despite an American call to restart the entire selection process, foreign ministry sources said Friday. Former Taiwanese President Lee Teng-hui reiterated his stance that the island is independent of China, and slammed Beijing over its criticism of his visit to a Tokyo war shrine, as he wrapped up a visit to Japan on Saturday. A Polish military plane carrying home the body of President Lech Kaczynski from Russia was delayed Sunday, the country's defence ministry said. As awful as the news of priests forcing sex on altar boys is, to many of the faithful who sit in a pew each Sunday, the reaction of Roman Catholic Church leaders is even more shocking. After all, individual instances of sexual depravity are not unfamiliar to the church. In a historic ruling, the Danish Supreme Court on Tuesday decided to expel two young Turks, convicted of murdering an Italian tourist, from Denmark for life even though they have lived in the Scandinavian country their entire lives. President Alvaro Uribe on Thursday accused Colombia's largest rebel group of killing 11 civilian hostages, just hours after the guerrillas implied that a botched military rescue operation was to blame for the deaths. Premier Silvio Berlusconi's holding company, Fininvest SpA, on Friday denied the conservative media mogul falsified its financial accounts as alleged by prosecutors seeking to open a new case against Berlusconi. Taiwan stocks closed sharply higher on Friday, prompted by a strong rebound in U.S. stock prices, according to local media.\\n\", 't124 The Philippine subsidiary of US telecommunications firm AT and T Corp. will sign a 400 million-dollar supply contract with Thai-Philippine joint venture Isla Communications Co. Inc. (Islacom), an AT and T official said Friday. U.S. President George W. Bush says he will \"be in listening mode\" when he meets Pope Benedict XVI for the first time on Saturday. That is a good thing, because the Pope has a lot to say. Human Rights Watch called on Kuwaiti authorities on Sunday to stop arresting and deporting supporters of former UN nuclear chief Mohamed ElBaradei, now a leading champion of reform in Egypt. After an unusually mild flu season, Los Angeles County health officials said Wednesday that they\\'ve seen a sharp increase in illnesses strongly suspected to be Influenza B, especially among schoolchildren. The top international envoy in Bosnia, Paddy Ashdown, asked Moscow Tuesday to probe allegations that several Bosnian Serb war crimes fugitives are sheltering in Russia. Stephanie Usrey strode up to her local Wal-Mart store the other morning with the steely look of a boxer about to step into the ring. The Nasdaq Stock Market reported trading difficulties for the second day in a row Friday and extended regular trading by one hour. However, the systems failed again, delaying final prices and the compilation of Wall Street\\'s major indexes. The five-day Fifth Macao International Trade and Investment Fair was launched Friday at the Macao Landmark Conference and Exhibition Center.\\n', 't125 The president of the Long-Term Credit Bank of Japan Ltd. (LTCB), Tetsuya Horie, said on Friday he would resign on April 28, becoming the first high-ranking official to fall victim to the collapse of two Tokyo credit unions. The father of a missing pregnant woman tearfully thanked searchers after her body was found in a national park, a week after her 2-year-old son was found alone and told police: \"Mommy was crying. Mommy broke the table. Mommy\\'s in rug.\" Italy\\'s Finmeccanica on Wednesday opened a helicopter assembly and maintenance factory in Libya in a joint venture with Tripoli at a cost of almost 18 million euros (24 million dollars). A Palestinian suicide bomber blew himself up in a crowded hotel dining room here Wednesday evening just as more than 200 people gathered for their Passover holiday meal, killing at least 19 and wounding more than 100 others, many of them children. OPEC kingpin Saudi Arabia signalled Tuesday it could act alone to meet a predicted increase in demand for oil, as it pushed hesitant fellow members of the cartel to raise production quotas immediately. The most important form of political compromise in Iraq isn\\'t among top Iraqi politicians in Baghdad, but at the local level, President Bush asserted Thursday, in a departure from past rhetoric on Iraqi politics. Nancy Smith likes the HBO series ``Sex and the City,\\'\\' but the high school drama teacher often can\\'t be in front of the television on Sunday nights, when new episodes air. An exhibition opened here today to market the 50th anniversary of China sending its volunteers to join forces with the People\\'s Army of the Democratic People\\'s Republic of Korea (DPRK) in the War to Resist U.S. Aggression and Aid Korea (1950-53)\\n']\n"
     ]
    }
   ],
   "source": [
    "excerpts = readExcerpts()\n",
    "print excerpts"
   ]
  },
  {
   "cell_type": "markdown",
   "metadata": {},
   "source": [
    "###### (b)"
   ]
  },
  {
   "cell_type": "code",
   "execution_count": 96,
   "metadata": {
    "collapsed": true
   },
   "outputs": [
    {
     "name": "stdout",
     "output_type": "stream",
     "text": [
      "[['t120', 'Supreme', 'Court', 'Johnnesberg', 'Friday', 'postponed', 'March', '14', 'hearing', 'petition', 'government', 'minister', 'Winnie', 'Mandela', 'prevent', 'police', 'reading', 'documents', 'seized', 'home,', 'SAPA', 'news', 'agency', 'reported.', 'David', 'Wright', 'Carlos', 'Delgado', 'homered', 'Jorge', 'Sosa', 'sixth', 'time', 'New', 'York', 'Mets', 'snapped', 'four-game', 'losing', 'streak', '3-0', 'victory', 'Detroit', 'Friday', 'night.', 'US', 'Defense', 'Secretary', 'Robert', 'Gates', 'said', 'Sunday', 'Iran', 'yet', 'able', 'make', 'nuclear', 'weapon', 'program', 'progressing', 'slower', 'Tehran', 'expected.', 'Palestinian', 'suicide', 'bomber', 'blew', 'crowded', 'hotel', 'dining', 'room', 'Wednesday', 'evening', '200', 'people', 'gathered', 'Passover', 'holiday', 'meal,', 'killing', 'least', '19', 'wounding', '100', 'others,', 'many', 'children.', 'OPEC', 'kingpin', 'Saudi', 'Arabia', 'signalled', 'Tuesday', 'could', 'act', 'alone', 'meet', 'predicted', 'increase', 'demand', 'oil,', 'pushed', 'hesitant', 'fellow', 'members', 'cartel', 'raise', 'production', 'quotas', 'immediately.', 'important', 'form', 'political', 'compromise', 'Iraq', \"isn't\", 'among', 'top', 'Iraqi', 'politicians', 'Baghdad,', 'local', 'level,', 'President', 'Bush', 'asserted', 'Thursday,', 'departure', 'past', 'rhetoric', 'Iraqi', 'politics.', 'Nancy', 'Smith', 'likes', 'HBO', 'series', '``Sex', \"City,''\", 'high', 'school', 'drama', 'teacher', 'often', \"can't\", 'front', 'television', 'Sunday', 'nights,', 'new', 'episodes', 'air.', 'exhibition', 'opened', 'today', 'market', '50th', 'anniversary', 'China', 'sending', 'volunteers', 'join', 'forces', \"People's\", 'Army', 'Democratic', \"People's\", 'Republic', 'Korea', '(DPRK)', 'War', 'Resist', 'U.S.', 'Aggression', 'Aid', 'Korea', '(1950-53).\\n'], ['t121', 'IG', 'Metall', 'union', 'decided', 'spread', \"metalworkers'\", 'pay', 'strike', 'firms', 'Bavaria', 'Monday', 'earlier', 'planned,', \"union's\", 'regional', 'leader', 'Werner', 'Neugebauer', 'said', 'Friday.', '3', '1/2', 'months', 'industry', 'lobbying,', 'congressional', 'hearings', 'intensive', 'Wall', 'Street', 'analysis,', 'American', 'public', 'chance', 'weigh', 'whether', 'thinks', 'proposed', 'merger', \"country's\", 'two', 'satellite', 'radio', 'companies', 'good', 'idea.', 'Hungarians', 'voting', 'Sunday', 'general', 'election', 'looked', 'likely', 'bring', 'right-wing', 'Fidesz', 'party', 'back', 'power,', 'giving', 'far-right', 'Jobbik', 'first', 'ticket', 'parliament.', 'French', 'government', 'warned', 'United', 'States', 'might', 'end', 'cooperation', 'investigation', 'Zacarias', 'Moussaoui,', 'French', 'citizen', 'person', 'charged', 'far', 'Sept.', '11', 'terrorist', 'attacks,', 'United', 'States', 'seeks', 'death', 'penalty', 'case,', 'U.S.', '1,000', 'illegal', 'immigrants', 'landed', \"Italy's\", 'southern', 'coast', 'past', '24', 'hours', 'authorities', 'said', 'Tuesday', 'expecting', '\"over', 'thousand', 'more\".', 'San', 'Bernardino', 'County', 'jury', 'Thursday', 'acquitted', 'former', \"sheriff's\", 'deputy', 'attempted', 'voluntary', 'manslaughter', 'opening', 'fire', 'unarmed,', 'off-duty', 'Air', 'Force', 'police', 'officer', 'high-speed', 'chase', 'last', 'year,', 'brutal', 'shooting', 'videotaped', 'bystander', 'aired', 'nationwide.', 'computers', 'shrink', 'size', 'outhouse', 'dimensions', 'pack', 'cigarettes,', 'inventors', 'hatching', 'scads', 'uses', 'them.', 'Ministry', 'Culture', 'nominated', 'eight', 'songs', 'mark', '50th', 'anniversary', 'operations', 'Chinese', \"People's\", 'Volunteers', '(CPV)', 'War', 'Resist', 'U.S.', 'Aggression', 'Aid', 'Korea', '(1950-53).\\n'], ['t122', 'Malaysia', 'said', 'Friday', 'plans', 'overregulate', 'emerging', 'financial', 'futures', 'markets', 'amid', 'global', 'concern', 'financial', 'derivatives', 'fiasco,', 'wrecked', 'British', 'merchant', 'bank', 'Barings.', 'Former', 'Taiwanese', 'President', 'Lee', 'Teng-hui', 'reiterated', 'island', 'independent', 'China,', 'slammed', 'Beijing', 'criticism', 'visit', 'Tokyo', 'war', 'shrine,', 'wrapped', 'visit', 'Japan', 'Saturday.', 'Supporters', 'Iraqi', 'Prime', 'Minister', 'Nuri', 'al-Maliki,', 'beaten', 'second', 'place', 'general', 'election', 'last', 'month,', 'lodged', 'protest', 'Sunday', 'said', 'loss', '750,000', 'votes.', 'EDMONTON,', 'Alberta', '-', 'team', 'dinners,', 'bonding', 'sessions.', 'Los', 'Angeles', 'Kings', 'say', \"aren't\", 'going', 'let', 'two', 'bad', 'games', 'spoil', 'four', 'good', 'months.', 'Sinn', 'Fein,', 'Irish', 'Republican', \"Army's\", 'political', 'wing,', 'place', 'Northern', 'Ireland', 'politics,', 'US', 'Senator', 'Ted', 'Kennedy', 'said', 'Tuesday,', 'explaining', 'refusal', 'meet', 'week', 'Gerry', 'Adams,', \"group's\", 'leader.', 'gun', 'killed', 'Lana', 'Clarkson', 'hands', 'Phil', \"Spector's,\", 'defense', 'expert', 'insisted', 'Thursday', 'second', 'day', 'testy', 'cross-examination.', 'President', 'Bush,', 'described', 'upset', 'Muslim', 'intern', 'ordered', 'White', 'House,', 'issued', 'apology', 'Friday', 'incident.', 'Tian', 'Jiyun,', 'vice', 'chairman', 'Standing', 'Committee', 'National', \"People's\", 'Congress', '(NPC),', 'praised', 'Shanghai', 'new', 'economic', 'social', 'progress.\\n'], ['t123', 'South', 'Korea', 'redoubling', 'efforts', 'behind', 'Kim', 'Chul-Su,', \"Asia's\", 'candidate', 'head', 'new', 'World', 'Trade', 'Organization', '(WTO),', 'despite', 'American', 'call', 'restart', 'entire', 'selection', 'process,', 'foreign', 'ministry', 'sources', 'said', 'Friday.', 'Former', 'Taiwanese', 'President', 'Lee', 'Teng-hui', 'reiterated', 'stance', 'island', 'independent', 'China,', 'slammed', 'Beijing', 'criticism', 'visit', 'Tokyo', 'war', 'shrine,', 'wrapped', 'visit', 'Japan', 'Saturday.', 'Polish', 'military', 'plane', 'carrying', 'home', 'body', 'President', 'Lech', 'Kaczynski', 'Russia', 'delayed', 'Sunday,', \"country's\", 'defence', 'ministry', 'said.', 'awful', 'news', 'priests', 'forcing', 'sex', 'altar', 'boys', 'is,', 'many', 'faithful', 'sit', 'pew', 'Sunday,', 'reaction', 'Roman', 'Catholic', 'Church', 'leaders', 'even', 'shocking.', 'all,', 'individual', 'instances', 'sexual', 'depravity', 'unfamiliar', 'church.', 'historic', 'ruling,', 'Danish', 'Supreme', 'Court', 'Tuesday', 'decided', 'expel', 'two', 'young', 'Turks,', 'convicted', 'murdering', 'Italian', 'tourist,', 'Denmark', 'life', 'even', 'though', 'lived', 'Scandinavian', 'country', 'entire', 'lives.', 'President', 'Alvaro', 'Uribe', 'Thursday', 'accused', \"Colombia's\", 'largest', 'rebel', 'group', 'killing', '11', 'civilian', 'hostages,', 'hours', 'guerrillas', 'implied', 'botched', 'military', 'rescue', 'operation', 'blame', 'deaths.', 'Premier', 'Silvio', \"Berlusconi's\", 'holding', 'company,', 'Fininvest', 'SpA,', 'Friday', 'denied', 'conservative', 'media', 'mogul', 'falsified', 'financial', 'accounts', 'alleged', 'prosecutors', 'seeking', 'open', 'new', 'case', 'Berlusconi.', 'Taiwan', 'stocks', 'closed', 'sharply', 'higher', 'Friday,', 'prompted', 'strong', 'rebound', 'U.S.', 'stock', 'prices,', 'according', 'local', 'media.\\n'], ['t124', 'Philippine', 'subsidiary', 'US', 'telecommunications', 'firm', 'Corp.', 'sign', '400', 'million-dollar', 'supply', 'contract', 'Thai-Philippine', 'joint', 'venture', 'Isla', 'Communications', 'Co.', 'Inc.', '(Islacom),', 'official', 'said', 'Friday.', 'U.S.', 'President', 'George', 'W.', 'Bush', 'says', '\"be', 'listening', 'mode\"', 'meets', 'Pope', 'Benedict', 'XVI', 'first', 'time', 'Saturday.', 'good', 'thing,', 'Pope', 'lot', 'say.', 'Human', 'Rights', 'Watch', 'called', 'Kuwaiti', 'authorities', 'Sunday', 'stop', 'arresting', 'deporting', 'supporters', 'former', 'UN', 'nuclear', 'chief', 'Mohamed', 'ElBaradei,', 'leading', 'champion', 'reform', 'Egypt.', 'unusually', 'mild', 'flu', 'season,', 'Los', 'Angeles', 'County', 'health', 'officials', 'said', 'Wednesday', \"they've\", 'seen', 'sharp', 'increase', 'illnesses', 'strongly', 'suspected', 'Influenza', 'B,', 'especially', 'among', 'schoolchildren.', 'top', 'international', 'envoy', 'Bosnia,', 'Paddy', 'Ashdown,', 'asked', 'Moscow', 'Tuesday', 'probe', 'allegations', 'several', 'Bosnian', 'Serb', 'war', 'crimes', 'fugitives', 'sheltering', 'Russia.', 'Stephanie', 'Usrey', 'strode', 'local', 'Wal-Mart', 'store', 'morning', 'steely', 'look', 'boxer', 'step', 'ring.', 'Nasdaq', 'Stock', 'Market', 'reported', 'trading', 'difficulties', 'second', 'day', 'row', 'Friday', 'extended', 'regular', 'trading', 'one', 'hour.', 'However,', 'systems', 'failed', 'again,', 'delaying', 'final', 'prices', 'compilation', 'Wall', \"Street's\", 'major', 'indexes.', 'five-day', 'Fifth', 'Macao', 'International', 'Trade', 'Investment', 'Fair', 'launched', 'Friday', 'Macao', 'Landmark', 'Conference', 'Exhibition', 'Center.\\n'], ['t125', 'president', 'Long-Term', 'Credit', 'Bank', 'Japan', 'Ltd.', '(LTCB),', 'Tetsuya', 'Horie,', 'said', 'Friday', 'would', 'resign', 'April', '28,', 'becoming', 'first', 'high-ranking', 'official', 'fall', 'victim', 'collapse', 'two', 'Tokyo', 'credit', 'unions.', 'father', 'missing', 'pregnant', 'woman', 'tearfully', 'thanked', 'searchers', 'body', 'found', 'national', 'park,', 'week', '2-year-old', 'son', 'found', 'alone', 'told', 'police:', '\"Mommy', 'crying.', 'Mommy', 'broke', 'table.', \"Mommy's\", 'rug.\"', \"Italy's\", 'Finmeccanica', 'Wednesday', 'opened', 'helicopter', 'assembly', 'maintenance', 'factory', 'Libya', 'joint', 'venture', 'Tripoli', 'cost', 'almost', '18', 'million', 'euros', '(24', 'million', 'dollars).', 'Palestinian', 'suicide', 'bomber', 'blew', 'crowded', 'hotel', 'dining', 'room', 'Wednesday', 'evening', '200', 'people', 'gathered', 'Passover', 'holiday', 'meal,', 'killing', 'least', '19', 'wounding', '100', 'others,', 'many', 'children.', 'OPEC', 'kingpin', 'Saudi', 'Arabia', 'signalled', 'Tuesday', 'could', 'act', 'alone', 'meet', 'predicted', 'increase', 'demand', 'oil,', 'pushed', 'hesitant', 'fellow', 'members', 'cartel', 'raise', 'production', 'quotas', 'immediately.', 'important', 'form', 'political', 'compromise', 'Iraq', \"isn't\", 'among', 'top', 'Iraqi', 'politicians', 'Baghdad,', 'local', 'level,', 'President', 'Bush', 'asserted', 'Thursday,', 'departure', 'past', 'rhetoric', 'Iraqi', 'politics.', 'Nancy', 'Smith', 'likes', 'HBO', 'series', '``Sex', \"City,''\", 'high', 'school', 'drama', 'teacher', 'often', \"can't\", 'front', 'television', 'Sunday', 'nights,', 'new', 'episodes', 'air.', 'exhibition', 'opened', 'today', 'market', '50th', 'anniversary', 'China', 'sending', 'volunteers', 'join', 'forces', \"People's\", 'Army', 'Democratic', \"People's\", 'Republic', 'Korea', '(DPRK)', 'War', 'Resist', 'U.S.', 'Aggression', 'Aid', 'Korea', '(1950-53)\\n']]\n"
     ]
    }
   ],
   "source": [
    "new_excerpts = removeStopWords(excerpts)\n",
    "print new_excerpts"
   ]
  },
  {
   "cell_type": "markdown",
   "metadata": {
    "collapsed": true
   },
   "source": [
    "###### (c)"
   ]
  },
  {
   "cell_type": "code",
   "execution_count": 115,
   "metadata": {
    "collapsed": false
   },
   "outputs": [],
   "source": [
    "word_shingles = []\n",
    "for x in new_excerpts:\n",
    "    temp = [\"\"] + x\n",
    "    s = ' '\n",
    "    result = [s.join(words) for words in zip(temp, x)]\n",
    "    x = result[1:]\n",
    "    word_shingles.append(x)"
   ]
  },
  {
   "cell_type": "code",
   "execution_count": 144,
   "metadata": {
    "collapsed": false
   },
   "outputs": [
    {
     "name": "stdout",
     "output_type": "stream",
     "text": [
      "['t120 Supreme', 'Supreme Court', 'Court Johnnesberg', 'Johnnesberg Friday', 'Friday postponed', 'postponed March', 'March 14', '14 hearing', 'hearing petition', 'petition government', 'government minister', 'minister Winnie', 'Winnie Mandela', 'Mandela prevent', 'prevent police', 'police reading', 'reading documents', 'documents seized', 'seized home,', 'home, SAPA', 'SAPA news', 'news agency', 'agency reported.', 'reported. David', 'David Wright', 'Wright Carlos', 'Carlos Delgado', 'Delgado homered', 'homered Jorge', 'Jorge Sosa', 'Sosa sixth', 'sixth time', 'time New', 'New York', 'York Mets', 'Mets snapped', 'snapped four-game', 'four-game losing', 'losing streak', 'streak 3-0', '3-0 victory', 'victory Detroit', 'Detroit Friday', 'Friday night.', 'night. US', 'US Defense', 'Defense Secretary', 'Secretary Robert', 'Robert Gates', 'Gates said', 'said Sunday', 'Sunday Iran', 'Iran yet', 'yet able', 'able make', 'make nuclear', 'nuclear weapon', 'weapon program', 'program progressing', 'progressing slower', 'slower Tehran', 'Tehran expected.', 'expected. Palestinian', 'Palestinian suicide', 'suicide bomber', 'bomber blew', 'blew crowded', 'crowded hotel', 'hotel dining', 'dining room', 'room Wednesday', 'Wednesday evening', 'evening 200', '200 people', 'people gathered', 'gathered Passover', 'Passover holiday', 'holiday meal,', 'meal, killing', 'killing least', 'least 19', '19 wounding', 'wounding 100', '100 others,', 'others, many', 'many children.', 'children. OPEC', 'OPEC kingpin', 'kingpin Saudi', 'Saudi Arabia', 'Arabia signalled', 'signalled Tuesday', 'Tuesday could', 'could act', 'act alone', 'alone meet', 'meet predicted', 'predicted increase', 'increase demand', 'demand oil,', 'oil, pushed', 'pushed hesitant', 'hesitant fellow', 'fellow members', 'members cartel', 'cartel raise', 'raise production', 'production quotas', 'quotas immediately.', 'immediately. important', 'important form', 'form political', 'political compromise', 'compromise Iraq', \"Iraq isn't\", \"isn't among\", 'among top', 'top Iraqi', 'Iraqi politicians', 'politicians Baghdad,', 'Baghdad, local', 'local level,', 'level, President', 'President Bush', 'Bush asserted', 'asserted Thursday,', 'Thursday, departure', 'departure past', 'past rhetoric', 'rhetoric Iraqi', 'Iraqi politics.', 'politics. Nancy', 'Nancy Smith', 'Smith likes', 'likes HBO', 'HBO series', 'series ``Sex', \"``Sex City,''\", \"City,'' high\", 'high school', 'school drama', 'drama teacher', 'teacher often', \"often can't\", \"can't front\", 'front television', 'television Sunday', 'Sunday nights,', 'nights, new', 'new episodes', 'episodes air.', 'air. exhibition', 'exhibition opened', 'opened today', 'today market', 'market 50th', '50th anniversary', 'anniversary China', 'China sending', 'sending volunteers', 'volunteers join', 'join forces', \"forces People's\", \"People's Army\", 'Army Democratic', \"Democratic People's\", \"People's Republic\", 'Republic Korea', 'Korea (DPRK)', '(DPRK) War', 'War Resist', 'Resist U.S.', 'U.S. Aggression', 'Aggression Aid', 'Aid Korea', 'Korea (1950-53).\\n']\n"
     ]
    }
   ],
   "source": [
    "# example result of the second in word_shingles\n",
    "print word_shingles[0]"
   ]
  },
  {
   "cell_type": "markdown",
   "metadata": {},
   "source": [
    "###### (d)"
   ]
  },
  {
   "cell_type": "code",
   "execution_count": 129,
   "metadata": {
    "collapsed": false
   },
   "outputs": [],
   "source": [
    "character_shingles = []\n",
    "for x in new_excerpts:\n",
    "    s = ' '\n",
    "    temp = list(s.join(x))\n",
    "    temp_1 = [''] + temp\n",
    "    temp_2 = [''] + temp_1\n",
    "    result = [''.join(characters) for characters in zip(temp_2, temp_1, temp)]\n",
    "    character_shingles.append(result[2:])"
   ]
  },
  {
   "cell_type": "code",
   "execution_count": 130,
   "metadata": {
    "collapsed": true
   },
   "outputs": [
    {
     "name": "stdout",
     "output_type": "stream",
     "text": [
      "[['t12', '120', '20 ', '0 S', ' Su', 'Sup', 'upr', 'pre', 'rem', 'eme', 'me ', 'e C', ' Co', 'Cou', 'our', 'urt', 'rt ', 't J', ' Jo', 'Joh', 'ohn', 'hnn', 'nne', 'nes', 'esb', 'sbe', 'ber', 'erg', 'rg ', 'g F', ' Fr', 'Fri', 'rid', 'ida', 'day', 'ay ', 'y p', ' po', 'pos', 'ost', 'stp', 'tpo', 'pon', 'one', 'ned', 'ed ', 'd M', ' Ma', 'Mar', 'arc', 'rch', 'ch ', 'h 1', ' 14', '14 ', '4 h', ' he', 'hea', 'ear', 'ari', 'rin', 'ing', 'ng ', 'g p', ' pe', 'pet', 'eti', 'tit', 'iti', 'tio', 'ion', 'on ', 'n g', ' go', 'gov', 'ove', 'ver', 'ern', 'rnm', 'nme', 'men', 'ent', 'nt ', 't m', ' mi', 'min', 'ini', 'nis', 'ist', 'ste', 'ter', 'er ', 'r W', ' Wi', 'Win', 'inn', 'nni', 'nie', 'ie ', 'e M', ' Ma', 'Man', 'and', 'nde', 'del', 'ela', 'la ', 'a p', ' pr', 'pre', 'rev', 'eve', 'ven', 'ent', 'nt ', 't p', ' po', 'pol', 'oli', 'lic', 'ice', 'ce ', 'e r', ' re', 'rea', 'ead', 'adi', 'din', 'ing', 'ng ', 'g d', ' do', 'doc', 'ocu', 'cum', 'ume', 'men', 'ent', 'nts', 'ts ', 's s', ' se', 'sei', 'eiz', 'ize', 'zed', 'ed ', 'd h', ' ho', 'hom', 'ome', 'me,', 'e, ', ', S', ' SA', 'SAP', 'APA', 'PA ', 'A n', ' ne', 'new', 'ews', 'ws ', 's a', ' ag', 'age', 'gen', 'enc', 'ncy', 'cy ', 'y r', ' re', 'rep', 'epo', 'por', 'ort', 'rte', 'ted', 'ed.', 'd. ', '. D', ' Da', 'Dav', 'avi', 'vid', 'id ', 'd W', ' Wr', 'Wri', 'rig', 'igh', 'ght', 'ht ', 't C', ' Ca', 'Car', 'arl', 'rlo', 'los', 'os ', 's D', ' De', 'Del', 'elg', 'lga', 'gad', 'ado', 'do ', 'o h', ' ho', 'hom', 'ome', 'mer', 'ere', 'red', 'ed ', 'd J', ' Jo', 'Jor', 'org', 'rge', 'ge ', 'e S', ' So', 'Sos', 'osa', 'sa ', 'a s', ' si', 'six', 'ixt', 'xth', 'th ', 'h t', ' ti', 'tim', 'ime', 'me ', 'e N', ' Ne', 'New', 'ew ', 'w Y', ' Yo', 'Yor', 'ork', 'rk ', 'k M', ' Me', 'Met', 'ets', 'ts ', 's s', ' sn', 'sna', 'nap', 'app', 'ppe', 'ped', 'ed ', 'd f', ' fo', 'fou', 'our', 'ur-', 'r-g', '-ga', 'gam', 'ame', 'me ', 'e l', ' lo', 'los', 'osi', 'sin', 'ing', 'ng ', 'g s', ' st', 'str', 'tre', 'rea', 'eak', 'ak ', 'k 3', ' 3-', '3-0', '-0 ', '0 v', ' vi', 'vic', 'ict', 'cto', 'tor', 'ory', 'ry ', 'y D', ' De', 'Det', 'etr', 'tro', 'roi', 'oit', 'it ', 't F', ' Fr', 'Fri', 'rid', 'ida', 'day', 'ay ', 'y n', ' ni', 'nig', 'igh', 'ght', 'ht.', 't. ', '. U', ' US', 'US ', 'S D', ' De', 'Def', 'efe', 'fen', 'ens', 'nse', 'se ', 'e S', ' Se', 'Sec', 'ecr', 'cre', 'ret', 'eta', 'tar', 'ary', 'ry ', 'y R', ' Ro', 'Rob', 'obe', 'ber', 'ert', 'rt ', 't G', ' Ga', 'Gat', 'ate', 'tes', 'es ', 's s', ' sa', 'sai', 'aid', 'id ', 'd S', ' Su', 'Sun', 'und', 'nda', 'day', 'ay ', 'y I', ' Ir', 'Ira', 'ran', 'an ', 'n y', ' ye', 'yet', 'et ', 't a', ' ab', 'abl', 'ble', 'le ', 'e m', ' ma', 'mak', 'ake', 'ke ', 'e n', ' nu', 'nuc', 'ucl', 'cle', 'lea', 'ear', 'ar ', 'r w', ' we', 'wea', 'eap', 'apo', 'pon', 'on ', 'n p', ' pr', 'pro', 'rog', 'ogr', 'gra', 'ram', 'am ', 'm p', ' pr', 'pro', 'rog', 'ogr', 'gre', 'res', 'ess', 'ssi', 'sin', 'ing', 'ng ', 'g s', ' sl', 'slo', 'low', 'owe', 'wer', 'er ', 'r T', ' Te', 'Teh', 'ehr', 'hra', 'ran', 'an ', 'n e', ' ex', 'exp', 'xpe', 'pec', 'ect', 'cte', 'ted', 'ed.', 'd. ', '. P', ' Pa', 'Pal', 'ale', 'les', 'est', 'sti', 'tin', 'ini', 'nia', 'ian', 'an ', 'n s', ' su', 'sui', 'uic', 'ici', 'cid', 'ide', 'de ', 'e b', ' bo', 'bom', 'omb', 'mbe', 'ber', 'er ', 'r b', ' bl', 'ble', 'lew', 'ew ', 'w c', ' cr', 'cro', 'row', 'owd', 'wde', 'ded', 'ed ', 'd h', ' ho', 'hot', 'ote', 'tel', 'el ', 'l d', ' di', 'din', 'ini', 'nin', 'ing', 'ng ', 'g r', ' ro', 'roo', 'oom', 'om ', 'm W', ' We', 'Wed', 'edn', 'dne', 'nes', 'esd', 'sda', 'day', 'ay ', 'y e', ' ev', 'eve', 'ven', 'eni', 'nin', 'ing', 'ng ', 'g 2', ' 20', '200', '00 ', '0 p', ' pe', 'peo', 'eop', 'opl', 'ple', 'le ', 'e g', ' ga', 'gat', 'ath', 'the', 'her', 'ere', 'red', 'ed ', 'd P', ' Pa', 'Pas', 'ass', 'sso', 'sov', 'ove', 'ver', 'er ', 'r h', ' ho', 'hol', 'oli', 'lid', 'ida', 'day', 'ay ', 'y m', ' me', 'mea', 'eal', 'al,', 'l, ', ', k', ' ki', 'kil', 'ill', 'lli', 'lin', 'ing', 'ng ', 'g l', ' le', 'lea', 'eas', 'ast', 'st ', 't 1', ' 19', '19 ', '9 w', ' wo', 'wou', 'oun', 'und', 'ndi', 'din', 'ing', 'ng ', 'g 1', ' 10', '100', '00 ', '0 o', ' ot', 'oth', 'the', 'her', 'ers', 'rs,', 's, ', ', m', ' ma', 'man', 'any', 'ny ', 'y c', ' ch', 'chi', 'hil', 'ild', 'ldr', 'dre', 'ren', 'en.', 'n. ', '. O', ' OP', 'OPE', 'PEC', 'EC ', 'C k', ' ki', 'kin', 'ing', 'ngp', 'gpi', 'pin', 'in ', 'n S', ' Sa', 'Sau', 'aud', 'udi', 'di ', 'i A', ' Ar', 'Ara', 'rab', 'abi', 'bia', 'ia ', 'a s', ' si', 'sig', 'ign', 'gna', 'nal', 'all', 'lle', 'led', 'ed ', 'd T', ' Tu', 'Tue', 'ues', 'esd', 'sda', 'day', 'ay ', 'y c', ' co', 'cou', 'oul', 'uld', 'ld ', 'd a', ' ac', 'act', 'ct ', 't a', ' al', 'alo', 'lon', 'one', 'ne ', 'e m', ' me', 'mee', 'eet', 'et ', 't p', ' pr', 'pre', 'red', 'edi', 'dic', 'ict', 'cte', 'ted', 'ed ', 'd i', ' in', 'inc', 'ncr', 'cre', 'rea', 'eas', 'ase', 'se ', 'e d', ' de', 'dem', 'ema', 'man', 'and', 'nd ', 'd o', ' oi', 'oil', 'il,', 'l, ', ', p', ' pu', 'pus', 'ush', 'she', 'hed', 'ed ', 'd h', ' he', 'hes', 'esi', 'sit', 'ita', 'tan', 'ant', 'nt ', 't f', ' fe', 'fel', 'ell', 'llo', 'low', 'ow ', 'w m', ' me', 'mem', 'emb', 'mbe', 'ber', 'ers', 'rs ', 's c', ' ca', 'car', 'art', 'rte', 'tel', 'el ', 'l r', ' ra', 'rai', 'ais', 'ise', 'se ', 'e p', ' pr', 'pro', 'rod', 'odu', 'duc', 'uct', 'cti', 'tio', 'ion', 'on ', 'n q', ' qu', 'quo', 'uot', 'ota', 'tas', 'as ', 's i', ' im', 'imm', 'mme', 'med', 'edi', 'dia', 'iat', 'ate', 'tel', 'ely', 'ly.', 'y. ', '. i', ' im', 'imp', 'mpo', 'por', 'ort', 'rta', 'tan', 'ant', 'nt ', 't f', ' fo', 'for', 'orm', 'rm ', 'm p', ' po', 'pol', 'oli', 'lit', 'iti', 'tic', 'ica', 'cal', 'al ', 'l c', ' co', 'com', 'omp', 'mpr', 'pro', 'rom', 'omi', 'mis', 'ise', 'se ', 'e I', ' Ir', 'Ira', 'raq', 'aq ', 'q i', ' is', 'isn', \"sn'\", \"n't\", \"'t \", 't a', ' am', 'amo', 'mon', 'ong', 'ng ', 'g t', ' to', 'top', 'op ', 'p I', ' Ir', 'Ira', 'raq', 'aqi', 'qi ', 'i p', ' po', 'pol', 'oli', 'lit', 'iti', 'tic', 'ici', 'cia', 'ian', 'ans', 'ns ', 's B', ' Ba', 'Bag', 'agh', 'ghd', 'hda', 'dad', 'ad,', 'd, ', ', l', ' lo', 'loc', 'oca', 'cal', 'al ', 'l l', ' le', 'lev', 'eve', 'vel', 'el,', 'l, ', ', P', ' Pr', 'Pre', 'res', 'esi', 'sid', 'ide', 'den', 'ent', 'nt ', 't B', ' Bu', 'Bus', 'ush', 'sh ', 'h a', ' as', 'ass', 'sse', 'ser', 'ert', 'rte', 'ted', 'ed ', 'd T', ' Th', 'Thu', 'hur', 'urs', 'rsd', 'sda', 'day', 'ay,', 'y, ', ', d', ' de', 'dep', 'epa', 'par', 'art', 'rtu', 'tur', 'ure', 're ', 'e p', ' pa', 'pas', 'ast', 'st ', 't r', ' rh', 'rhe', 'het', 'eto', 'tor', 'ori', 'ric', 'ic ', 'c I', ' Ir', 'Ira', 'raq', 'aqi', 'qi ', 'i p', ' po', 'pol', 'oli', 'lit', 'iti', 'tic', 'ics', 'cs.', 's. ', '. N', ' Na', 'Nan', 'anc', 'ncy', 'cy ', 'y S', ' Sm', 'Smi', 'mit', 'ith', 'th ', 'h l', ' li', 'lik', 'ike', 'kes', 'es ', 's H', ' HB', 'HBO', 'BO ', 'O s', ' se', 'ser', 'eri', 'rie', 'ies', 'es ', 's `', ' ``', '``S', '`Se', 'Sex', 'ex ', 'x C', ' Ci', 'Cit', 'ity', 'ty,', \"y,'\", \",''\", \"'' \", \"' h\", ' hi', 'hig', 'igh', 'gh ', 'h s', ' sc', 'sch', 'cho', 'hoo', 'ool', 'ol ', 'l d', ' dr', 'dra', 'ram', 'ama', 'ma ', 'a t', ' te', 'tea', 'eac', 'ach', 'che', 'her', 'er ', 'r o', ' of', 'oft', 'fte', 'ten', 'en ', 'n c', ' ca', 'can', \"an'\", \"n't\", \"'t \", 't f', ' fr', 'fro', 'ron', 'ont', 'nt ', 't t', ' te', 'tel', 'ele', 'lev', 'evi', 'vis', 'isi', 'sio', 'ion', 'on ', 'n S', ' Su', 'Sun', 'und', 'nda', 'day', 'ay ', 'y n', ' ni', 'nig', 'igh', 'ght', 'hts', 'ts,', 's, ', ', n', ' ne', 'new', 'ew ', 'w e', ' ep', 'epi', 'pis', 'iso', 'sod', 'ode', 'des', 'es ', 's a', ' ai', 'air', 'ir.', 'r. ', '. e', ' ex', 'exh', 'xhi', 'hib', 'ibi', 'bit', 'iti', 'tio', 'ion', 'on ', 'n o', ' op', 'ope', 'pen', 'ene', 'ned', 'ed ', 'd t', ' to', 'tod', 'oda', 'day', 'ay ', 'y m', ' ma', 'mar', 'ark', 'rke', 'ket', 'et ', 't 5', ' 50', '50t', '0th', 'th ', 'h a', ' an', 'ann', 'nni', 'niv', 'ive', 'ver', 'ers', 'rsa', 'sar', 'ary', 'ry ', 'y C', ' Ch', 'Chi', 'hin', 'ina', 'na ', 'a s', ' se', 'sen', 'end', 'ndi', 'din', 'ing', 'ng ', 'g v', ' vo', 'vol', 'olu', 'lun', 'unt', 'nte', 'tee', 'eer', 'ers', 'rs ', 's j', ' jo', 'joi', 'oin', 'in ', 'n f', ' fo', 'for', 'orc', 'rce', 'ces', 'es ', 's P', ' Pe', 'Peo', 'eop', 'opl', 'ple', \"le'\", \"e's\", \"'s \", 's A', ' Ar', 'Arm', 'rmy', 'my ', 'y D', ' De', 'Dem', 'emo', 'moc', 'ocr', 'cra', 'rat', 'ati', 'tic', 'ic ', 'c P', ' Pe', 'Peo', 'eop', 'opl', 'ple', \"le'\", \"e's\", \"'s \", 's R', ' Re', 'Rep', 'epu', 'pub', 'ubl', 'bli', 'lic', 'ic ', 'c K', ' Ko', 'Kor', 'ore', 'rea', 'ea ', 'a (', ' (D', '(DP', 'DPR', 'PRK', 'RK)', 'K) ', ') W', ' Wa', 'War', 'ar ', 'r R', ' Re', 'Res', 'esi', 'sis', 'ist', 'st ', 't U', ' U.', 'U.S', '.S.', 'S. ', '. A', ' Ag', 'Agg', 'ggr', 'gre', 'res', 'ess', 'ssi', 'sio', 'ion', 'on ', 'n A', ' Ai', 'Aid', 'id ', 'd K', ' Ko', 'Kor', 'ore', 'rea', 'ea ', 'a (', ' (1', '(19', '195', '950', '50-', '0-5', '-53', '53)', '3).', ').\\n'], ['t12', '121', '21 ', '1 I', ' IG', 'IG ', 'G M', ' Me', 'Met', 'eta', 'tal', 'all', 'll ', 'l u', ' un', 'uni', 'nio', 'ion', 'on ', 'n d', ' de', 'dec', 'eci', 'cid', 'ide', 'ded', 'ed ', 'd s', ' sp', 'spr', 'pre', 'rea', 'ead', 'ad ', 'd m', ' me', 'met', 'eta', 'tal', 'alw', 'lwo', 'wor', 'ork', 'rke', 'ker', 'ers', \"rs'\", \"s' \", \"' p\", ' pa', 'pay', 'ay ', 'y s', ' st', 'str', 'tri', 'rik', 'ike', 'ke ', 'e f', ' fi', 'fir', 'irm', 'rms', 'ms ', 's B', ' Ba', 'Bav', 'ava', 'var', 'ari', 'ria', 'ia ', 'a M', ' Mo', 'Mon', 'ond', 'nda', 'day', 'ay ', 'y e', ' ea', 'ear', 'arl', 'rli', 'lie', 'ier', 'er ', 'r p', ' pl', 'pla', 'lan', 'ann', 'nne', 'ned', 'ed,', 'd, ', ', u', ' un', 'uni', 'nio', 'ion', \"on'\", \"n's\", \"'s \", 's r', ' re', 'reg', 'egi', 'gio', 'ion', 'ona', 'nal', 'al ', 'l l', ' le', 'lea', 'ead', 'ade', 'der', 'er ', 'r W', ' We', 'Wer', 'ern', 'rne', 'ner', 'er ', 'r N', ' Ne', 'Neu', 'eug', 'uge', 'geb', 'eba', 'bau', 'aue', 'uer', 'er ', 'r s', ' sa', 'sai', 'aid', 'id ', 'd F', ' Fr', 'Fri', 'rid', 'ida', 'day', 'ay.', 'y. ', '. 3', ' 3 ', '3 1', ' 1/', '1/2', '/2 ', '2 m', ' mo', 'mon', 'ont', 'nth', 'ths', 'hs ', 's i', ' in', 'ind', 'ndu', 'dus', 'ust', 'str', 'try', 'ry ', 'y l', ' lo', 'lob', 'obb', 'bby', 'byi', 'yin', 'ing', 'ng,', 'g, ', ', c', ' co', 'con', 'ong', 'ngr', 'gre', 'res', 'ess', 'ssi', 'sio', 'ion', 'ona', 'nal', 'al ', 'l h', ' he', 'hea', 'ear', 'ari', 'rin', 'ing', 'ngs', 'gs ', 's i', ' in', 'int', 'nte', 'ten', 'ens', 'nsi', 'siv', 'ive', 've ', 'e W', ' Wa', 'Wal', 'all', 'll ', 'l S', ' St', 'Str', 'tre', 'ree', 'eet', 'et ', 't a', ' an', 'ana', 'nal', 'aly', 'lys', 'ysi', 'sis', 'is,', 's, ', ', A', ' Am', 'Ame', 'mer', 'eri', 'ric', 'ica', 'can', 'an ', 'n p', ' pu', 'pub', 'ubl', 'bli', 'lic', 'ic ', 'c c', ' ch', 'cha', 'han', 'anc', 'nce', 'ce ', 'e w', ' we', 'wei', 'eig', 'igh', 'gh ', 'h w', ' wh', 'whe', 'het', 'eth', 'the', 'her', 'er ', 'r t', ' th', 'thi', 'hin', 'ink', 'nks', 'ks ', 's p', ' pr', 'pro', 'rop', 'opo', 'pos', 'ose', 'sed', 'ed ', 'd m', ' me', 'mer', 'erg', 'rge', 'ger', 'er ', 'r c', ' co', 'cou', 'oun', 'unt', 'ntr', 'try', \"ry'\", \"y's\", \"'s \", 's t', ' tw', 'two', 'wo ', 'o s', ' sa', 'sat', 'ate', 'tel', 'ell', 'lli', 'lit', 'ite', 'te ', 'e r', ' ra', 'rad', 'adi', 'dio', 'io ', 'o c', ' co', 'com', 'omp', 'mpa', 'pan', 'ani', 'nie', 'ies', 'es ', 's g', ' go', 'goo', 'ood', 'od ', 'd i', ' id', 'ide', 'dea', 'ea.', 'a. ', '. H', ' Hu', 'Hun', 'ung', 'nga', 'gar', 'ari', 'ria', 'ian', 'ans', 'ns ', 's v', ' vo', 'vot', 'oti', 'tin', 'ing', 'ng ', 'g S', ' Su', 'Sun', 'und', 'nda', 'day', 'ay ', 'y g', ' ge', 'gen', 'ene', 'ner', 'era', 'ral', 'al ', 'l e', ' el', 'ele', 'lec', 'ect', 'cti', 'tio', 'ion', 'on ', 'n l', ' lo', 'loo', 'ook', 'oke', 'ked', 'ed ', 'd l', ' li', 'lik', 'ike', 'kel', 'ely', 'ly ', 'y b', ' br', 'bri', 'rin', 'ing', 'ng ', 'g r', ' ri', 'rig', 'igh', 'ght', 'ht-', 't-w', '-wi', 'win', 'ing', 'ng ', 'g F', ' Fi', 'Fid', 'ide', 'des', 'esz', 'sz ', 'z p', ' pa', 'par', 'art', 'rty', 'ty ', 'y b', ' ba', 'bac', 'ack', 'ck ', 'k p', ' po', 'pow', 'owe', 'wer', 'er,', 'r, ', ', g', ' gi', 'giv', 'ivi', 'vin', 'ing', 'ng ', 'g f', ' fa', 'far', 'ar-', 'r-r', '-ri', 'rig', 'igh', 'ght', 'ht ', 't J', ' Jo', 'Job', 'obb', 'bbi', 'bik', 'ik ', 'k f', ' fi', 'fir', 'irs', 'rst', 'st ', 't t', ' ti', 'tic', 'ick', 'cke', 'ket', 'et ', 't p', ' pa', 'par', 'arl', 'rli', 'lia', 'iam', 'ame', 'men', 'ent', 'nt.', 't. ', '. F', ' Fr', 'Fre', 'ren', 'enc', 'nch', 'ch ', 'h g', ' go', 'gov', 'ove', 'ver', 'ern', 'rnm', 'nme', 'men', 'ent', 'nt ', 't w', ' wa', 'war', 'arn', 'rne', 'ned', 'ed ', 'd U', ' Un', 'Uni', 'nit', 'ite', 'ted', 'ed ', 'd S', ' St', 'Sta', 'tat', 'ate', 'tes', 'es ', 's m', ' mi', 'mig', 'igh', 'ght', 'ht ', 't e', ' en', 'end', 'nd ', 'd c', ' co', 'coo', 'oop', 'ope', 'per', 'era', 'rat', 'ati', 'tio', 'ion', 'on ', 'n i', ' in', 'inv', 'nve', 'ves', 'est', 'sti', 'tig', 'iga', 'gat', 'ati', 'tio', 'ion', 'on ', 'n Z', ' Za', 'Zac', 'aca', 'car', 'ari', 'ria', 'ias', 'as ', 's M', ' Mo', 'Mou', 'ous', 'uss', 'ssa', 'sao', 'aou', 'oui', 'ui,', 'i, ', ', F', ' Fr', 'Fre', 'ren', 'enc', 'nch', 'ch ', 'h c', ' ci', 'cit', 'iti', 'tiz', 'ize', 'zen', 'en ', 'n p', ' pe', 'per', 'ers', 'rso', 'son', 'on ', 'n c', ' ch', 'cha', 'har', 'arg', 'rge', 'ged', 'ed ', 'd f', ' fa', 'far', 'ar ', 'r S', ' Se', 'Sep', 'ept', 'pt.', 't. ', '. 1', ' 11', '11 ', '1 t', ' te', 'ter', 'err', 'rro', 'ror', 'ori', 'ris', 'ist', 'st ', 't a', ' at', 'att', 'tta', 'tac', 'ack', 'cks', 'ks,', 's, ', ', U', ' Un', 'Uni', 'nit', 'ite', 'ted', 'ed ', 'd S', ' St', 'Sta', 'tat', 'ate', 'tes', 'es ', 's s', ' se', 'see', 'eek', 'eks', 'ks ', 's d', ' de', 'dea', 'eat', 'ath', 'th ', 'h p', ' pe', 'pen', 'ena', 'nal', 'alt', 'lty', 'ty ', 'y c', ' ca', 'cas', 'ase', 'se,', 'e, ', ', U', ' U.', 'U.S', '.S.', 'S. ', '. 1', ' 1,', '1,0', ',00', '000', '00 ', '0 i', ' il', 'ill', 'lle', 'leg', 'ega', 'gal', 'al ', 'l i', ' im', 'imm', 'mmi', 'mig', 'igr', 'gra', 'ran', 'ant', 'nts', 'ts ', 's l', ' la', 'lan', 'and', 'nde', 'ded', 'ed ', 'd I', ' It', 'Ita', 'tal', 'aly', \"ly'\", \"y's\", \"'s \", 's s', ' so', 'sou', 'out', 'uth', 'the', 'her', 'ern', 'rn ', 'n c', ' co', 'coa', 'oas', 'ast', 'st ', 't p', ' pa', 'pas', 'ast', 'st ', 't 2', ' 24', '24 ', '4 h', ' ho', 'hou', 'our', 'urs', 'rs ', 's a', ' au', 'aut', 'uth', 'tho', 'hor', 'ori', 'rit', 'iti', 'tie', 'ies', 'es ', 's s', ' sa', 'sai', 'aid', 'id ', 'd T', ' Tu', 'Tue', 'ues', 'esd', 'sda', 'day', 'ay ', 'y e', ' ex', 'exp', 'xpe', 'pec', 'ect', 'cti', 'tin', 'ing', 'ng ', 'g \"', ' \"o', '\"ov', 'ove', 'ver', 'er ', 'r t', ' th', 'tho', 'hou', 'ous', 'usa', 'san', 'and', 'nd ', 'd m', ' mo', 'mor', 'ore', 're\"', 'e\".', '\". ', '. S', ' Sa', 'San', 'an ', 'n B', ' Be', 'Ber', 'ern', 'rna', 'nar', 'ard', 'rdi', 'din', 'ino', 'no ', 'o C', ' Co', 'Cou', 'oun', 'unt', 'nty', 'ty ', 'y j', ' ju', 'jur', 'ury', 'ry ', 'y T', ' Th', 'Thu', 'hur', 'urs', 'rsd', 'sda', 'day', 'ay ', 'y a', ' ac', 'acq', 'cqu', 'qui', 'uit', 'itt', 'tte', 'ted', 'ed ', 'd f', ' fo', 'for', 'orm', 'rme', 'mer', 'er ', 'r s', ' sh', 'she', 'her', 'eri', 'rif', 'iff', \"ff'\", \"f's\", \"'s \", 's d', ' de', 'dep', 'epu', 'put', 'uty', 'ty ', 'y a', ' at', 'att', 'tte', 'tem', 'emp', 'mpt', 'pte', 'ted', 'ed ', 'd v', ' vo', 'vol', 'olu', 'lun', 'unt', 'nta', 'tar', 'ary', 'ry ', 'y m', ' ma', 'man', 'ans', 'nsl', 'sla', 'lau', 'aug', 'ugh', 'ght', 'hte', 'ter', 'er ', 'r o', ' op', 'ope', 'pen', 'eni', 'nin', 'ing', 'ng ', 'g f', ' fi', 'fir', 'ire', 're ', 'e u', ' un', 'una', 'nar', 'arm', 'rme', 'med', 'ed,', 'd, ', ', o', ' of', 'off', 'ff-', 'f-d', '-du', 'dut', 'uty', 'ty ', 'y A', ' Ai', 'Air', 'ir ', 'r F', ' Fo', 'For', 'orc', 'rce', 'ce ', 'e p', ' po', 'pol', 'oli', 'lic', 'ice', 'ce ', 'e o', ' of', 'off', 'ffi', 'fic', 'ice', 'cer', 'er ', 'r h', ' hi', 'hig', 'igh', 'gh-', 'h-s', '-sp', 'spe', 'pee', 'eed', 'ed ', 'd c', ' ch', 'cha', 'has', 'ase', 'se ', 'e l', ' la', 'las', 'ast', 'st ', 't y', ' ye', 'yea', 'ear', 'ar,', 'r, ', ', b', ' br', 'bru', 'rut', 'uta', 'tal', 'al ', 'l s', ' sh', 'sho', 'hoo', 'oot', 'oti', 'tin', 'ing', 'ng ', 'g v', ' vi', 'vid', 'ide', 'deo', 'eot', 'ota', 'tap', 'ape', 'ped', 'ed ', 'd b', ' by', 'bys', 'yst', 'sta', 'tan', 'and', 'nde', 'der', 'er ', 'r a', ' ai', 'air', 'ire', 'red', 'ed ', 'd n', ' na', 'nat', 'ati', 'tio', 'ion', 'onw', 'nwi', 'wid', 'ide', 'de.', 'e. ', '. c', ' co', 'com', 'omp', 'mpu', 'put', 'ute', 'ter', 'ers', 'rs ', 's s', ' sh', 'shr', 'hri', 'rin', 'ink', 'nk ', 'k s', ' si', 'siz', 'ize', 'ze ', 'e o', ' ou', 'out', 'uth', 'tho', 'hou', 'ous', 'use', 'se ', 'e d', ' di', 'dim', 'ime', 'men', 'ens', 'nsi', 'sio', 'ion', 'ons', 'ns ', 's p', ' pa', 'pac', 'ack', 'ck ', 'k c', ' ci', 'cig', 'iga', 'gar', 'are', 'ret', 'ett', 'tte', 'tes', 'es,', 's, ', ', i', ' in', 'inv', 'nve', 'ven', 'ent', 'nto', 'tor', 'ors', 'rs ', 's h', ' ha', 'hat', 'atc', 'tch', 'chi', 'hin', 'ing', 'ng ', 'g s', ' sc', 'sca', 'cad', 'ads', 'ds ', 's u', ' us', 'use', 'ses', 'es ', 's t', ' th', 'the', 'hem', 'em.', 'm. ', '. M', ' Mi', 'Min', 'ini', 'nis', 'ist', 'str', 'try', 'ry ', 'y C', ' Cu', 'Cul', 'ult', 'ltu', 'tur', 'ure', 're ', 'e n', ' no', 'nom', 'omi', 'min', 'ina', 'nat', 'ate', 'ted', 'ed ', 'd e', ' ei', 'eig', 'igh', 'ght', 'ht ', 't s', ' so', 'son', 'ong', 'ngs', 'gs ', 's m', ' ma', 'mar', 'ark', 'rk ', 'k 5', ' 50', '50t', '0th', 'th ', 'h a', ' an', 'ann', 'nni', 'niv', 'ive', 'ver', 'ers', 'rsa', 'sar', 'ary', 'ry ', 'y o', ' op', 'ope', 'per', 'era', 'rat', 'ati', 'tio', 'ion', 'ons', 'ns ', 's C', ' Ch', 'Chi', 'hin', 'ine', 'nes', 'ese', 'se ', 'e P', ' Pe', 'Peo', 'eop', 'opl', 'ple', \"le'\", \"e's\", \"'s \", 's V', ' Vo', 'Vol', 'olu', 'lun', 'unt', 'nte', 'tee', 'eer', 'ers', 'rs ', 's (', ' (C', '(CP', 'CPV', 'PV)', 'V) ', ') W', ' Wa', 'War', 'ar ', 'r R', ' Re', 'Res', 'esi', 'sis', 'ist', 'st ', 't U', ' U.', 'U.S', '.S.', 'S. ', '. A', ' Ag', 'Agg', 'ggr', 'gre', 'res', 'ess', 'ssi', 'sio', 'ion', 'on ', 'n A', ' Ai', 'Aid', 'id ', 'd K', ' Ko', 'Kor', 'ore', 'rea', 'ea ', 'a (', ' (1', '(19', '195', '950', '50-', '0-5', '-53', '53)', '3).', ').\\n'], ['t12', '122', '22 ', '2 M', ' Ma', 'Mal', 'ala', 'lay', 'ays', 'ysi', 'sia', 'ia ', 'a s', ' sa', 'sai', 'aid', 'id ', 'd F', ' Fr', 'Fri', 'rid', 'ida', 'day', 'ay ', 'y p', ' pl', 'pla', 'lan', 'ans', 'ns ', 's o', ' ov', 'ove', 'ver', 'err', 'rre', 'reg', 'egu', 'gul', 'ula', 'lat', 'ate', 'te ', 'e e', ' em', 'eme', 'mer', 'erg', 'rgi', 'gin', 'ing', 'ng ', 'g f', ' fi', 'fin', 'ina', 'nan', 'anc', 'nci', 'cia', 'ial', 'al ', 'l f', ' fu', 'fut', 'utu', 'tur', 'ure', 'res', 'es ', 's m', ' ma', 'mar', 'ark', 'rke', 'ket', 'ets', 'ts ', 's a', ' am', 'ami', 'mid', 'id ', 'd g', ' gl', 'glo', 'lob', 'oba', 'bal', 'al ', 'l c', ' co', 'con', 'onc', 'nce', 'cer', 'ern', 'rn ', 'n f', ' fi', 'fin', 'ina', 'nan', 'anc', 'nci', 'cia', 'ial', 'al ', 'l d', ' de', 'der', 'eri', 'riv', 'iva', 'vat', 'ati', 'tiv', 'ive', 'ves', 'es ', 's f', ' fi', 'fia', 'ias', 'asc', 'sco', 'co,', 'o, ', ', w', ' wr', 'wre', 'rec', 'eck', 'cke', 'ked', 'ed ', 'd B', ' Br', 'Bri', 'rit', 'iti', 'tis', 'ish', 'sh ', 'h m', ' me', 'mer', 'erc', 'rch', 'cha', 'han', 'ant', 'nt ', 't b', ' ba', 'ban', 'ank', 'nk ', 'k B', ' Ba', 'Bar', 'ari', 'rin', 'ing', 'ngs', 'gs.', 's. ', '. F', ' Fo', 'For', 'orm', 'rme', 'mer', 'er ', 'r T', ' Ta', 'Tai', 'aiw', 'iwa', 'wan', 'ane', 'nes', 'ese', 'se ', 'e P', ' Pr', 'Pre', 'res', 'esi', 'sid', 'ide', 'den', 'ent', 'nt ', 't L', ' Le', 'Lee', 'ee ', 'e T', ' Te', 'Ten', 'eng', 'ng-', 'g-h', '-hu', 'hui', 'ui ', 'i r', ' re', 'rei', 'eit', 'ite', 'ter', 'era', 'rat', 'ate', 'ted', 'ed ', 'd i', ' is', 'isl', 'sla', 'lan', 'and', 'nd ', 'd i', ' in', 'ind', 'nde', 'dep', 'epe', 'pen', 'end', 'nde', 'den', 'ent', 'nt ', 't C', ' Ch', 'Chi', 'hin', 'ina', 'na,', 'a, ', ', s', ' sl', 'sla', 'lam', 'amm', 'mme', 'med', 'ed ', 'd B', ' Be', 'Bei', 'eij', 'iji', 'jin', 'ing', 'ng ', 'g c', ' cr', 'cri', 'rit', 'iti', 'tic', 'ici', 'cis', 'ism', 'sm ', 'm v', ' vi', 'vis', 'isi', 'sit', 'it ', 't T', ' To', 'Tok', 'oky', 'kyo', 'yo ', 'o w', ' wa', 'war', 'ar ', 'r s', ' sh', 'shr', 'hri', 'rin', 'ine', 'ne,', 'e, ', ', w', ' wr', 'wra', 'rap', 'app', 'ppe', 'ped', 'ed ', 'd v', ' vi', 'vis', 'isi', 'sit', 'it ', 't J', ' Ja', 'Jap', 'apa', 'pan', 'an ', 'n S', ' Sa', 'Sat', 'atu', 'tur', 'urd', 'rda', 'day', 'ay.', 'y. ', '. S', ' Su', 'Sup', 'upp', 'ppo', 'por', 'ort', 'rte', 'ter', 'ers', 'rs ', 's I', ' Ir', 'Ira', 'raq', 'aqi', 'qi ', 'i P', ' Pr', 'Pri', 'rim', 'ime', 'me ', 'e M', ' Mi', 'Min', 'ini', 'nis', 'ist', 'ste', 'ter', 'er ', 'r N', ' Nu', 'Nur', 'uri', 'ri ', 'i a', ' al', 'al-', 'l-M', '-Ma', 'Mal', 'ali', 'lik', 'iki', 'ki,', 'i, ', ', b', ' be', 'bea', 'eat', 'ate', 'ten', 'en ', 'n s', ' se', 'sec', 'eco', 'con', 'ond', 'nd ', 'd p', ' pl', 'pla', 'lac', 'ace', 'ce ', 'e g', ' ge', 'gen', 'ene', 'ner', 'era', 'ral', 'al ', 'l e', ' el', 'ele', 'lec', 'ect', 'cti', 'tio', 'ion', 'on ', 'n l', ' la', 'las', 'ast', 'st ', 't m', ' mo', 'mon', 'ont', 'nth', 'th,', 'h, ', ', l', ' lo', 'lod', 'odg', 'dge', 'ged', 'ed ', 'd p', ' pr', 'pro', 'rot', 'ote', 'tes', 'est', 'st ', 't S', ' Su', 'Sun', 'und', 'nda', 'day', 'ay ', 'y s', ' sa', 'sai', 'aid', 'id ', 'd l', ' lo', 'los', 'oss', 'ss ', 's 7', ' 75', '750', '50,', '0,0', ',00', '000', '00 ', '0 v', ' vo', 'vot', 'ote', 'tes', 'es.', 's. ', '. E', ' ED', 'EDM', 'DMO', 'MON', 'ONT', 'NTO', 'TON', 'ON,', 'N, ', ', A', ' Al', 'Alb', 'lbe', 'ber', 'ert', 'rta', 'ta ', 'a -', ' - ', '- t', ' te', 'tea', 'eam', 'am ', 'm d', ' di', 'din', 'inn', 'nne', 'ner', 'ers', 'rs,', 's, ', ', b', ' bo', 'bon', 'ond', 'ndi', 'din', 'ing', 'ng ', 'g s', ' se', 'ses', 'ess', 'ssi', 'sio', 'ion', 'ons', 'ns.', 's. ', '. L', ' Lo', 'Los', 'os ', 's A', ' An', 'Ang', 'nge', 'gel', 'ele', 'les', 'es ', 's K', ' Ki', 'Kin', 'ing', 'ngs', 'gs ', 's s', ' sa', 'say', 'ay ', 'y a', ' ar', 'are', 'ren', \"en'\", \"n't\", \"'t \", 't g', ' go', 'goi', 'oin', 'ing', 'ng ', 'g l', ' le', 'let', 'et ', 't t', ' tw', 'two', 'wo ', 'o b', ' ba', 'bad', 'ad ', 'd g', ' ga', 'gam', 'ame', 'mes', 'es ', 's s', ' sp', 'spo', 'poi', 'oil', 'il ', 'l f', ' fo', 'fou', 'our', 'ur ', 'r g', ' go', 'goo', 'ood', 'od ', 'd m', ' mo', 'mon', 'ont', 'nth', 'ths', 'hs.', 's. ', '. S', ' Si', 'Sin', 'inn', 'nn ', 'n F', ' Fe', 'Fei', 'ein', 'in,', 'n, ', ', I', ' Ir', 'Iri', 'ris', 'ish', 'sh ', 'h R', ' Re', 'Rep', 'epu', 'pub', 'ubl', 'bli', 'lic', 'ica', 'can', 'an ', 'n A', ' Ar', 'Arm', 'rmy', \"my'\", \"y's\", \"'s \", 's p', ' po', 'pol', 'oli', 'lit', 'iti', 'tic', 'ica', 'cal', 'al ', 'l w', ' wi', 'win', 'ing', 'ng,', 'g, ', ', p', ' pl', 'pla', 'lac', 'ace', 'ce ', 'e N', ' No', 'Nor', 'ort', 'rth', 'the', 'her', 'ern', 'rn ', 'n I', ' Ir', 'Ire', 'rel', 'ela', 'lan', 'and', 'nd ', 'd p', ' po', 'pol', 'oli', 'lit', 'iti', 'tic', 'ics', 'cs,', 's, ', ', U', ' US', 'US ', 'S S', ' Se', 'Sen', 'ena', 'nat', 'ato', 'tor', 'or ', 'r T', ' Te', 'Ted', 'ed ', 'd K', ' Ke', 'Ken', 'enn', 'nne', 'ned', 'edy', 'dy ', 'y s', ' sa', 'sai', 'aid', 'id ', 'd T', ' Tu', 'Tue', 'ues', 'esd', 'sda', 'day', 'ay,', 'y, ', ', e', ' ex', 'exp', 'xpl', 'pla', 'lai', 'ain', 'ini', 'nin', 'ing', 'ng ', 'g r', ' re', 'ref', 'efu', 'fus', 'usa', 'sal', 'al ', 'l m', ' me', 'mee', 'eet', 'et ', 't w', ' we', 'wee', 'eek', 'ek ', 'k G', ' Ge', 'Ger', 'err', 'rry', 'ry ', 'y A', ' Ad', 'Ada', 'dam', 'ams', 'ms,', 's, ', ', g', ' gr', 'gro', 'rou', 'oup', \"up'\", \"p's\", \"'s \", 's l', ' le', 'lea', 'ead', 'ade', 'der', 'er.', 'r. ', '. g', ' gu', 'gun', 'un ', 'n k', ' ki', 'kil', 'ill', 'lle', 'led', 'ed ', 'd L', ' La', 'Lan', 'ana', 'na ', 'a C', ' Cl', 'Cla', 'lar', 'ark', 'rks', 'kso', 'son', 'on ', 'n h', ' ha', 'han', 'and', 'nds', 'ds ', 's P', ' Ph', 'Phi', 'hil', 'il ', 'l S', ' Sp', 'Spe', 'pec', 'ect', 'cto', 'tor', \"or'\", \"r's\", \"'s,\", 's, ', ', d', ' de', 'def', 'efe', 'fen', 'ens', 'nse', 'se ', 'e e', ' ex', 'exp', 'xpe', 'per', 'ert', 'rt ', 't i', ' in', 'ins', 'nsi', 'sis', 'ist', 'ste', 'ted', 'ed ', 'd T', ' Th', 'Thu', 'hur', 'urs', 'rsd', 'sda', 'day', 'ay ', 'y s', ' se', 'sec', 'eco', 'con', 'ond', 'nd ', 'd d', ' da', 'day', 'ay ', 'y t', ' te', 'tes', 'est', 'sty', 'ty ', 'y c', ' cr', 'cro', 'ros', 'oss', 'ss-', 's-e', '-ex', 'exa', 'xam', 'ami', 'min', 'ina', 'nat', 'ati', 'tio', 'ion', 'on.', 'n. ', '. P', ' Pr', 'Pre', 'res', 'esi', 'sid', 'ide', 'den', 'ent', 'nt ', 't B', ' Bu', 'Bus', 'ush', 'sh,', 'h, ', ', d', ' de', 'des', 'esc', 'scr', 'cri', 'rib', 'ibe', 'bed', 'ed ', 'd u', ' up', 'ups', 'pse', 'set', 'et ', 't M', ' Mu', 'Mus', 'usl', 'sli', 'lim', 'im ', 'm i', ' in', 'int', 'nte', 'ter', 'ern', 'rn ', 'n o', ' or', 'ord', 'rde', 'der', 'ere', 'red', 'ed ', 'd W', ' Wh', 'Whi', 'hit', 'ite', 'te ', 'e H', ' Ho', 'Hou', 'ous', 'use', 'se,', 'e, ', ', i', ' is', 'iss', 'ssu', 'sue', 'ued', 'ed ', 'd a', ' ap', 'apo', 'pol', 'olo', 'log', 'ogy', 'gy ', 'y F', ' Fr', 'Fri', 'rid', 'ida', 'day', 'ay ', 'y i', ' in', 'inc', 'nci', 'cid', 'ide', 'den', 'ent', 'nt.', 't. ', '. T', ' Ti', 'Tia', 'ian', 'an ', 'n J', ' Ji', 'Jiy', 'iyu', 'yun', 'un,', 'n, ', ', v', ' vi', 'vic', 'ice', 'ce ', 'e c', ' ch', 'cha', 'hai', 'air', 'irm', 'rma', 'man', 'an ', 'n S', ' St', 'Sta', 'tan', 'and', 'ndi', 'din', 'ing', 'ng ', 'g C', ' Co', 'Com', 'omm', 'mmi', 'mit', 'itt', 'tte', 'tee', 'ee ', 'e N', ' Na', 'Nat', 'ati', 'tio', 'ion', 'ona', 'nal', 'al ', 'l P', ' Pe', 'Peo', 'eop', 'opl', 'ple', \"le'\", \"e's\", \"'s \", 's C', ' Co', 'Con', 'ong', 'ngr', 'gre', 'res', 'ess', 'ss ', 's (', ' (N', '(NP', 'NPC', 'PC)', 'C),', '), ', ', p', ' pr', 'pra', 'rai', 'ais', 'ise', 'sed', 'ed ', 'd S', ' Sh', 'Sha', 'han', 'ang', 'ngh', 'gha', 'hai', 'ai ', 'i n', ' ne', 'new', 'ew ', 'w e', ' ec', 'eco', 'con', 'ono', 'nom', 'omi', 'mic', 'ic ', 'c s', ' so', 'soc', 'oci', 'cia', 'ial', 'al ', 'l p', ' pr', 'pro', 'rog', 'ogr', 'gre', 'res', 'ess', 'ss.', 's.\\n'], ['t12', '123', '23 ', '3 S', ' So', 'Sou', 'out', 'uth', 'th ', 'h K', ' Ko', 'Kor', 'ore', 'rea', 'ea ', 'a r', ' re', 'red', 'edo', 'dou', 'oub', 'ubl', 'bli', 'lin', 'ing', 'ng ', 'g e', ' ef', 'eff', 'ffo', 'for', 'ort', 'rts', 'ts ', 's b', ' be', 'beh', 'ehi', 'hin', 'ind', 'nd ', 'd K', ' Ki', 'Kim', 'im ', 'm C', ' Ch', 'Chu', 'hul', 'ul-', 'l-S', '-Su', 'Su,', 'u, ', ', A', ' As', 'Asi', 'sia', \"ia'\", \"a's\", \"'s \", 's c', ' ca', 'can', 'and', 'ndi', 'did', 'ida', 'dat', 'ate', 'te ', 'e h', ' he', 'hea', 'ead', 'ad ', 'd n', ' ne', 'new', 'ew ', 'w W', ' Wo', 'Wor', 'orl', 'rld', 'ld ', 'd T', ' Tr', 'Tra', 'rad', 'ade', 'de ', 'e O', ' Or', 'Org', 'rga', 'gan', 'ani', 'niz', 'iza', 'zat', 'ati', 'tio', 'ion', 'on ', 'n (', ' (W', '(WT', 'WTO', 'TO)', 'O),', '), ', ', d', ' de', 'des', 'esp', 'spi', 'pit', 'ite', 'te ', 'e A', ' Am', 'Ame', 'mer', 'eri', 'ric', 'ica', 'can', 'an ', 'n c', ' ca', 'cal', 'all', 'll ', 'l r', ' re', 'res', 'est', 'sta', 'tar', 'art', 'rt ', 't e', ' en', 'ent', 'nti', 'tir', 'ire', 're ', 'e s', ' se', 'sel', 'ele', 'lec', 'ect', 'cti', 'tio', 'ion', 'on ', 'n p', ' pr', 'pro', 'roc', 'oce', 'ces', 'ess', 'ss,', 's, ', ', f', ' fo', 'for', 'ore', 'rei', 'eig', 'ign', 'gn ', 'n m', ' mi', 'min', 'ini', 'nis', 'ist', 'str', 'try', 'ry ', 'y s', ' so', 'sou', 'our', 'urc', 'rce', 'ces', 'es ', 's s', ' sa', 'sai', 'aid', 'id ', 'd F', ' Fr', 'Fri', 'rid', 'ida', 'day', 'ay.', 'y. ', '. F', ' Fo', 'For', 'orm', 'rme', 'mer', 'er ', 'r T', ' Ta', 'Tai', 'aiw', 'iwa', 'wan', 'ane', 'nes', 'ese', 'se ', 'e P', ' Pr', 'Pre', 'res', 'esi', 'sid', 'ide', 'den', 'ent', 'nt ', 't L', ' Le', 'Lee', 'ee ', 'e T', ' Te', 'Ten', 'eng', 'ng-', 'g-h', '-hu', 'hui', 'ui ', 'i r', ' re', 'rei', 'eit', 'ite', 'ter', 'era', 'rat', 'ate', 'ted', 'ed ', 'd s', ' st', 'sta', 'tan', 'anc', 'nce', 'ce ', 'e i', ' is', 'isl', 'sla', 'lan', 'and', 'nd ', 'd i', ' in', 'ind', 'nde', 'dep', 'epe', 'pen', 'end', 'nde', 'den', 'ent', 'nt ', 't C', ' Ch', 'Chi', 'hin', 'ina', 'na,', 'a, ', ', s', ' sl', 'sla', 'lam', 'amm', 'mme', 'med', 'ed ', 'd B', ' Be', 'Bei', 'eij', 'iji', 'jin', 'ing', 'ng ', 'g c', ' cr', 'cri', 'rit', 'iti', 'tic', 'ici', 'cis', 'ism', 'sm ', 'm v', ' vi', 'vis', 'isi', 'sit', 'it ', 't T', ' To', 'Tok', 'oky', 'kyo', 'yo ', 'o w', ' wa', 'war', 'ar ', 'r s', ' sh', 'shr', 'hri', 'rin', 'ine', 'ne,', 'e, ', ', w', ' wr', 'wra', 'rap', 'app', 'ppe', 'ped', 'ed ', 'd v', ' vi', 'vis', 'isi', 'sit', 'it ', 't J', ' Ja', 'Jap', 'apa', 'pan', 'an ', 'n S', ' Sa', 'Sat', 'atu', 'tur', 'urd', 'rda', 'day', 'ay.', 'y. ', '. P', ' Po', 'Pol', 'oli', 'lis', 'ish', 'sh ', 'h m', ' mi', 'mil', 'ili', 'lit', 'ita', 'tar', 'ary', 'ry ', 'y p', ' pl', 'pla', 'lan', 'ane', 'ne ', 'e c', ' ca', 'car', 'arr', 'rry', 'ryi', 'yin', 'ing', 'ng ', 'g h', ' ho', 'hom', 'ome', 'me ', 'e b', ' bo', 'bod', 'ody', 'dy ', 'y P', ' Pr', 'Pre', 'res', 'esi', 'sid', 'ide', 'den', 'ent', 'nt ', 't L', ' Le', 'Lec', 'ech', 'ch ', 'h K', ' Ka', 'Kac', 'acz', 'czy', 'zyn', 'yns', 'nsk', 'ski', 'ki ', 'i R', ' Ru', 'Rus', 'uss', 'ssi', 'sia', 'ia ', 'a d', ' de', 'del', 'ela', 'lay', 'aye', 'yed', 'ed ', 'd S', ' Su', 'Sun', 'und', 'nda', 'day', 'ay,', 'y, ', ', c', ' co', 'cou', 'oun', 'unt', 'ntr', 'try', \"ry'\", \"y's\", \"'s \", 's d', ' de', 'def', 'efe', 'fen', 'enc', 'nce', 'ce ', 'e m', ' mi', 'min', 'ini', 'nis', 'ist', 'str', 'try', 'ry ', 'y s', ' sa', 'sai', 'aid', 'id.', 'd. ', '. a', ' aw', 'awf', 'wfu', 'ful', 'ul ', 'l n', ' ne', 'new', 'ews', 'ws ', 's p', ' pr', 'pri', 'rie', 'ies', 'est', 'sts', 'ts ', 's f', ' fo', 'for', 'orc', 'rci', 'cin', 'ing', 'ng ', 'g s', ' se', 'sex', 'ex ', 'x a', ' al', 'alt', 'lta', 'tar', 'ar ', 'r b', ' bo', 'boy', 'oys', 'ys ', 's i', ' is', 'is,', 's, ', ', m', ' ma', 'man', 'any', 'ny ', 'y f', ' fa', 'fai', 'ait', 'ith', 'thf', 'hfu', 'ful', 'ul ', 'l s', ' si', 'sit', 'it ', 't p', ' pe', 'pew', 'ew ', 'w S', ' Su', 'Sun', 'und', 'nda', 'day', 'ay,', 'y, ', ', r', ' re', 'rea', 'eac', 'act', 'cti', 'tio', 'ion', 'on ', 'n R', ' Ro', 'Rom', 'oma', 'man', 'an ', 'n C', ' Ca', 'Cat', 'ath', 'tho', 'hol', 'oli', 'lic', 'ic ', 'c C', ' Ch', 'Chu', 'hur', 'urc', 'rch', 'ch ', 'h l', ' le', 'lea', 'ead', 'ade', 'der', 'ers', 'rs ', 's e', ' ev', 'eve', 'ven', 'en ', 'n s', ' sh', 'sho', 'hoc', 'ock', 'cki', 'kin', 'ing', 'ng.', 'g. ', '. a', ' al', 'all', 'll,', 'l, ', ', i', ' in', 'ind', 'ndi', 'div', 'ivi', 'vid', 'idu', 'dua', 'ual', 'al ', 'l i', ' in', 'ins', 'nst', 'sta', 'tan', 'anc', 'nce', 'ces', 'es ', 's s', ' se', 'sex', 'exu', 'xua', 'ual', 'al ', 'l d', ' de', 'dep', 'epr', 'pra', 'rav', 'avi', 'vit', 'ity', 'ty ', 'y u', ' un', 'unf', 'nfa', 'fam', 'ami', 'mil', 'ili', 'lia', 'iar', 'ar ', 'r c', ' ch', 'chu', 'hur', 'urc', 'rch', 'ch.', 'h. ', '. h', ' hi', 'his', 'ist', 'sto', 'tor', 'ori', 'ric', 'ic ', 'c r', ' ru', 'rul', 'uli', 'lin', 'ing', 'ng,', 'g, ', ', D', ' Da', 'Dan', 'ani', 'nis', 'ish', 'sh ', 'h S', ' Su', 'Sup', 'upr', 'pre', 'rem', 'eme', 'me ', 'e C', ' Co', 'Cou', 'our', 'urt', 'rt ', 't T', ' Tu', 'Tue', 'ues', 'esd', 'sda', 'day', 'ay ', 'y d', ' de', 'dec', 'eci', 'cid', 'ide', 'ded', 'ed ', 'd e', ' ex', 'exp', 'xpe', 'pel', 'el ', 'l t', ' tw', 'two', 'wo ', 'o y', ' yo', 'you', 'oun', 'ung', 'ng ', 'g T', ' Tu', 'Tur', 'urk', 'rks', 'ks,', 's, ', ', c', ' co', 'con', 'onv', 'nvi', 'vic', 'ict', 'cte', 'ted', 'ed ', 'd m', ' mu', 'mur', 'urd', 'rde', 'der', 'eri', 'rin', 'ing', 'ng ', 'g I', ' It', 'Ita', 'tal', 'ali', 'lia', 'ian', 'an ', 'n t', ' to', 'tou', 'our', 'uri', 'ris', 'ist', 'st,', 't, ', ', D', ' De', 'Den', 'enm', 'nma', 'mar', 'ark', 'rk ', 'k l', ' li', 'lif', 'ife', 'fe ', 'e e', ' ev', 'eve', 'ven', 'en ', 'n t', ' th', 'tho', 'hou', 'oug', 'ugh', 'gh ', 'h l', ' li', 'liv', 'ive', 'ved', 'ed ', 'd S', ' Sc', 'Sca', 'can', 'and', 'ndi', 'din', 'ina', 'nav', 'avi', 'via', 'ian', 'an ', 'n c', ' co', 'cou', 'oun', 'unt', 'ntr', 'try', 'ry ', 'y e', ' en', 'ent', 'nti', 'tir', 'ire', 're ', 'e l', ' li', 'liv', 'ive', 'ves', 'es.', 's. ', '. P', ' Pr', 'Pre', 'res', 'esi', 'sid', 'ide', 'den', 'ent', 'nt ', 't A', ' Al', 'Alv', 'lva', 'var', 'aro', 'ro ', 'o U', ' Ur', 'Uri', 'rib', 'ibe', 'be ', 'e T', ' Th', 'Thu', 'hur', 'urs', 'rsd', 'sda', 'day', 'ay ', 'y a', ' ac', 'acc', 'ccu', 'cus', 'use', 'sed', 'ed ', 'd C', ' Co', 'Col', 'olo', 'lom', 'omb', 'mbi', 'bia', \"ia'\", \"a's\", \"'s \", 's l', ' la', 'lar', 'arg', 'rge', 'ges', 'est', 'st ', 't r', ' re', 'reb', 'ebe', 'bel', 'el ', 'l g', ' gr', 'gro', 'rou', 'oup', 'up ', 'p k', ' ki', 'kil', 'ill', 'lli', 'lin', 'ing', 'ng ', 'g 1', ' 11', '11 ', '1 c', ' ci', 'civ', 'ivi', 'vil', 'ili', 'lia', 'ian', 'an ', 'n h', ' ho', 'hos', 'ost', 'sta', 'tag', 'age', 'ges', 'es,', 's, ', ', h', ' ho', 'hou', 'our', 'urs', 'rs ', 's g', ' gu', 'gue', 'uer', 'err', 'rri', 'ril', 'ill', 'lla', 'las', 'as ', 's i', ' im', 'imp', 'mpl', 'pli', 'lie', 'ied', 'ed ', 'd b', ' bo', 'bot', 'otc', 'tch', 'che', 'hed', 'ed ', 'd m', ' mi', 'mil', 'ili', 'lit', 'ita', 'tar', 'ary', 'ry ', 'y r', ' re', 'res', 'esc', 'scu', 'cue', 'ue ', 'e o', ' op', 'ope', 'per', 'era', 'rat', 'ati', 'tio', 'ion', 'on ', 'n b', ' bl', 'bla', 'lam', 'ame', 'me ', 'e d', ' de', 'dea', 'eat', 'ath', 'ths', 'hs.', 's. ', '. P', ' Pr', 'Pre', 'rem', 'emi', 'mie', 'ier', 'er ', 'r S', ' Si', 'Sil', 'ilv', 'lvi', 'vio', 'io ', 'o B', ' Be', 'Ber', 'erl', 'rlu', 'lus', 'usc', 'sco', 'con', 'oni', \"ni'\", \"i's\", \"'s \", 's h', ' ho', 'hol', 'old', 'ldi', 'din', 'ing', 'ng ', 'g c', ' co', 'com', 'omp', 'mpa', 'pan', 'any', 'ny,', 'y, ', ', F', ' Fi', 'Fin', 'ini', 'nin', 'inv', 'nve', 'ves', 'est', 'st ', 't S', ' Sp', 'SpA', 'pA,', 'A, ', ', F', ' Fr', 'Fri', 'rid', 'ida', 'day', 'ay ', 'y d', ' de', 'den', 'eni', 'nie', 'ied', 'ed ', 'd c', ' co', 'con', 'ons', 'nse', 'ser', 'erv', 'rva', 'vat', 'ati', 'tiv', 'ive', 've ', 'e m', ' me', 'med', 'edi', 'dia', 'ia ', 'a m', ' mo', 'mog', 'ogu', 'gul', 'ul ', 'l f', ' fa', 'fal', 'als', 'lsi', 'sif', 'ifi', 'fie', 'ied', 'ed ', 'd f', ' fi', 'fin', 'ina', 'nan', 'anc', 'nci', 'cia', 'ial', 'al ', 'l a', ' ac', 'acc', 'cco', 'cou', 'oun', 'unt', 'nts', 'ts ', 's a', ' al', 'all', 'lle', 'leg', 'ege', 'ged', 'ed ', 'd p', ' pr', 'pro', 'ros', 'ose', 'sec', 'ecu', 'cut', 'uto', 'tor', 'ors', 'rs ', 's s', ' se', 'see', 'eek', 'eki', 'kin', 'ing', 'ng ', 'g o', ' op', 'ope', 'pen', 'en ', 'n n', ' ne', 'new', 'ew ', 'w c', ' ca', 'cas', 'ase', 'se ', 'e B', ' Be', 'Ber', 'erl', 'rlu', 'lus', 'usc', 'sco', 'con', 'oni', 'ni.', 'i. ', '. T', ' Ta', 'Tai', 'aiw', 'iwa', 'wan', 'an ', 'n s', ' st', 'sto', 'toc', 'ock', 'cks', 'ks ', 's c', ' cl', 'clo', 'los', 'ose', 'sed', 'ed ', 'd s', ' sh', 'sha', 'har', 'arp', 'rpl', 'ply', 'ly ', 'y h', ' hi', 'hig', 'igh', 'ghe', 'her', 'er ', 'r F', ' Fr', 'Fri', 'rid', 'ida', 'day', 'ay,', 'y, ', ', p', ' pr', 'pro', 'rom', 'omp', 'mpt', 'pte', 'ted', 'ed ', 'd s', ' st', 'str', 'tro', 'ron', 'ong', 'ng ', 'g r', ' re', 'reb', 'ebo', 'bou', 'oun', 'und', 'nd ', 'd U', ' U.', 'U.S', '.S.', 'S. ', '. s', ' st', 'sto', 'toc', 'ock', 'ck ', 'k p', ' pr', 'pri', 'ric', 'ice', 'ces', 'es,', 's, ', ', a', ' ac', 'acc', 'cco', 'cor', 'ord', 'rdi', 'din', 'ing', 'ng ', 'g l', ' lo', 'loc', 'oca', 'cal', 'al ', 'l m', ' me', 'med', 'edi', 'dia', 'ia.', 'a.\\n'], ['t12', '124', '24 ', '4 P', ' Ph', 'Phi', 'hil', 'ili', 'lip', 'ipp', 'ppi', 'pin', 'ine', 'ne ', 'e s', ' su', 'sub', 'ubs', 'bsi', 'sid', 'idi', 'dia', 'iar', 'ary', 'ry ', 'y U', ' US', 'US ', 'S t', ' te', 'tel', 'ele', 'lec', 'eco', 'com', 'omm', 'mmu', 'mun', 'uni', 'nic', 'ica', 'cat', 'ati', 'tio', 'ion', 'ons', 'ns ', 's f', ' fi', 'fir', 'irm', 'rm ', 'm C', ' Co', 'Cor', 'orp', 'rp.', 'p. ', '. s', ' si', 'sig', 'ign', 'gn ', 'n 4', ' 40', '400', '00 ', '0 m', ' mi', 'mil', 'ill', 'lli', 'lio', 'ion', 'on-', 'n-d', '-do', 'dol', 'oll', 'lla', 'lar', 'ar ', 'r s', ' su', 'sup', 'upp', 'ppl', 'ply', 'ly ', 'y c', ' co', 'con', 'ont', 'ntr', 'tra', 'rac', 'act', 'ct ', 't T', ' Th', 'Tha', 'hai', 'ai-', 'i-P', '-Ph', 'Phi', 'hil', 'ili', 'lip', 'ipp', 'ppi', 'pin', 'ine', 'ne ', 'e j', ' jo', 'joi', 'oin', 'int', 'nt ', 't v', ' ve', 'ven', 'ent', 'ntu', 'tur', 'ure', 're ', 'e I', ' Is', 'Isl', 'sla', 'la ', 'a C', ' Co', 'Com', 'omm', 'mmu', 'mun', 'uni', 'nic', 'ica', 'cat', 'ati', 'tio', 'ion', 'ons', 'ns ', 's C', ' Co', 'Co.', 'o. ', '. I', ' In', 'Inc', 'nc.', 'c. ', '. (', ' (I', '(Is', 'Isl', 'sla', 'lac', 'aco', 'com', 'om)', 'm),', '), ', ', o', ' of', 'off', 'ffi', 'fic', 'ici', 'cia', 'ial', 'al ', 'l s', ' sa', 'sai', 'aid', 'id ', 'd F', ' Fr', 'Fri', 'rid', 'ida', 'day', 'ay.', 'y. ', '. U', ' U.', 'U.S', '.S.', 'S. ', '. P', ' Pr', 'Pre', 'res', 'esi', 'sid', 'ide', 'den', 'ent', 'nt ', 't G', ' Ge', 'Geo', 'eor', 'org', 'rge', 'ge ', 'e W', ' W.', 'W. ', '. B', ' Bu', 'Bus', 'ush', 'sh ', 'h s', ' sa', 'say', 'ays', 'ys ', 's \"', ' \"b', '\"be', 'be ', 'e l', ' li', 'lis', 'ist', 'ste', 'ten', 'eni', 'nin', 'ing', 'ng ', 'g m', ' mo', 'mod', 'ode', 'de\"', 'e\" ', '\" m', ' me', 'mee', 'eet', 'ets', 'ts ', 's P', ' Po', 'Pop', 'ope', 'pe ', 'e B', ' Be', 'Ben', 'ene', 'ned', 'edi', 'dic', 'ict', 'ct ', 't X', ' XV', 'XVI', 'VI ', 'I f', ' fi', 'fir', 'irs', 'rst', 'st ', 't t', ' ti', 'tim', 'ime', 'me ', 'e S', ' Sa', 'Sat', 'atu', 'tur', 'urd', 'rda', 'day', 'ay.', 'y. ', '. g', ' go', 'goo', 'ood', 'od ', 'd t', ' th', 'thi', 'hin', 'ing', 'ng,', 'g, ', ', P', ' Po', 'Pop', 'ope', 'pe ', 'e l', ' lo', 'lot', 'ot ', 't s', ' sa', 'say', 'ay.', 'y. ', '. H', ' Hu', 'Hum', 'uma', 'man', 'an ', 'n R', ' Ri', 'Rig', 'igh', 'ght', 'hts', 'ts ', 's W', ' Wa', 'Wat', 'atc', 'tch', 'ch ', 'h c', ' ca', 'cal', 'all', 'lle', 'led', 'ed ', 'd K', ' Ku', 'Kuw', 'uwa', 'wai', 'ait', 'iti', 'ti ', 'i a', ' au', 'aut', 'uth', 'tho', 'hor', 'ori', 'rit', 'iti', 'tie', 'ies', 'es ', 's S', ' Su', 'Sun', 'und', 'nda', 'day', 'ay ', 'y s', ' st', 'sto', 'top', 'op ', 'p a', ' ar', 'arr', 'rre', 'res', 'est', 'sti', 'tin', 'ing', 'ng ', 'g d', ' de', 'dep', 'epo', 'por', 'ort', 'rti', 'tin', 'ing', 'ng ', 'g s', ' su', 'sup', 'upp', 'ppo', 'por', 'ort', 'rte', 'ter', 'ers', 'rs ', 's f', ' fo', 'for', 'orm', 'rme', 'mer', 'er ', 'r U', ' UN', 'UN ', 'N n', ' nu', 'nuc', 'ucl', 'cle', 'lea', 'ear', 'ar ', 'r c', ' ch', 'chi', 'hie', 'ief', 'ef ', 'f M', ' Mo', 'Moh', 'oha', 'ham', 'ame', 'med', 'ed ', 'd E', ' El', 'ElB', 'lBa', 'Bar', 'ara', 'rad', 'ade', 'dei', 'ei,', 'i, ', ', l', ' le', 'lea', 'ead', 'adi', 'din', 'ing', 'ng ', 'g c', ' ch', 'cha', 'ham', 'amp', 'mpi', 'pio', 'ion', 'on ', 'n r', ' re', 'ref', 'efo', 'for', 'orm', 'rm ', 'm E', ' Eg', 'Egy', 'gyp', 'ypt', 'pt.', 't. ', '. u', ' un', 'unu', 'nus', 'usu', 'sua', 'ual', 'all', 'lly', 'ly ', 'y m', ' mi', 'mil', 'ild', 'ld ', 'd f', ' fl', 'flu', 'lu ', 'u s', ' se', 'sea', 'eas', 'aso', 'son', 'on,', 'n, ', ', L', ' Lo', 'Los', 'os ', 's A', ' An', 'Ang', 'nge', 'gel', 'ele', 'les', 'es ', 's C', ' Co', 'Cou', 'oun', 'unt', 'nty', 'ty ', 'y h', ' he', 'hea', 'eal', 'alt', 'lth', 'th ', 'h o', ' of', 'off', 'ffi', 'fic', 'ici', 'cia', 'ial', 'als', 'ls ', 's s', ' sa', 'sai', 'aid', 'id ', 'd W', ' We', 'Wed', 'edn', 'dne', 'nes', 'esd', 'sda', 'day', 'ay ', 'y t', ' th', 'the', 'hey', \"ey'\", \"y'v\", \"'ve\", 've ', 'e s', ' se', 'see', 'een', 'en ', 'n s', ' sh', 'sha', 'har', 'arp', 'rp ', 'p i', ' in', 'inc', 'ncr', 'cre', 'rea', 'eas', 'ase', 'se ', 'e i', ' il', 'ill', 'lln', 'lne', 'nes', 'ess', 'sse', 'ses', 'es ', 's s', ' st', 'str', 'tro', 'ron', 'ong', 'ngl', 'gly', 'ly ', 'y s', ' su', 'sus', 'usp', 'spe', 'pec', 'ect', 'cte', 'ted', 'ed ', 'd I', ' In', 'Inf', 'nfl', 'flu', 'lue', 'uen', 'enz', 'nza', 'za ', 'a B', ' B,', 'B, ', ', e', ' es', 'esp', 'spe', 'pec', 'eci', 'cia', 'ial', 'all', 'lly', 'ly ', 'y a', ' am', 'amo', 'mon', 'ong', 'ng ', 'g s', ' sc', 'sch', 'cho', 'hoo', 'ool', 'olc', 'lch', 'chi', 'hil', 'ild', 'ldr', 'dre', 'ren', 'en.', 'n. ', '. t', ' to', 'top', 'op ', 'p i', ' in', 'int', 'nte', 'ter', 'ern', 'rna', 'nat', 'ati', 'tio', 'ion', 'ona', 'nal', 'al ', 'l e', ' en', 'env', 'nvo', 'voy', 'oy ', 'y B', ' Bo', 'Bos', 'osn', 'sni', 'nia', 'ia,', 'a, ', ', P', ' Pa', 'Pad', 'add', 'ddy', 'dy ', 'y A', ' As', 'Ash', 'shd', 'hdo', 'dow', 'own', 'wn,', 'n, ', ', a', ' as', 'ask', 'ske', 'ked', 'ed ', 'd M', ' Mo', 'Mos', 'osc', 'sco', 'cow', 'ow ', 'w T', ' Tu', 'Tue', 'ues', 'esd', 'sda', 'day', 'ay ', 'y p', ' pr', 'pro', 'rob', 'obe', 'be ', 'e a', ' al', 'all', 'lle', 'leg', 'ega', 'gat', 'ati', 'tio', 'ion', 'ons', 'ns ', 's s', ' se', 'sev', 'eve', 'ver', 'era', 'ral', 'al ', 'l B', ' Bo', 'Bos', 'osn', 'sni', 'nia', 'ian', 'an ', 'n S', ' Se', 'Ser', 'erb', 'rb ', 'b w', ' wa', 'war', 'ar ', 'r c', ' cr', 'cri', 'rim', 'ime', 'mes', 'es ', 's f', ' fu', 'fug', 'ugi', 'git', 'iti', 'tiv', 'ive', 'ves', 'es ', 's s', ' sh', 'she', 'hel', 'elt', 'lte', 'ter', 'eri', 'rin', 'ing', 'ng ', 'g R', ' Ru', 'Rus', 'uss', 'ssi', 'sia', 'ia.', 'a. ', '. S', ' St', 'Ste', 'tep', 'eph', 'pha', 'han', 'ani', 'nie', 'ie ', 'e U', ' Us', 'Usr', 'sre', 'rey', 'ey ', 'y s', ' st', 'str', 'tro', 'rod', 'ode', 'de ', 'e l', ' lo', 'loc', 'oca', 'cal', 'al ', 'l W', ' Wa', 'Wal', 'al-', 'l-M', '-Ma', 'Mar', 'art', 'rt ', 't s', ' st', 'sto', 'tor', 'ore', 're ', 'e m', ' mo', 'mor', 'orn', 'rni', 'nin', 'ing', 'ng ', 'g s', ' st', 'ste', 'tee', 'eel', 'ely', 'ly ', 'y l', ' lo', 'loo', 'ook', 'ok ', 'k b', ' bo', 'box', 'oxe', 'xer', 'er ', 'r s', ' st', 'ste', 'tep', 'ep ', 'p r', ' ri', 'rin', 'ing', 'ng.', 'g. ', '. N', ' Na', 'Nas', 'asd', 'sda', 'daq', 'aq ', 'q S', ' St', 'Sto', 'toc', 'ock', 'ck ', 'k M', ' Ma', 'Mar', 'ark', 'rke', 'ket', 'et ', 't r', ' re', 'rep', 'epo', 'por', 'ort', 'rte', 'ted', 'ed ', 'd t', ' tr', 'tra', 'rad', 'adi', 'din', 'ing', 'ng ', 'g d', ' di', 'dif', 'iff', 'ffi', 'fic', 'icu', 'cul', 'ult', 'lti', 'tie', 'ies', 'es ', 's s', ' se', 'sec', 'eco', 'con', 'ond', 'nd ', 'd d', ' da', 'day', 'ay ', 'y r', ' ro', 'row', 'ow ', 'w F', ' Fr', 'Fri', 'rid', 'ida', 'day', 'ay ', 'y e', ' ex', 'ext', 'xte', 'ten', 'end', 'nde', 'ded', 'ed ', 'd r', ' re', 'reg', 'egu', 'gul', 'ula', 'lar', 'ar ', 'r t', ' tr', 'tra', 'rad', 'adi', 'din', 'ing', 'ng ', 'g o', ' on', 'one', 'ne ', 'e h', ' ho', 'hou', 'our', 'ur.', 'r. ', '. H', ' Ho', 'How', 'owe', 'wev', 'eve', 'ver', 'er,', 'r, ', ', s', ' sy', 'sys', 'yst', 'ste', 'tem', 'ems', 'ms ', 's f', ' fa', 'fai', 'ail', 'ile', 'led', 'ed ', 'd a', ' ag', 'aga', 'gai', 'ain', 'in,', 'n, ', ', d', ' de', 'del', 'ela', 'lay', 'ayi', 'yin', 'ing', 'ng ', 'g f', ' fi', 'fin', 'ina', 'nal', 'al ', 'l p', ' pr', 'pri', 'ric', 'ice', 'ces', 'es ', 's c', ' co', 'com', 'omp', 'mpi', 'pil', 'ila', 'lat', 'ati', 'tio', 'ion', 'on ', 'n W', ' Wa', 'Wal', 'all', 'll ', 'l S', ' St', 'Str', 'tre', 'ree', 'eet', \"et'\", \"t's\", \"'s \", 's m', ' ma', 'maj', 'ajo', 'jor', 'or ', 'r i', ' in', 'ind', 'nde', 'dex', 'exe', 'xes', 'es.', 's. ', '. f', ' fi', 'fiv', 'ive', 've-', 'e-d', '-da', 'day', 'ay ', 'y F', ' Fi', 'Fif', 'ift', 'fth', 'th ', 'h M', ' Ma', 'Mac', 'aca', 'cao', 'ao ', 'o I', ' In', 'Int', 'nte', 'ter', 'ern', 'rna', 'nat', 'ati', 'tio', 'ion', 'ona', 'nal', 'al ', 'l T', ' Tr', 'Tra', 'rad', 'ade', 'de ', 'e I', ' In', 'Inv', 'nve', 'ves', 'est', 'stm', 'tme', 'men', 'ent', 'nt ', 't F', ' Fa', 'Fai', 'air', 'ir ', 'r l', ' la', 'lau', 'aun', 'unc', 'nch', 'che', 'hed', 'ed ', 'd F', ' Fr', 'Fri', 'rid', 'ida', 'day', 'ay ', 'y M', ' Ma', 'Mac', 'aca', 'cao', 'ao ', 'o L', ' La', 'Lan', 'and', 'ndm', 'dma', 'mar', 'ark', 'rk ', 'k C', ' Co', 'Con', 'onf', 'nfe', 'fer', 'ere', 'ren', 'enc', 'nce', 'ce ', 'e E', ' Ex', 'Exh', 'xhi', 'hib', 'ibi', 'bit', 'iti', 'tio', 'ion', 'on ', 'n C', ' Ce', 'Cen', 'ent', 'nte', 'ter', 'er.', 'r.\\n'], ['t12', '125', '25 ', '5 p', ' pr', 'pre', 'res', 'esi', 'sid', 'ide', 'den', 'ent', 'nt ', 't L', ' Lo', 'Lon', 'ong', 'ng-', 'g-T', '-Te', 'Ter', 'erm', 'rm ', 'm C', ' Cr', 'Cre', 'red', 'edi', 'dit', 'it ', 't B', ' Ba', 'Ban', 'ank', 'nk ', 'k J', ' Ja', 'Jap', 'apa', 'pan', 'an ', 'n L', ' Lt', 'Ltd', 'td.', 'd. ', '. (', ' (L', '(LT', 'LTC', 'TCB', 'CB)', 'B),', '), ', ', T', ' Te', 'Tet', 'ets', 'tsu', 'suy', 'uya', 'ya ', 'a H', ' Ho', 'Hor', 'ori', 'rie', 'ie,', 'e, ', ', s', ' sa', 'sai', 'aid', 'id ', 'd F', ' Fr', 'Fri', 'rid', 'ida', 'day', 'ay ', 'y w', ' wo', 'wou', 'oul', 'uld', 'ld ', 'd r', ' re', 'res', 'esi', 'sig', 'ign', 'gn ', 'n A', ' Ap', 'Apr', 'pri', 'ril', 'il ', 'l 2', ' 28', '28,', '8, ', ', b', ' be', 'bec', 'eco', 'com', 'omi', 'min', 'ing', 'ng ', 'g f', ' fi', 'fir', 'irs', 'rst', 'st ', 't h', ' hi', 'hig', 'igh', 'gh-', 'h-r', '-ra', 'ran', 'ank', 'nki', 'kin', 'ing', 'ng ', 'g o', ' of', 'off', 'ffi', 'fic', 'ici', 'cia', 'ial', 'al ', 'l f', ' fa', 'fal', 'all', 'll ', 'l v', ' vi', 'vic', 'ict', 'cti', 'tim', 'im ', 'm c', ' co', 'col', 'oll', 'lla', 'lap', 'aps', 'pse', 'se ', 'e t', ' tw', 'two', 'wo ', 'o T', ' To', 'Tok', 'oky', 'kyo', 'yo ', 'o c', ' cr', 'cre', 'red', 'edi', 'dit', 'it ', 't u', ' un', 'uni', 'nio', 'ion', 'ons', 'ns.', 's. ', '. f', ' fa', 'fat', 'ath', 'the', 'her', 'er ', 'r m', ' mi', 'mis', 'iss', 'ssi', 'sin', 'ing', 'ng ', 'g p', ' pr', 'pre', 'reg', 'egn', 'gna', 'nan', 'ant', 'nt ', 't w', ' wo', 'wom', 'oma', 'man', 'an ', 'n t', ' te', 'tea', 'ear', 'arf', 'rfu', 'ful', 'ull', 'lly', 'ly ', 'y t', ' th', 'tha', 'han', 'ank', 'nke', 'ked', 'ed ', 'd s', ' se', 'sea', 'ear', 'arc', 'rch', 'che', 'her', 'ers', 'rs ', 's b', ' bo', 'bod', 'ody', 'dy ', 'y f', ' fo', 'fou', 'oun', 'und', 'nd ', 'd n', ' na', 'nat', 'ati', 'tio', 'ion', 'ona', 'nal', 'al ', 'l p', ' pa', 'par', 'ark', 'rk,', 'k, ', ', w', ' we', 'wee', 'eek', 'ek ', 'k 2', ' 2-', '2-y', '-ye', 'yea', 'ear', 'ar-', 'r-o', '-ol', 'old', 'ld ', 'd s', ' so', 'son', 'on ', 'n f', ' fo', 'fou', 'oun', 'und', 'nd ', 'd a', ' al', 'alo', 'lon', 'one', 'ne ', 'e t', ' to', 'tol', 'old', 'ld ', 'd p', ' po', 'pol', 'oli', 'lic', 'ice', 'ce:', 'e: ', ': \"', ' \"M', '\"Mo', 'Mom', 'omm', 'mmy', 'my ', 'y c', ' cr', 'cry', 'ryi', 'yin', 'ing', 'ng.', 'g. ', '. M', ' Mo', 'Mom', 'omm', 'mmy', 'my ', 'y b', ' br', 'bro', 'rok', 'oke', 'ke ', 'e t', ' ta', 'tab', 'abl', 'ble', 'le.', 'e. ', '. M', ' Mo', 'Mom', 'omm', 'mmy', \"my'\", \"y's\", \"'s \", 's r', ' ru', 'rug', 'ug.', 'g.\"', '.\" ', '\" I', ' It', 'Ita', 'tal', 'aly', \"ly'\", \"y's\", \"'s \", 's F', ' Fi', 'Fin', 'inm', 'nme', 'mec', 'ecc', 'cca', 'can', 'ani', 'nic', 'ica', 'ca ', 'a W', ' We', 'Wed', 'edn', 'dne', 'nes', 'esd', 'sda', 'day', 'ay ', 'y o', ' op', 'ope', 'pen', 'ene', 'ned', 'ed ', 'd h', ' he', 'hel', 'eli', 'lic', 'ico', 'cop', 'opt', 'pte', 'ter', 'er ', 'r a', ' as', 'ass', 'sse', 'sem', 'emb', 'mbl', 'bly', 'ly ', 'y m', ' ma', 'mai', 'ain', 'int', 'nte', 'ten', 'ena', 'nan', 'anc', 'nce', 'ce ', 'e f', ' fa', 'fac', 'act', 'cto', 'tor', 'ory', 'ry ', 'y L', ' Li', 'Lib', 'iby', 'bya', 'ya ', 'a j', ' jo', 'joi', 'oin', 'int', 'nt ', 't v', ' ve', 'ven', 'ent', 'ntu', 'tur', 'ure', 're ', 'e T', ' Tr', 'Tri', 'rip', 'ipo', 'pol', 'oli', 'li ', 'i c', ' co', 'cos', 'ost', 'st ', 't a', ' al', 'alm', 'lmo', 'mos', 'ost', 'st ', 't 1', ' 18', '18 ', '8 m', ' mi', 'mil', 'ill', 'lli', 'lio', 'ion', 'on ', 'n e', ' eu', 'eur', 'uro', 'ros', 'os ', 's (', ' (2', '(24', '24 ', '4 m', ' mi', 'mil', 'ill', 'lli', 'lio', 'ion', 'on ', 'n d', ' do', 'dol', 'oll', 'lla', 'lar', 'ars', 'rs)', 's).', '). ', '. P', ' Pa', 'Pal', 'ale', 'les', 'est', 'sti', 'tin', 'ini', 'nia', 'ian', 'an ', 'n s', ' su', 'sui', 'uic', 'ici', 'cid', 'ide', 'de ', 'e b', ' bo', 'bom', 'omb', 'mbe', 'ber', 'er ', 'r b', ' bl', 'ble', 'lew', 'ew ', 'w c', ' cr', 'cro', 'row', 'owd', 'wde', 'ded', 'ed ', 'd h', ' ho', 'hot', 'ote', 'tel', 'el ', 'l d', ' di', 'din', 'ini', 'nin', 'ing', 'ng ', 'g r', ' ro', 'roo', 'oom', 'om ', 'm W', ' We', 'Wed', 'edn', 'dne', 'nes', 'esd', 'sda', 'day', 'ay ', 'y e', ' ev', 'eve', 'ven', 'eni', 'nin', 'ing', 'ng ', 'g 2', ' 20', '200', '00 ', '0 p', ' pe', 'peo', 'eop', 'opl', 'ple', 'le ', 'e g', ' ga', 'gat', 'ath', 'the', 'her', 'ere', 'red', 'ed ', 'd P', ' Pa', 'Pas', 'ass', 'sso', 'sov', 'ove', 'ver', 'er ', 'r h', ' ho', 'hol', 'oli', 'lid', 'ida', 'day', 'ay ', 'y m', ' me', 'mea', 'eal', 'al,', 'l, ', ', k', ' ki', 'kil', 'ill', 'lli', 'lin', 'ing', 'ng ', 'g l', ' le', 'lea', 'eas', 'ast', 'st ', 't 1', ' 19', '19 ', '9 w', ' wo', 'wou', 'oun', 'und', 'ndi', 'din', 'ing', 'ng ', 'g 1', ' 10', '100', '00 ', '0 o', ' ot', 'oth', 'the', 'her', 'ers', 'rs,', 's, ', ', m', ' ma', 'man', 'any', 'ny ', 'y c', ' ch', 'chi', 'hil', 'ild', 'ldr', 'dre', 'ren', 'en.', 'n. ', '. O', ' OP', 'OPE', 'PEC', 'EC ', 'C k', ' ki', 'kin', 'ing', 'ngp', 'gpi', 'pin', 'in ', 'n S', ' Sa', 'Sau', 'aud', 'udi', 'di ', 'i A', ' Ar', 'Ara', 'rab', 'abi', 'bia', 'ia ', 'a s', ' si', 'sig', 'ign', 'gna', 'nal', 'all', 'lle', 'led', 'ed ', 'd T', ' Tu', 'Tue', 'ues', 'esd', 'sda', 'day', 'ay ', 'y c', ' co', 'cou', 'oul', 'uld', 'ld ', 'd a', ' ac', 'act', 'ct ', 't a', ' al', 'alo', 'lon', 'one', 'ne ', 'e m', ' me', 'mee', 'eet', 'et ', 't p', ' pr', 'pre', 'red', 'edi', 'dic', 'ict', 'cte', 'ted', 'ed ', 'd i', ' in', 'inc', 'ncr', 'cre', 'rea', 'eas', 'ase', 'se ', 'e d', ' de', 'dem', 'ema', 'man', 'and', 'nd ', 'd o', ' oi', 'oil', 'il,', 'l, ', ', p', ' pu', 'pus', 'ush', 'she', 'hed', 'ed ', 'd h', ' he', 'hes', 'esi', 'sit', 'ita', 'tan', 'ant', 'nt ', 't f', ' fe', 'fel', 'ell', 'llo', 'low', 'ow ', 'w m', ' me', 'mem', 'emb', 'mbe', 'ber', 'ers', 'rs ', 's c', ' ca', 'car', 'art', 'rte', 'tel', 'el ', 'l r', ' ra', 'rai', 'ais', 'ise', 'se ', 'e p', ' pr', 'pro', 'rod', 'odu', 'duc', 'uct', 'cti', 'tio', 'ion', 'on ', 'n q', ' qu', 'quo', 'uot', 'ota', 'tas', 'as ', 's i', ' im', 'imm', 'mme', 'med', 'edi', 'dia', 'iat', 'ate', 'tel', 'ely', 'ly.', 'y. ', '. i', ' im', 'imp', 'mpo', 'por', 'ort', 'rta', 'tan', 'ant', 'nt ', 't f', ' fo', 'for', 'orm', 'rm ', 'm p', ' po', 'pol', 'oli', 'lit', 'iti', 'tic', 'ica', 'cal', 'al ', 'l c', ' co', 'com', 'omp', 'mpr', 'pro', 'rom', 'omi', 'mis', 'ise', 'se ', 'e I', ' Ir', 'Ira', 'raq', 'aq ', 'q i', ' is', 'isn', \"sn'\", \"n't\", \"'t \", 't a', ' am', 'amo', 'mon', 'ong', 'ng ', 'g t', ' to', 'top', 'op ', 'p I', ' Ir', 'Ira', 'raq', 'aqi', 'qi ', 'i p', ' po', 'pol', 'oli', 'lit', 'iti', 'tic', 'ici', 'cia', 'ian', 'ans', 'ns ', 's B', ' Ba', 'Bag', 'agh', 'ghd', 'hda', 'dad', 'ad,', 'd, ', ', l', ' lo', 'loc', 'oca', 'cal', 'al ', 'l l', ' le', 'lev', 'eve', 'vel', 'el,', 'l, ', ', P', ' Pr', 'Pre', 'res', 'esi', 'sid', 'ide', 'den', 'ent', 'nt ', 't B', ' Bu', 'Bus', 'ush', 'sh ', 'h a', ' as', 'ass', 'sse', 'ser', 'ert', 'rte', 'ted', 'ed ', 'd T', ' Th', 'Thu', 'hur', 'urs', 'rsd', 'sda', 'day', 'ay,', 'y, ', ', d', ' de', 'dep', 'epa', 'par', 'art', 'rtu', 'tur', 'ure', 're ', 'e p', ' pa', 'pas', 'ast', 'st ', 't r', ' rh', 'rhe', 'het', 'eto', 'tor', 'ori', 'ric', 'ic ', 'c I', ' Ir', 'Ira', 'raq', 'aqi', 'qi ', 'i p', ' po', 'pol', 'oli', 'lit', 'iti', 'tic', 'ics', 'cs.', 's. ', '. N', ' Na', 'Nan', 'anc', 'ncy', 'cy ', 'y S', ' Sm', 'Smi', 'mit', 'ith', 'th ', 'h l', ' li', 'lik', 'ike', 'kes', 'es ', 's H', ' HB', 'HBO', 'BO ', 'O s', ' se', 'ser', 'eri', 'rie', 'ies', 'es ', 's `', ' ``', '``S', '`Se', 'Sex', 'ex ', 'x C', ' Ci', 'Cit', 'ity', 'ty,', \"y,'\", \",''\", \"'' \", \"' h\", ' hi', 'hig', 'igh', 'gh ', 'h s', ' sc', 'sch', 'cho', 'hoo', 'ool', 'ol ', 'l d', ' dr', 'dra', 'ram', 'ama', 'ma ', 'a t', ' te', 'tea', 'eac', 'ach', 'che', 'her', 'er ', 'r o', ' of', 'oft', 'fte', 'ten', 'en ', 'n c', ' ca', 'can', \"an'\", \"n't\", \"'t \", 't f', ' fr', 'fro', 'ron', 'ont', 'nt ', 't t', ' te', 'tel', 'ele', 'lev', 'evi', 'vis', 'isi', 'sio', 'ion', 'on ', 'n S', ' Su', 'Sun', 'und', 'nda', 'day', 'ay ', 'y n', ' ni', 'nig', 'igh', 'ght', 'hts', 'ts,', 's, ', ', n', ' ne', 'new', 'ew ', 'w e', ' ep', 'epi', 'pis', 'iso', 'sod', 'ode', 'des', 'es ', 's a', ' ai', 'air', 'ir.', 'r. ', '. e', ' ex', 'exh', 'xhi', 'hib', 'ibi', 'bit', 'iti', 'tio', 'ion', 'on ', 'n o', ' op', 'ope', 'pen', 'ene', 'ned', 'ed ', 'd t', ' to', 'tod', 'oda', 'day', 'ay ', 'y m', ' ma', 'mar', 'ark', 'rke', 'ket', 'et ', 't 5', ' 50', '50t', '0th', 'th ', 'h a', ' an', 'ann', 'nni', 'niv', 'ive', 'ver', 'ers', 'rsa', 'sar', 'ary', 'ry ', 'y C', ' Ch', 'Chi', 'hin', 'ina', 'na ', 'a s', ' se', 'sen', 'end', 'ndi', 'din', 'ing', 'ng ', 'g v', ' vo', 'vol', 'olu', 'lun', 'unt', 'nte', 'tee', 'eer', 'ers', 'rs ', 's j', ' jo', 'joi', 'oin', 'in ', 'n f', ' fo', 'for', 'orc', 'rce', 'ces', 'es ', 's P', ' Pe', 'Peo', 'eop', 'opl', 'ple', \"le'\", \"e's\", \"'s \", 's A', ' Ar', 'Arm', 'rmy', 'my ', 'y D', ' De', 'Dem', 'emo', 'moc', 'ocr', 'cra', 'rat', 'ati', 'tic', 'ic ', 'c P', ' Pe', 'Peo', 'eop', 'opl', 'ple', \"le'\", \"e's\", \"'s \", 's R', ' Re', 'Rep', 'epu', 'pub', 'ubl', 'bli', 'lic', 'ic ', 'c K', ' Ko', 'Kor', 'ore', 'rea', 'ea ', 'a (', ' (D', '(DP', 'DPR', 'PRK', 'RK)', 'K) ', ') W', ' Wa', 'War', 'ar ', 'r R', ' Re', 'Res', 'esi', 'sis', 'ist', 'st ', 't U', ' U.', 'U.S', '.S.', 'S. ', '. A', ' Ag', 'Agg', 'ggr', 'gre', 'res', 'ess', 'ssi', 'sio', 'ion', 'on ', 'n A', ' Ai', 'Aid', 'id ', 'd K', ' Ko', 'Kor', 'ore', 'rea', 'ea ', 'a (', ' (1', '(19', '195', '950', '50-', '0-5', '-53', '53)', '3)\\n']]\n"
     ]
    }
   ],
   "source": [
    "# result of the 3-shingle character\n",
    "print character_shingles"
   ]
  },
  {
   "cell_type": "markdown",
   "metadata": {},
   "source": [
    "### Problem 5"
   ]
  },
  {
   "cell_type": "markdown",
   "metadata": {},
   "source": [
    "###### (a)"
   ]
  },
  {
   "cell_type": "code",
   "execution_count": 149,
   "metadata": {
    "collapsed": false
   },
   "outputs": [],
   "source": [
    "import binascii\n",
    "\n",
    "word_ascii = []\n",
    "for i in range(len(word_shingles)):\n",
    "    result = []\n",
    "    for word in word_shingles[i]:\n",
    "        result.append(binascii.crc32(str(word)))\n",
    "    word_ascii.append(result)\n",
    "    \n",
    "character_ascii = []\n",
    "for i in range(len(character_shingles)):\n",
    "    result = []\n",
    "    for word in character_shingles[i]:\n",
    "        result.append(binascii.crc32(str(word)))\n",
    "    character_ascii.append(result)"
   ]
  },
  {
   "cell_type": "code",
   "execution_count": 179,
   "metadata": {
    "collapsed": false
   },
   "outputs": [],
   "source": [
    "temp = []\n",
    "for i in range(len(word_ascii)):\n",
    "    temp = temp + word_ascii[i]\n",
    "word_union = set(temp)"
   ]
  },
  {
   "cell_type": "code",
   "execution_count": 180,
   "metadata": {
    "collapsed": false,
    "scrolled": true
   },
   "outputs": [],
   "source": [
    "temp = []\n",
    "for i in range(len(character_ascii)):\n",
    "    temp = temp + character_ascii[i]\n",
    "character_union = set(temp)"
   ]
  },
  {
   "cell_type": "code",
   "execution_count": 231,
   "metadata": {
    "collapsed": false
   },
   "outputs": [],
   "source": [
    "def roughSIG(in_list, union):\n",
    "    result = []\n",
    "    for y in union:\n",
    "        temp = []\n",
    "        for i in range(0, 6):\n",
    "            if y in in_list[i]:\n",
    "                temp.append(1)\n",
    "            else:\n",
    "                temp.append(0)\n",
    "        result.append(temp)\n",
    "    return result\n",
    "    \n",
    "def hashFunction(a, b, union):\n",
    "    hashed_row_list = []\n",
    "    for i in range(0, len(union)):\n",
    "        hashed_row_list.append((a*i + b)%4294967311)\n",
    "    return hashed_row_list\n",
    "    \n",
    "def SIG(in_list, a, b, union):\n",
    "    signature = [[],[],[],[],[],[]]\n",
    "    new_row = hashFunction(a, b, union)   \n",
    "    for i in range(0,len(union)):\n",
    "        for j in range(0,6):\n",
    "            if(in_list[i][j] == 1):\n",
    "                if(not signature[j]):\n",
    "                    signature[j].append(new_row[i])\n",
    "                elif signature[j][0] > new_row[i]:\n",
    "                    signature[j][0] = new_row[i]\n",
    "    return signature\n",
    "\n",
    "def SIG_matrix(in_list, union):\n",
    "    SIG_matrix = [[],[],[],[],[],[]]\n",
    "    for j in range(30):\n",
    "        a = np.random.uniform(1,4294967311)\n",
    "        b = np.random.uniform(1,4294967311)\n",
    "        sig = SIG(in_list, a, b, union)\n",
    "        for i in range(0,6):\n",
    "            SIG_matrix[i].append(sig[i][0])\n",
    "    return SIG_matrix"
   ]
  },
  {
   "cell_type": "code",
   "execution_count": 232,
   "metadata": {
    "collapsed": false,
    "scrolled": true
   },
   "outputs": [],
   "source": [
    "word_SIG = roughSIG(word_ascii, word_union)\n",
    "sss1 = SIG_matrix(word_SIG, word_union)"
   ]
  },
  {
   "cell_type": "code",
   "execution_count": 233,
   "metadata": {
    "collapsed": false
   },
   "outputs": [
    {
     "name": "stdout",
     "output_type": "stream",
     "text": [
      "0.0\n",
      "0.0\n",
      "0.0169491525424\n",
      "0.0169491525424\n",
      "0.0\n"
     ]
    }
   ],
   "source": [
    "# the similarity result by 2-word shingle for it121 agianst everything else\n",
    "findJaccard(set(sss1[1]), set(sss1[0]))\n",
    "findJaccard(set(sss1[1]), set(sss1[2]))\n",
    "findJaccard(set(sss1[1]), set(sss1[3]))\n",
    "findJaccard(set(sss1[1]), set(sss1[4]))\n",
    "findJaccard(set(sss1[1]), set(sss1[5]))"
   ]
  },
  {
   "cell_type": "code",
   "execution_count": 234,
   "metadata": {
    "collapsed": true
   },
   "outputs": [],
   "source": [
    "character_sig = roughSIG(character_ascii, character_union)\n",
    "sss2 = SIG_matrix(character_sig, character_union)"
   ]
  },
  {
   "cell_type": "code",
   "execution_count": 235,
   "metadata": {
    "collapsed": false
   },
   "outputs": [
    {
     "name": "stdout",
     "output_type": "stream",
     "text": [
      "0.153846153846\n",
      "0.2\n",
      "0.132075471698\n",
      "0.0909090909091\n",
      "0.153846153846\n"
     ]
    }
   ],
   "source": [
    "# the similarity result by 3-character shingle for it121 against everything else\n",
    "findJaccard(set(sss2[1]), set(sss2[0]))\n",
    "findJaccard(set(sss2[1]), set(sss2[2]))\n",
    "findJaccard(set(sss2[1]), set(sss2[3]))\n",
    "findJaccard(set(sss2[1]), set(sss2[4]))\n",
    "findJaccard(set(sss2[1]), set(sss2[5]))"
   ]
  },
  {
   "cell_type": "markdown",
   "metadata": {},
   "source": [
    "###### (b)"
   ]
  },
  {
   "cell_type": "code",
   "execution_count": 229,
   "metadata": {
    "collapsed": true
   },
   "outputs": [],
   "source": [
    "#From the word shingle we can see the files it123 and it 124 are closest to it121\n",
    "#From the character shingle we can see the file it122 is closest to it121\n",
    "#And in my opinon character worked better"
   ]
  },
  {
   "cell_type": "code",
   "execution_count": null,
   "metadata": {
    "collapsed": true
   },
   "outputs": [],
   "source": []
  }
 ],
 "metadata": {
  "kernelspec": {
   "display_name": "Python 2",
   "language": "python",
   "name": "python2"
  },
  "language_info": {
   "codemirror_mode": {
    "name": "ipython",
    "version": 2
   },
   "file_extension": ".py",
   "mimetype": "text/x-python",
   "name": "python",
   "nbconvert_exporter": "python",
   "pygments_lexer": "ipython2",
   "version": "2.7.11"
  }
 },
 "nbformat": 4,
 "nbformat_minor": 0
}
