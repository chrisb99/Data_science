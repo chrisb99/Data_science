{
 "cells": [
  {
   "cell_type": "code",
   "execution_count": 1,
   "metadata": {
    "collapsed": true
   },
   "outputs": [],
   "source": [
    "# Tianyi Bi, Jaibock Lee\n",
    "%matplotlib inline \n",
    "from __future__ import division\n",
    "import numpy as np\n",
    "import matplotlib.pyplot as plt"
   ]
  },
  {
   "cell_type": "markdown",
   "metadata": {},
   "source": [
    "### Problem 1"
   ]
  },
  {
   "cell_type": "markdown",
   "metadata": {},
   "source": [
    "### 1.1"
   ]
  },
  {
   "cell_type": "code",
   "execution_count": 2,
   "metadata": {
    "collapsed": false
   },
   "outputs": [],
   "source": [
    "mu1, sigma1 = -10, 5\n",
    "mu2, sigma2 = 10, 5\n",
    "s1 = np.random.normal(mu1, sigma1, 1000)\n",
    "s2 = np.random.normal(mu2, sigma2, 1000)\n",
    "s = np.sum([s1, s2], axis = 0)"
   ]
  },
  {
   "cell_type": "code",
   "execution_count": 3,
   "metadata": {
    "collapsed": false
   },
   "outputs": [
    {
     "data": {
      "image/png": "[encoded data removed]",
      "text/plain": [
       "<matplotlib.figure.Figure at 0x10407d450>"
      ]
     },
     "metadata": {},
     "output_type": "display_data"
    }
   ],
   "source": [
    "plt.hist(s, 30)\n",
    "plt.show()"
   ]
  },
  {
   "cell_type": "markdown",
   "metadata": {},
   "source": [
    "### 1.2"
   ]
  },
  {
   "cell_type": "code",
   "execution_count": 4,
   "metadata": {
    "collapsed": false
   },
   "outputs": [
    {
     "data": {
      "text/plain": [
       "48.578466723782633"
      ]
     },
     "execution_count": 4,
     "metadata": {},
     "output_type": "execute_result"
    }
   ],
   "source": [
    "np.var(s)"
   ]
  },
  {
   "cell_type": "code",
   "execution_count": 5,
   "metadata": {
    "collapsed": false
   },
   "outputs": [
    {
     "data": {
      "text/plain": [
       "0.74679925804554481"
      ]
     },
     "execution_count": 5,
     "metadata": {},
     "output_type": "execute_result"
    }
   ],
   "source": [
    "np.mean(s)"
   ]
  },
  {
   "cell_type": "markdown",
   "metadata": {},
   "source": [
    "### Problem 2"
   ]
  },
  {
   "cell_type": "code",
   "execution_count": 6,
   "metadata": {
    "collapsed": false
   },
   "outputs": [
    {
     "data": {
      "text/plain": [
       "(array([  25.,    0.,  146.,    0.,  329.,    0.,  322.,    0.,  145.,   33.]),\n",
       " array([-1. , -0.8, -0.6, -0.4, -0.2,  0. ,  0.2,  0.4,  0.6,  0.8,  1. ]),\n",
       " <a list of 10 Patch objects>)"
      ]
     },
     "execution_count": 6,
     "metadata": {},
     "output_type": "execute_result"
    },
    {
     "data": {
      "image/png": "[encoded data removed]",
      "text/plain": [
       "<matplotlib.figure.Figure at 0x105ad2d90>"
      ]
     },
     "metadata": {},
     "output_type": "display_data"
    }
   ],
   "source": [
    "from scipy.stats import bernoulli\n",
    "list1 = []\n",
    "for n in range(1, 1001):\n",
    "    r = bernoulli.rvs(0.5, size = 5)\n",
    "    sums, temp = 0, 0\n",
    "    for i in r:\n",
    "        if i == 0:\n",
    "            sums += -1\n",
    "        else:\n",
    "            sums += 1\n",
    "        temp = sums/5\n",
    "    list1.append(temp)\n",
    "plt.hist(list1)"
   ]
  },
  {
   "cell_type": "code",
   "execution_count": 7,
   "metadata": {
    "collapsed": false
   },
   "outputs": [
    {
     "data": {
      "text/plain": [
       "(array([   9.,   78.,    0.,  229.,    0.,  323.,  234.,    0.,  120.,    7.]),\n",
       " array([-1. , -0.8, -0.6, -0.4, -0.2,  0. ,  0.2,  0.4,  0.6,  0.8,  1. ]),\n",
       " <a list of 10 Patch objects>)"
      ]
     },
     "execution_count": 7,
     "metadata": {},
     "output_type": "execute_result"
    },
    {
     "data": {
      "image/png": "[encoded data removed]",
      "text/plain": [
       "<matplotlib.figure.Figure at 0x1072d29d0>"
      ]
     },
     "metadata": {},
     "output_type": "display_data"
    }
   ],
   "source": [
    "from scipy.stats import bernoulli\n",
    "list1 = []\n",
    "for n in range(1, 1001):\n",
    "    r = bernoulli.rvs(0.5, size = 6)\n",
    "    sums, temp = 0, 0\n",
    "    for i in r:\n",
    "        if i == 0:\n",
    "            sums += -1\n",
    "        else:\n",
    "            sums += 1\n",
    "        temp = sums/6\n",
    "    list1.append(temp)\n",
    "plt.hist(list1)"
   ]
  },
  {
   "cell_type": "code",
   "execution_count": 8,
   "metadata": {
    "collapsed": false
   },
   "outputs": [
    {
     "data": {
      "text/plain": [
       "(array([   5.,   60.,  156.,    0.,  279.,  270.,    0.,  155.,   66.,    9.]),\n",
       " array([-1. , -0.8, -0.6, -0.4, -0.2,  0. ,  0.2,  0.4,  0.6,  0.8,  1. ]),\n",
       " <a list of 10 Patch objects>)"
      ]
     },
     "execution_count": 8,
     "metadata": {},
     "output_type": "execute_result"
    },
    {
     "data": {
      "image/png": "[encoded data removed]",
      "text/plain": [
       "<matplotlib.figure.Figure at 0x107422990>"
      ]
     },
     "metadata": {},
     "output_type": "display_data"
    }
   ],
   "source": [
    "from scipy.stats import bernoulli\n",
    "list1 = []\n",
    "for n in range(1, 1001):\n",
    "    r = bernoulli.rvs(0.5, size = 7)\n",
    "    sums, temp = 0, 0\n",
    "    for i in r:\n",
    "        if i == 0:\n",
    "            sums += -1\n",
    "        else:\n",
    "            sums += 1\n",
    "        temp = sums/7\n",
    "    list1.append(temp)\n",
    "plt.hist(list1)"
   ]
  },
  {
   "cell_type": "code",
   "execution_count": 9,
   "metadata": {
    "collapsed": false
   },
   "outputs": [
    {
     "data": {
      "text/plain": [
       "(array([   4.,   37.,  126.,  220.,    0.,  264.,  237.,   76.,   34.,    2.]),\n",
       " array([-1. , -0.8, -0.6, -0.4, -0.2,  0. ,  0.2,  0.4,  0.6,  0.8,  1. ]),\n",
       " <a list of 10 Patch objects>)"
      ]
     },
     "execution_count": 9,
     "metadata": {},
     "output_type": "execute_result"
    },
    {
     "data": {
      "image/png": "[encoded data removed]",
      "text/plain": [
       "<matplotlib.figure.Figure at 0x1076e0110>"
      ]
     },
     "metadata": {},
     "output_type": "display_data"
    }
   ],
   "source": [
    "from scipy.stats import bernoulli\n",
    "list1 = []\n",
    "for n in range(1, 1001):\n",
    "    r = bernoulli.rvs(0.5, size = 8)\n",
    "    sums, temp = 0, 0\n",
    "    for i in r:\n",
    "        if i == 0:\n",
    "            sums += -1\n",
    "        else:\n",
    "            sums += 1\n",
    "        temp = sums/8\n",
    "    list1.append(temp)\n",
    "plt.hist(list1)"
   ]
  },
  {
   "cell_type": "code",
   "execution_count": 10,
   "metadata": {
    "collapsed": false
   },
   "outputs": [
    {
     "data": {
      "text/plain": [
       "(array([   1.,   13.,   60.,  149.,  268.,  252.,  157.,   79.,   19.,    2.]),\n",
       " array([-1. , -0.8, -0.6, -0.4, -0.2,  0. ,  0.2,  0.4,  0.6,  0.8,  1. ]),\n",
       " <a list of 10 Patch objects>)"
      ]
     },
     "execution_count": 10,
     "metadata": {},
     "output_type": "execute_result"
    },
    {
     "data": {
      "image/png": "[encoded data removed]",
      "text/plain": [
       "<matplotlib.figure.Figure at 0x105a13e10>"
      ]
     },
     "metadata": {},
     "output_type": "display_data"
    }
   ],
   "source": [
    "from scipy.stats import bernoulli\n",
    "list1 = []\n",
    "for n in range(1, 1001):\n",
    "    r = bernoulli.rvs(0.5, size = 9)\n",
    "    sums, temp = 0, 0\n",
    "    for i in r:\n",
    "        if i == 0:\n",
    "            sums += -1\n",
    "        else:\n",
    "            sums += 1\n",
    "        temp = sums/9\n",
    "    list1.append(temp)\n",
    "plt.hist(list1)"
   ]
  },
  {
   "cell_type": "code",
   "execution_count": 11,
   "metadata": {
    "collapsed": false
   },
   "outputs": [
    {
     "data": {
      "text/plain": [
       "(array([  16.,   42.,  136.,  179.,  265.,  198.,  117.,   39.,    7.,    1.]),\n",
       " array([-0.8 , -0.62, -0.44, -0.26, -0.08,  0.1 ,  0.28,  0.46,  0.64,\n",
       "         0.82,  1.  ]),\n",
       " <a list of 10 Patch objects>)"
      ]
     },
     "execution_count": 11,
     "metadata": {},
     "output_type": "execute_result"
    },
    {
     "data": {
      "image/png": "[encoded data removed]",
      "text/plain": [
       "<matplotlib.figure.Figure at 0x1059d5a90>"
      ]
     },
     "metadata": {},
     "output_type": "display_data"
    }
   ],
   "source": [
    "from scipy.stats import bernoulli\n",
    "list1 = []\n",
    "for n in range(1, 1001):\n",
    "    r = bernoulli.rvs(0.5, size = 10)\n",
    "    sums, temp = 0, 0\n",
    "    for i in r:\n",
    "        if i == 0:\n",
    "            sums += -1\n",
    "        else:\n",
    "            sums += 1\n",
    "        temp = sums/10\n",
    "    list1.append(temp)\n",
    "plt.hist(list1)"
   ]
  },
  {
   "cell_type": "code",
   "execution_count": 12,
   "metadata": {
    "collapsed": false
   },
   "outputs": [
    {
     "data": {
      "text/plain": [
       "(array([   4.,   29.,   64.,  147.,  198.,  319.,  127.,   74.,   31.,    7.]),\n",
       " array([ -4.40000000e-01,  -3.52000000e-01,  -2.64000000e-01,\n",
       "         -1.76000000e-01,  -8.80000000e-02,  -5.55111512e-17,\n",
       "          8.80000000e-02,   1.76000000e-01,   2.64000000e-01,\n",
       "          3.52000000e-01,   4.40000000e-01]),\n",
       " <a list of 10 Patch objects>)"
      ]
     },
     "execution_count": 12,
     "metadata": {},
     "output_type": "execute_result"
    },
    {
     "data": {
      "image/png": "[encoded data removed]",
      "text/plain": [
       "<matplotlib.figure.Figure at 0x10742e190>"
      ]
     },
     "metadata": {},
     "output_type": "display_data"
    }
   ],
   "source": [
    "from scipy.stats import bernoulli\n",
    "list1 = []\n",
    "for n in range(1, 1001):\n",
    "    r = bernoulli.rvs(0.5, size = 50)\n",
    "    sums, temp = 0, 0\n",
    "    for i in r:\n",
    "        if i == 0:\n",
    "            sums += -1\n",
    "        else:\n",
    "            sums += 1\n",
    "        temp = sums/50\n",
    "    list1.append(temp)\n",
    "plt.hist(list1)"
   ]
  },
  {
   "cell_type": "code",
   "execution_count": 13,
   "metadata": {
    "collapsed": false
   },
   "outputs": [
    {
     "data": {
      "text/plain": [
       "(array([  12.,   22.,   89.,  178.,  183.,  238.,  182.,   74.,   16.,    6.]),\n",
       " array([-0.192 , -0.1536, -0.1152, -0.0768, -0.0384,  0.    ,  0.0384,\n",
       "         0.0768,  0.1152,  0.1536,  0.192 ]),\n",
       " <a list of 10 Patch objects>)"
      ]
     },
     "execution_count": 13,
     "metadata": {},
     "output_type": "execute_result"
    },
    {
     "data": {
      "image/png": "[encoded data removed]",
      "text/plain": [
       "<matplotlib.figure.Figure at 0x105c5ce90>"
      ]
     },
     "metadata": {},
     "output_type": "display_data"
    }
   ],
   "source": [
    "from scipy.stats import bernoulli\n",
    "list1 = []\n",
    "for n in range(1, 1001):\n",
    "    r = bernoulli.rvs(0.5, size = 250)\n",
    "    sums, temp = 0, 0\n",
    "    for i in r:\n",
    "        if i == 0:\n",
    "            sums += -1\n",
    "        else:\n",
    "            sums += 1\n",
    "        temp = sums/250\n",
    "    list1.append(temp)\n",
    "plt.hist(list1)"
   ]
  },
  {
   "cell_type": "markdown",
   "metadata": {},
   "source": [
    "### Problem 3"
   ]
  },
  {
   "cell_type": "code",
   "execution_count": 14,
   "metadata": {
    "collapsed": false
   },
   "outputs": [
    {
     "data": {
      "text/plain": [
       "25.391855435385722"
      ]
     },
     "execution_count": 14,
     "metadata": {},
     "output_type": "execute_result"
    }
   ],
   "source": [
    "mu, sigma = 0, 5\n",
    "s3 = np.random.normal(mu, sigma, 25000)\n",
    "np.var(s3)"
   ]
  },
  {
   "cell_type": "code",
   "execution_count": 15,
   "metadata": {
    "collapsed": false
   },
   "outputs": [
    {
     "data": {
      "text/plain": [
       "-0.036164674581702971"
      ]
     },
     "execution_count": 15,
     "metadata": {},
     "output_type": "execute_result"
    }
   ],
   "source": [
    "np.mean(s3)"
   ]
  },
  {
   "cell_type": "markdown",
   "metadata": {},
   "source": [
    "### Problem 4"
   ]
  },
  {
   "cell_type": "code",
   "execution_count": 16,
   "metadata": {
    "collapsed": false
   },
   "outputs": [
    {
     "data": {
      "text/plain": [
       "array([[ 0.8854101 ,  0.25144033],\n",
       "       [ 0.46741419,  0.64904784],\n",
       "       [ 0.59172759,  0.92732892],\n",
       "       ..., \n",
       "       [ 0.81383296,  0.6461214 ],\n",
       "       [ 0.13127954,  0.12136556],\n",
       "       [ 0.6384349 ,  0.10090889]])"
      ]
     },
     "execution_count": 16,
     "metadata": {},
     "output_type": "execute_result"
    }
   ],
   "source": [
    "s4 = np.random.uniform(size = (1000, 2))\n",
    "s4"
   ]
  },
  {
   "cell_type": "code",
   "execution_count": 17,
   "metadata": {
    "collapsed": false
   },
   "outputs": [
    {
     "data": {
      "text/plain": [
       "0.081575125964185813"
      ]
     },
     "execution_count": 17,
     "metadata": {},
     "output_type": "execute_result"
    }
   ],
   "source": [
    "np.var(s4)"
   ]
  },
  {
   "cell_type": "code",
   "execution_count": 18,
   "metadata": {
    "collapsed": false
   },
   "outputs": [
    {
     "data": {
      "text/plain": [
       "0.49637322754573776"
      ]
     },
     "execution_count": 18,
     "metadata": {},
     "output_type": "execute_result"
    }
   ],
   "source": [
    "np.mean(s4)"
   ]
  },
  {
   "cell_type": "markdown",
   "metadata": {},
   "source": [
    "### Problem 5"
   ]
  },
  {
   "cell_type": "code",
   "execution_count": 19,
   "metadata": {
    "collapsed": false
   },
   "outputs": [
    {
     "name": "stdout",
     "output_type": "stream",
     "text": [
      "The probability of heads being less than 50 is 0.0037\n"
     ]
    }
   ],
   "source": [
    "heads_less = 0\n",
    "for i in range(0, 100000):\n",
    "    sequence = bernoulli.rvs(p = 0.66, size = 100)\n",
    "    temp = sum(sequence)\n",
    "    if temp < 50:\n",
    "        heads_less += 1\n",
    "\n",
    "print(\"The probability of heads being less than 50 is \" + str(heads_less/10000))"
   ]
  },
  {
   "cell_type": "markdown",
   "metadata": {},
   "source": [
    "### Problem 6"
   ]
  },
  {
   "cell_type": "markdown",
   "metadata": {},
   "source": [
    "### 6.1"
   ]
  },
  {
   "cell_type": "code",
   "execution_count": 20,
   "metadata": {
    "collapsed": true
   },
   "outputs": [],
   "source": [
    "import pandas as pd"
   ]
  },
  {
   "cell_type": "code",
   "execution_count": 21,
   "metadata": {
    "collapsed": false
   },
   "outputs": [
    {
     "data": {
      "text/plain": [
       "(452, 280)"
      ]
     },
     "execution_count": 21,
     "metadata": {},
     "output_type": "execute_result"
    }
   ],
   "source": [
    "#There are 452 patients and 280 feature for the entire dataset\n",
    "df = pd.read_csv(\"PatientData.csv\", header = -1, na_values = \"?\")\n",
    "df.shape"
   ]
  },
  {
   "cell_type": "markdown",
   "metadata": {},
   "source": [
    "### 6.2"
   ]
  },
  {
   "cell_type": "code",
   "execution_count": 22,
   "metadata": {
    "collapsed": false
   },
   "outputs": [
    {
     "data": {
      "text/html": [
       "<div>\n",
       "<table border=\"1\" class=\"dataframe\">\n",
       "  <thead>\n",
       "    <tr style=\"text-align: right;\">\n",
       "      <th></th>\n",
       "      <th>0</th>\n",
       "      <th>1</th>\n",
       "      <th>2</th>\n",
       "      <th>3</th>\n",
       "      <th>4</th>\n",
       "      <th>5</th>\n",
       "      <th>6</th>\n",
       "      <th>7</th>\n",
       "      <th>8</th>\n",
       "      <th>9</th>\n",
       "      <th>...</th>\n",
       "      <th>270</th>\n",
       "      <th>271</th>\n",
       "      <th>272</th>\n",
       "      <th>273</th>\n",
       "      <th>274</th>\n",
       "      <th>275</th>\n",
       "      <th>276</th>\n",
       "      <th>277</th>\n",
       "      <th>278</th>\n",
       "      <th>279</th>\n",
       "    </tr>\n",
       "  </thead>\n",
       "  <tbody>\n",
       "    <tr>\n",
       "      <th>0</th>\n",
       "      <td>75</td>\n",
       "      <td>0</td>\n",
       "      <td>190</td>\n",
       "      <td>80</td>\n",
       "      <td>91</td>\n",
       "      <td>193</td>\n",
       "      <td>371</td>\n",
       "      <td>174</td>\n",
       "      <td>121</td>\n",
       "      <td>-16</td>\n",
       "      <td>...</td>\n",
       "      <td>0</td>\n",
       "      <td>9.0</td>\n",
       "      <td>-0.9</td>\n",
       "      <td>0</td>\n",
       "      <td>0</td>\n",
       "      <td>0.9</td>\n",
       "      <td>2.9</td>\n",
       "      <td>23.3</td>\n",
       "      <td>49.4</td>\n",
       "      <td>8</td>\n",
       "    </tr>\n",
       "    <tr>\n",
       "      <th>1</th>\n",
       "      <td>56</td>\n",
       "      <td>1</td>\n",
       "      <td>165</td>\n",
       "      <td>64</td>\n",
       "      <td>81</td>\n",
       "      <td>174</td>\n",
       "      <td>401</td>\n",
       "      <td>149</td>\n",
       "      <td>39</td>\n",
       "      <td>25</td>\n",
       "      <td>...</td>\n",
       "      <td>0</td>\n",
       "      <td>8.5</td>\n",
       "      <td>0.0</td>\n",
       "      <td>0</td>\n",
       "      <td>0</td>\n",
       "      <td>0.2</td>\n",
       "      <td>2.1</td>\n",
       "      <td>20.4</td>\n",
       "      <td>38.8</td>\n",
       "      <td>6</td>\n",
       "    </tr>\n",
       "    <tr>\n",
       "      <th>2</th>\n",
       "      <td>54</td>\n",
       "      <td>0</td>\n",
       "      <td>172</td>\n",
       "      <td>95</td>\n",
       "      <td>138</td>\n",
       "      <td>163</td>\n",
       "      <td>386</td>\n",
       "      <td>185</td>\n",
       "      <td>102</td>\n",
       "      <td>96</td>\n",
       "      <td>...</td>\n",
       "      <td>0</td>\n",
       "      <td>9.5</td>\n",
       "      <td>-2.4</td>\n",
       "      <td>0</td>\n",
       "      <td>0</td>\n",
       "      <td>0.3</td>\n",
       "      <td>3.4</td>\n",
       "      <td>12.3</td>\n",
       "      <td>49.0</td>\n",
       "      <td>10</td>\n",
       "    </tr>\n",
       "    <tr>\n",
       "      <th>3</th>\n",
       "      <td>55</td>\n",
       "      <td>0</td>\n",
       "      <td>175</td>\n",
       "      <td>94</td>\n",
       "      <td>100</td>\n",
       "      <td>202</td>\n",
       "      <td>380</td>\n",
       "      <td>179</td>\n",
       "      <td>143</td>\n",
       "      <td>28</td>\n",
       "      <td>...</td>\n",
       "      <td>0</td>\n",
       "      <td>12.2</td>\n",
       "      <td>-2.2</td>\n",
       "      <td>0</td>\n",
       "      <td>0</td>\n",
       "      <td>0.4</td>\n",
       "      <td>2.6</td>\n",
       "      <td>34.6</td>\n",
       "      <td>61.6</td>\n",
       "      <td>1</td>\n",
       "    </tr>\n",
       "    <tr>\n",
       "      <th>4</th>\n",
       "      <td>75</td>\n",
       "      <td>0</td>\n",
       "      <td>190</td>\n",
       "      <td>80</td>\n",
       "      <td>88</td>\n",
       "      <td>181</td>\n",
       "      <td>360</td>\n",
       "      <td>177</td>\n",
       "      <td>103</td>\n",
       "      <td>-16</td>\n",
       "      <td>...</td>\n",
       "      <td>0</td>\n",
       "      <td>13.1</td>\n",
       "      <td>-3.6</td>\n",
       "      <td>0</td>\n",
       "      <td>0</td>\n",
       "      <td>-0.1</td>\n",
       "      <td>3.9</td>\n",
       "      <td>25.4</td>\n",
       "      <td>62.8</td>\n",
       "      <td>7</td>\n",
       "    </tr>\n",
       "  </tbody>\n",
       "</table>\n",
       "<p>5 rows × 280 columns</p>\n",
       "</div>"
      ],
      "text/plain": [
       "   0    1    2    3    4    5    6    7    8    9   ...   270   271  272  273  \\\n",
       "0   75    0  190   80   91  193  371  174  121  -16 ...     0   9.0 -0.9    0   \n",
       "1   56    1  165   64   81  174  401  149   39   25 ...     0   8.5  0.0    0   \n",
       "2   54    0  172   95  138  163  386  185  102   96 ...     0   9.5 -2.4    0   \n",
       "3   55    0  175   94  100  202  380  179  143   28 ...     0  12.2 -2.2    0   \n",
       "4   75    0  190   80   88  181  360  177  103  -16 ...     0  13.1 -3.6    0   \n",
       "\n",
       "   274  275  276   277   278  279  \n",
       "0    0  0.9  2.9  23.3  49.4    8  \n",
       "1    0  0.2  2.1  20.4  38.8    6  \n",
       "2    0  0.3  3.4  12.3  49.0   10  \n",
       "3    0  0.4  2.6  34.6  61.6    1  \n",
       "4    0 -0.1  3.9  25.4  62.8    7  \n",
       "\n",
       "[5 rows x 280 columns]"
      ]
     },
     "execution_count": 22,
     "metadata": {},
     "output_type": "execute_result"
    }
   ],
   "source": [
    "df.head()"
   ]
  },
  {
   "cell_type": "markdown",
   "metadata": {},
   "source": [
    "###### var 0"
   ]
  },
  {
   "cell_type": "code",
   "execution_count": 23,
   "metadata": {
    "collapsed": false
   },
   "outputs": [
    {
     "data": {
      "text/plain": [
       "46    15\n",
       "36    14\n",
       "37    14\n",
       "47    14\n",
       "44    13\n",
       "35    13\n",
       "45    13\n",
       "40    12\n",
       "50    12\n",
       "57    12\n",
       "Name: 0, dtype: int64"
      ]
     },
     "execution_count": 23,
     "metadata": {},
     "output_type": "execute_result"
    }
   ],
   "source": [
    "# I did a value count on the first feature of this data set\n",
    "# And since all the numbers are in range of resonable age value\n",
    "# So hypothetically this could be the ages of the patients\n",
    "df[0].value_counts()[:10]"
   ]
  },
  {
   "cell_type": "code",
   "execution_count": 24,
   "metadata": {
    "collapsed": false
   },
   "outputs": [
    {
     "data": {
      "text/plain": [
       "(array([  9.,  12.,  20.,  47.,  81.,  89.,  82.,  61.,  36.,  15.]),\n",
       " array([  0. ,   8.3,  16.6,  24.9,  33.2,  41.5,  49.8,  58.1,  66.4,\n",
       "         74.7,  83. ]),\n",
       " <a list of 10 Patch objects>)"
      ]
     },
     "execution_count": 24,
     "metadata": {},
     "output_type": "execute_result"
    },
    {
     "data": {
      "image/png": "[encoded data removed]",
      "text/plain": [
       "<matplotlib.figure.Figure at 0x1076aff10>"
      ]
     },
     "metadata": {},
     "output_type": "display_data"
    }
   ],
   "source": [
    "#This histo graph also reinforced my belief that var 0 is the age of the patients\n",
    "plt.hist(df[0], 10)"
   ]
  },
  {
   "cell_type": "markdown",
   "metadata": {},
   "source": [
    "###### var 1"
   ]
  },
  {
   "cell_type": "code",
   "execution_count": 25,
   "metadata": {
    "collapsed": false,
    "scrolled": true
   },
   "outputs": [
    {
     "data": {
      "text/plain": [
       "1    249\n",
       "0    203\n",
       "Name: 1, dtype: int64"
      ]
     },
     "execution_count": 25,
     "metadata": {},
     "output_type": "execute_result"
    }
   ],
   "source": [
    "#var 1 contains only 0s and 1s\n",
    "#the highest possibility for this variable is to be the patients's gender (Male/Female)\n",
    "#or var 1 could be eventually be the thing we are trying to predict which make this a classification problem\n",
    "df[1].value_counts()"
   ]
  },
  {
   "cell_type": "markdown",
   "metadata": {},
   "source": [
    "###### var 2"
   ]
  },
  {
   "cell_type": "code",
   "execution_count": 26,
   "metadata": {
    "collapsed": false
   },
   "outputs": [
    {
     "data": {
      "text/plain": [
       "160    81\n",
       "165    46\n",
       "170    40\n",
       "155    23\n",
       "175    21\n",
       "156    19\n",
       "163    16\n",
       "162    15\n",
       "168    15\n",
       "172    14\n",
       "Name: 2, dtype: int64"
      ]
     },
     "execution_count": 26,
     "metadata": {},
     "output_type": "execute_result"
    }
   ],
   "source": [
    "df[2].value_counts()[:10]"
   ]
  },
  {
   "cell_type": "code",
   "execution_count": 27,
   "metadata": {
    "collapsed": false
   },
   "outputs": [
    {
     "data": {
      "text/plain": [
       "140    1\n",
       "146    1\n",
       "148    1\n",
       "149    1\n",
       "152    1\n",
       "179    1\n",
       "181    1\n",
       "184    1\n",
       "188    1\n",
       "608    1\n",
       "Name: 2, dtype: int64"
      ]
     },
     "execution_count": 27,
     "metadata": {},
     "output_type": "execute_result"
    }
   ],
   "source": [
    "df[2].value_counts()[-10:]"
   ]
  },
  {
   "cell_type": "code",
   "execution_count": 28,
   "metadata": {
    "collapsed": false
   },
   "outputs": [
    {
     "data": {
      "text/plain": [
       "(array([   2.,    0.,    4.,    3.,    3.,    1.,   13.,   70.,  178.,\n",
       "         102.,   56.,   11.,    7.,    0.,    0.,    0.,    0.,    0.,\n",
       "           0.,    0.,    0.,    0.,    0.,    0.,    0.,    0.,    0.,\n",
       "           0.,    0.,    0.,    0.,    0.,    0.,    0.,    0.,    0.,\n",
       "           0.,    0.,    0.,    0.,    0.,    0.,    0.,    0.,    0.,\n",
       "           0.,    0.,    0.,    0.,    0.,    0.,    0.,    0.,    0.,\n",
       "           0.,    0.,    0.,    0.,    0.,    0.,    0.,    0.,    0.,\n",
       "           0.,    0.,    0.,    0.,    0.,    0.,    0.,    0.,    0.,\n",
       "           0.,    0.,    1.,    0.,    0.,    0.,    0.,    0.,    0.,\n",
       "           0.,    0.,    0.,    0.,    0.,    0.,    0.,    0.,    0.,\n",
       "           0.,    0.,    0.,    0.,    0.,    0.,    0.,    0.,    0.,    1.]),\n",
       " array([ 105.  ,  111.75,  118.5 ,  125.25,  132.  ,  138.75,  145.5 ,\n",
       "         152.25,  159.  ,  165.75,  172.5 ,  179.25,  186.  ,  192.75,\n",
       "         199.5 ,  206.25,  213.  ,  219.75,  226.5 ,  233.25,  240.  ,\n",
       "         246.75,  253.5 ,  260.25,  267.  ,  273.75,  280.5 ,  287.25,\n",
       "         294.  ,  300.75,  307.5 ,  314.25,  321.  ,  327.75,  334.5 ,\n",
       "         341.25,  348.  ,  354.75,  361.5 ,  368.25,  375.  ,  381.75,\n",
       "         388.5 ,  395.25,  402.  ,  408.75,  415.5 ,  422.25,  429.  ,\n",
       "         435.75,  442.5 ,  449.25,  456.  ,  462.75,  469.5 ,  476.25,\n",
       "         483.  ,  489.75,  496.5 ,  503.25,  510.  ,  516.75,  523.5 ,\n",
       "         530.25,  537.  ,  543.75,  550.5 ,  557.25,  564.  ,  570.75,\n",
       "         577.5 ,  584.25,  591.  ,  597.75,  604.5 ,  611.25,  618.  ,\n",
       "         624.75,  631.5 ,  638.25,  645.  ,  651.75,  658.5 ,  665.25,\n",
       "         672.  ,  678.75,  685.5 ,  692.25,  699.  ,  705.75,  712.5 ,\n",
       "         719.25,  726.  ,  732.75,  739.5 ,  746.25,  753.  ,  759.75,\n",
       "         766.5 ,  773.25,  780.  ]),\n",
       " <a list of 100 Patch objects>)"
      ]
     },
     "execution_count": 28,
     "metadata": {},
     "output_type": "execute_result"
    },
    {
     "data": {
      "image/png": "[encoded data removed]",
      "text/plain": [
       "<matplotlib.figure.Figure at 0x103e11ad0>"
      ]
     },
     "metadata": {},
     "output_type": "display_data"
    }
   ],
   "source": [
    "plt.hist(df[2],100)"
   ]
  },
  {
   "cell_type": "code",
   "execution_count": 29,
   "metadata": {
    "collapsed": false
   },
   "outputs": [
    {
     "data": {
      "text/plain": [
       "count    452.000000\n",
       "mean     166.188053\n",
       "std       37.170340\n",
       "min      105.000000\n",
       "25%      160.000000\n",
       "50%      164.000000\n",
       "75%      170.000000\n",
       "max      780.000000\n",
       "Name: 2, dtype: float64"
      ]
     },
     "execution_count": 29,
     "metadata": {},
     "output_type": "execute_result"
    }
   ],
   "source": [
    "# var 2 could be the height of the patient\n",
    "# the couple unusual numbers(outliers) could be a mistable made by input faculty\n",
    "df[2].describe()"
   ]
  },
  {
   "cell_type": "markdown",
   "metadata": {},
   "source": [
    "###### var 3"
   ]
  },
  {
   "cell_type": "code",
   "execution_count": 30,
   "metadata": {
    "collapsed": false
   },
   "outputs": [
    {
     "data": {
      "text/plain": [
       "count    452.000000\n",
       "mean      68.170354\n",
       "std       16.590803\n",
       "min        6.000000\n",
       "25%       59.000000\n",
       "50%       68.000000\n",
       "75%       79.000000\n",
       "max      176.000000\n",
       "Name: 3, dtype: float64"
      ]
     },
     "execution_count": 30,
     "metadata": {},
     "output_type": "execute_result"
    }
   ],
   "source": [
    "df[3].describe()"
   ]
  },
  {
   "cell_type": "code",
   "execution_count": 31,
   "metadata": {
    "collapsed": false
   },
   "outputs": [
    {
     "data": {
      "text/plain": [
       "80    29\n",
       "70    29\n",
       "65    26\n",
       "60    21\n",
       "75    15\n",
       "55    15\n",
       "74    14\n",
       "68    13\n",
       "72    12\n",
       "85    12\n",
       "Name: 3, dtype: int64"
      ]
     },
     "execution_count": 31,
     "metadata": {},
     "output_type": "execute_result"
    }
   ],
   "source": [
    "df[3].value_counts()[:10]"
   ]
  },
  {
   "cell_type": "code",
   "execution_count": 32,
   "metadata": {
    "collapsed": false
   },
   "outputs": [
    {
     "data": {
      "text/html": [
       "<div>\n",
       "<table border=\"1\" class=\"dataframe\">\n",
       "  <thead>\n",
       "    <tr style=\"text-align: right;\">\n",
       "      <th></th>\n",
       "      <th></th>\n",
       "      <th></th>\n",
       "      <th></th>\n",
       "      <th>3</th>\n",
       "    </tr>\n",
       "    <tr>\n",
       "      <th>0</th>\n",
       "      <th>1</th>\n",
       "      <th>2</th>\n",
       "      <th></th>\n",
       "      <th></th>\n",
       "    </tr>\n",
       "  </thead>\n",
       "  <tbody>\n",
       "    <tr>\n",
       "      <th rowspan=\"5\" valign=\"top\">0</th>\n",
       "      <th rowspan=\"5\" valign=\"top\">0</th>\n",
       "      <th rowspan=\"5\" valign=\"top\">608</th>\n",
       "      <th>count</th>\n",
       "      <td>1</td>\n",
       "    </tr>\n",
       "    <tr>\n",
       "      <th>mean</th>\n",
       "      <td>10</td>\n",
       "    </tr>\n",
       "    <tr>\n",
       "      <th>std</th>\n",
       "      <td>NaN</td>\n",
       "    </tr>\n",
       "    <tr>\n",
       "      <th>min</th>\n",
       "      <td>10</td>\n",
       "    </tr>\n",
       "    <tr>\n",
       "      <th>25%</th>\n",
       "      <td>10</td>\n",
       "    </tr>\n",
       "  </tbody>\n",
       "</table>\n",
       "</div>"
      ],
      "text/plain": [
       "                3\n",
       "0 1 2            \n",
       "0 0 608 count   1\n",
       "        mean   10\n",
       "        std   NaN\n",
       "        min    10\n",
       "        25%    10"
      ]
     },
     "execution_count": 32,
     "metadata": {},
     "output_type": "execute_result"
    }
   ],
   "source": [
    "df.groupby([0,1,2])[[3]].describe().head()"
   ]
  },
  {
   "cell_type": "code",
   "execution_count": 33,
   "metadata": {
    "collapsed": false
   },
   "outputs": [
    {
     "data": {
      "text/plain": [
       "(array([  1.,   0.,   2.,   1.,   0.,   0.,   0.,   1.,   1.,   1.,   1.,\n",
       "          2.,   1.,   1.,   2.,   1.,   0.,   0.,   1.,   0.,   2.,   3.,\n",
       "          5.,   1.,   8.,   4.,   5.,  17.,  24.,   9.,  14.,  29.,  17.,\n",
       "         12.,  36.,  16.,  13.,  32.,  17.,   9.,  29.,  11.,  14.,  29.,\n",
       "         11.,  10.,  12.,   4.,   6.,   9.,   1.,   6.,   9.,   2.,   1.,\n",
       "          1.,   0.,   2.,   3.,   0.,   0.,   1.,   0.,   0.,   0.,   0.,\n",
       "          0.,   0.,   0.,   1.,   0.,   0.,   0.,   0.,   0.,   0.,   0.,\n",
       "          0.,   0.,   0.,   0.,   0.,   0.,   0.,   0.,   0.,   0.,   0.,\n",
       "          0.,   0.,   0.,   0.,   0.,   0.,   0.,   0.,   0.,   0.,   0.,\n",
       "          1.]),\n",
       " array([   6. ,    7.7,    9.4,   11.1,   12.8,   14.5,   16.2,   17.9,\n",
       "          19.6,   21.3,   23. ,   24.7,   26.4,   28.1,   29.8,   31.5,\n",
       "          33.2,   34.9,   36.6,   38.3,   40. ,   41.7,   43.4,   45.1,\n",
       "          46.8,   48.5,   50.2,   51.9,   53.6,   55.3,   57. ,   58.7,\n",
       "          60.4,   62.1,   63.8,   65.5,   67.2,   68.9,   70.6,   72.3,\n",
       "          74. ,   75.7,   77.4,   79.1,   80.8,   82.5,   84.2,   85.9,\n",
       "          87.6,   89.3,   91. ,   92.7,   94.4,   96.1,   97.8,   99.5,\n",
       "         101.2,  102.9,  104.6,  106.3,  108. ,  109.7,  111.4,  113.1,\n",
       "         114.8,  116.5,  118.2,  119.9,  121.6,  123.3,  125. ,  126.7,\n",
       "         128.4,  130.1,  131.8,  133.5,  135.2,  136.9,  138.6,  140.3,\n",
       "         142. ,  143.7,  145.4,  147.1,  148.8,  150.5,  152.2,  153.9,\n",
       "         155.6,  157.3,  159. ,  160.7,  162.4,  164.1,  165.8,  167.5,\n",
       "         169.2,  170.9,  172.6,  174.3,  176. ]),\n",
       " <a list of 100 Patch objects>)"
      ]
     },
     "execution_count": 33,
     "metadata": {},
     "output_type": "execute_result"
    },
    {
     "data": {
      "image/png": "[encoded data removed]",
      "text/plain": [
       "<matplotlib.figure.Figure at 0x103e3ab90>"
      ]
     },
     "metadata": {},
     "output_type": "display_data"
    }
   ],
   "source": [
    "# var 3 could be the patients' weight\n",
    "# some of the number is relatively small, but this is probably due to patients' age\n",
    "plt.hist(df[3], 100)"
   ]
  },
  {
   "cell_type": "markdown",
   "metadata": {},
   "source": [
    "### 6.3"
   ]
  },
  {
   "cell_type": "code",
   "execution_count": 34,
   "metadata": {
    "collapsed": false,
    "scrolled": true
   },
   "outputs": [
    {
     "data": {
      "text/plain": [
       "True"
      ]
     },
     "execution_count": 34,
     "metadata": {},
     "output_type": "execute_result"
    }
   ],
   "source": [
    "#It seems like there are null points in the dataset\n",
    "df.isnull().values.any()"
   ]
  },
  {
   "cell_type": "code",
   "execution_count": 35,
   "metadata": {
    "collapsed": false,
    "scrolled": true
   },
   "outputs": [
    {
     "data": {
      "text/html": [
       "<div>\n",
       "<table border=\"1\" class=\"dataframe\">\n",
       "  <thead>\n",
       "    <tr style=\"text-align: right;\">\n",
       "      <th></th>\n",
       "      <th>0</th>\n",
       "      <th>1</th>\n",
       "      <th>2</th>\n",
       "      <th>3</th>\n",
       "      <th>4</th>\n",
       "      <th>5</th>\n",
       "      <th>6</th>\n",
       "      <th>7</th>\n",
       "      <th>8</th>\n",
       "      <th>9</th>\n",
       "      <th>...</th>\n",
       "      <th>270</th>\n",
       "      <th>271</th>\n",
       "      <th>272</th>\n",
       "      <th>273</th>\n",
       "      <th>274</th>\n",
       "      <th>275</th>\n",
       "      <th>276</th>\n",
       "      <th>277</th>\n",
       "      <th>278</th>\n",
       "      <th>279</th>\n",
       "    </tr>\n",
       "  </thead>\n",
       "  <tbody>\n",
       "    <tr>\n",
       "      <th>0</th>\n",
       "      <td>75</td>\n",
       "      <td>0</td>\n",
       "      <td>190</td>\n",
       "      <td>80</td>\n",
       "      <td>91</td>\n",
       "      <td>193</td>\n",
       "      <td>371</td>\n",
       "      <td>174</td>\n",
       "      <td>121</td>\n",
       "      <td>-16</td>\n",
       "      <td>...</td>\n",
       "      <td>0.0</td>\n",
       "      <td>9.0</td>\n",
       "      <td>-0.9</td>\n",
       "      <td>0</td>\n",
       "      <td>0</td>\n",
       "      <td>0.9</td>\n",
       "      <td>2.9</td>\n",
       "      <td>23.3</td>\n",
       "      <td>49.4</td>\n",
       "      <td>8</td>\n",
       "    </tr>\n",
       "    <tr>\n",
       "      <th>1</th>\n",
       "      <td>56</td>\n",
       "      <td>1</td>\n",
       "      <td>165</td>\n",
       "      <td>64</td>\n",
       "      <td>81</td>\n",
       "      <td>174</td>\n",
       "      <td>401</td>\n",
       "      <td>149</td>\n",
       "      <td>39</td>\n",
       "      <td>25</td>\n",
       "      <td>...</td>\n",
       "      <td>0.0</td>\n",
       "      <td>8.5</td>\n",
       "      <td>0.0</td>\n",
       "      <td>0</td>\n",
       "      <td>0</td>\n",
       "      <td>0.2</td>\n",
       "      <td>2.1</td>\n",
       "      <td>20.4</td>\n",
       "      <td>38.8</td>\n",
       "      <td>6</td>\n",
       "    </tr>\n",
       "    <tr>\n",
       "      <th>2</th>\n",
       "      <td>54</td>\n",
       "      <td>0</td>\n",
       "      <td>172</td>\n",
       "      <td>95</td>\n",
       "      <td>138</td>\n",
       "      <td>163</td>\n",
       "      <td>386</td>\n",
       "      <td>185</td>\n",
       "      <td>102</td>\n",
       "      <td>96</td>\n",
       "      <td>...</td>\n",
       "      <td>0.0</td>\n",
       "      <td>9.5</td>\n",
       "      <td>-2.4</td>\n",
       "      <td>0</td>\n",
       "      <td>0</td>\n",
       "      <td>0.3</td>\n",
       "      <td>3.4</td>\n",
       "      <td>12.3</td>\n",
       "      <td>49.0</td>\n",
       "      <td>10</td>\n",
       "    </tr>\n",
       "    <tr>\n",
       "      <th>3</th>\n",
       "      <td>55</td>\n",
       "      <td>0</td>\n",
       "      <td>175</td>\n",
       "      <td>94</td>\n",
       "      <td>100</td>\n",
       "      <td>202</td>\n",
       "      <td>380</td>\n",
       "      <td>179</td>\n",
       "      <td>143</td>\n",
       "      <td>28</td>\n",
       "      <td>...</td>\n",
       "      <td>0.0</td>\n",
       "      <td>12.2</td>\n",
       "      <td>-2.2</td>\n",
       "      <td>0</td>\n",
       "      <td>0</td>\n",
       "      <td>0.4</td>\n",
       "      <td>2.6</td>\n",
       "      <td>34.6</td>\n",
       "      <td>61.6</td>\n",
       "      <td>1</td>\n",
       "    </tr>\n",
       "    <tr>\n",
       "      <th>4</th>\n",
       "      <td>75</td>\n",
       "      <td>0</td>\n",
       "      <td>190</td>\n",
       "      <td>80</td>\n",
       "      <td>88</td>\n",
       "      <td>181</td>\n",
       "      <td>360</td>\n",
       "      <td>177</td>\n",
       "      <td>103</td>\n",
       "      <td>-16</td>\n",
       "      <td>...</td>\n",
       "      <td>0.0</td>\n",
       "      <td>13.1</td>\n",
       "      <td>-3.6</td>\n",
       "      <td>0</td>\n",
       "      <td>0</td>\n",
       "      <td>-0.1</td>\n",
       "      <td>3.9</td>\n",
       "      <td>25.4</td>\n",
       "      <td>62.8</td>\n",
       "      <td>7</td>\n",
       "    </tr>\n",
       "    <tr>\n",
       "      <th>5</th>\n",
       "      <td>13</td>\n",
       "      <td>0</td>\n",
       "      <td>169</td>\n",
       "      <td>51</td>\n",
       "      <td>100</td>\n",
       "      <td>167</td>\n",
       "      <td>321</td>\n",
       "      <td>174</td>\n",
       "      <td>91</td>\n",
       "      <td>107</td>\n",
       "      <td>...</td>\n",
       "      <td>-0.6</td>\n",
       "      <td>12.2</td>\n",
       "      <td>-2.8</td>\n",
       "      <td>0</td>\n",
       "      <td>0</td>\n",
       "      <td>0.9</td>\n",
       "      <td>2.2</td>\n",
       "      <td>13.5</td>\n",
       "      <td>31.1</td>\n",
       "      <td>14</td>\n",
       "    </tr>\n",
       "    <tr>\n",
       "      <th>6</th>\n",
       "      <td>40</td>\n",
       "      <td>1</td>\n",
       "      <td>160</td>\n",
       "      <td>52</td>\n",
       "      <td>77</td>\n",
       "      <td>129</td>\n",
       "      <td>377</td>\n",
       "      <td>133</td>\n",
       "      <td>77</td>\n",
       "      <td>77</td>\n",
       "      <td>...</td>\n",
       "      <td>0.0</td>\n",
       "      <td>6.5</td>\n",
       "      <td>0.0</td>\n",
       "      <td>0</td>\n",
       "      <td>0</td>\n",
       "      <td>0.4</td>\n",
       "      <td>1.0</td>\n",
       "      <td>14.3</td>\n",
       "      <td>20.5</td>\n",
       "      <td>1</td>\n",
       "    </tr>\n",
       "    <tr>\n",
       "      <th>7</th>\n",
       "      <td>49</td>\n",
       "      <td>1</td>\n",
       "      <td>162</td>\n",
       "      <td>54</td>\n",
       "      <td>78</td>\n",
       "      <td>0</td>\n",
       "      <td>376</td>\n",
       "      <td>157</td>\n",
       "      <td>70</td>\n",
       "      <td>67</td>\n",
       "      <td>...</td>\n",
       "      <td>0.0</td>\n",
       "      <td>8.2</td>\n",
       "      <td>-1.9</td>\n",
       "      <td>0</td>\n",
       "      <td>0</td>\n",
       "      <td>0.1</td>\n",
       "      <td>0.5</td>\n",
       "      <td>15.8</td>\n",
       "      <td>19.8</td>\n",
       "      <td>1</td>\n",
       "    </tr>\n",
       "    <tr>\n",
       "      <th>8</th>\n",
       "      <td>44</td>\n",
       "      <td>0</td>\n",
       "      <td>168</td>\n",
       "      <td>56</td>\n",
       "      <td>84</td>\n",
       "      <td>118</td>\n",
       "      <td>354</td>\n",
       "      <td>160</td>\n",
       "      <td>63</td>\n",
       "      <td>61</td>\n",
       "      <td>...</td>\n",
       "      <td>0.0</td>\n",
       "      <td>7.0</td>\n",
       "      <td>-1.3</td>\n",
       "      <td>0</td>\n",
       "      <td>0</td>\n",
       "      <td>0.6</td>\n",
       "      <td>2.1</td>\n",
       "      <td>12.5</td>\n",
       "      <td>30.9</td>\n",
       "      <td>1</td>\n",
       "    </tr>\n",
       "    <tr>\n",
       "      <th>9</th>\n",
       "      <td>50</td>\n",
       "      <td>1</td>\n",
       "      <td>167</td>\n",
       "      <td>67</td>\n",
       "      <td>89</td>\n",
       "      <td>130</td>\n",
       "      <td>383</td>\n",
       "      <td>156</td>\n",
       "      <td>73</td>\n",
       "      <td>85</td>\n",
       "      <td>...</td>\n",
       "      <td>-0.6</td>\n",
       "      <td>10.8</td>\n",
       "      <td>-1.7</td>\n",
       "      <td>0</td>\n",
       "      <td>0</td>\n",
       "      <td>0.8</td>\n",
       "      <td>0.9</td>\n",
       "      <td>20.1</td>\n",
       "      <td>25.1</td>\n",
       "      <td>10</td>\n",
       "    </tr>\n",
       "    <tr>\n",
       "      <th>10</th>\n",
       "      <td>62</td>\n",
       "      <td>0</td>\n",
       "      <td>170</td>\n",
       "      <td>72</td>\n",
       "      <td>102</td>\n",
       "      <td>135</td>\n",
       "      <td>401</td>\n",
       "      <td>156</td>\n",
       "      <td>83</td>\n",
       "      <td>72</td>\n",
       "      <td>...</td>\n",
       "      <td>-0.5</td>\n",
       "      <td>9.0</td>\n",
       "      <td>-2.0</td>\n",
       "      <td>0</td>\n",
       "      <td>0</td>\n",
       "      <td>0.8</td>\n",
       "      <td>0.9</td>\n",
       "      <td>12.3</td>\n",
       "      <td>19.3</td>\n",
       "      <td>3</td>\n",
       "    </tr>\n",
       "    <tr>\n",
       "      <th>11</th>\n",
       "      <td>45</td>\n",
       "      <td>1</td>\n",
       "      <td>165</td>\n",
       "      <td>86</td>\n",
       "      <td>77</td>\n",
       "      <td>143</td>\n",
       "      <td>373</td>\n",
       "      <td>150</td>\n",
       "      <td>65</td>\n",
       "      <td>12</td>\n",
       "      <td>...</td>\n",
       "      <td>0.0</td>\n",
       "      <td>4.4</td>\n",
       "      <td>-2.2</td>\n",
       "      <td>0</td>\n",
       "      <td>0</td>\n",
       "      <td>0.5</td>\n",
       "      <td>1.5</td>\n",
       "      <td>4.9</td>\n",
       "      <td>17.2</td>\n",
       "      <td>1</td>\n",
       "    </tr>\n",
       "    <tr>\n",
       "      <th>12</th>\n",
       "      <td>54</td>\n",
       "      <td>1</td>\n",
       "      <td>172</td>\n",
       "      <td>58</td>\n",
       "      <td>78</td>\n",
       "      <td>155</td>\n",
       "      <td>382</td>\n",
       "      <td>163</td>\n",
       "      <td>81</td>\n",
       "      <td>-24</td>\n",
       "      <td>...</td>\n",
       "      <td>0.0</td>\n",
       "      <td>6.3</td>\n",
       "      <td>-2.1</td>\n",
       "      <td>0</td>\n",
       "      <td>0</td>\n",
       "      <td>0.8</td>\n",
       "      <td>0.5</td>\n",
       "      <td>8.8</td>\n",
       "      <td>12.1</td>\n",
       "      <td>10</td>\n",
       "    </tr>\n",
       "    <tr>\n",
       "      <th>13</th>\n",
       "      <td>30</td>\n",
       "      <td>0</td>\n",
       "      <td>170</td>\n",
       "      <td>73</td>\n",
       "      <td>91</td>\n",
       "      <td>180</td>\n",
       "      <td>355</td>\n",
       "      <td>157</td>\n",
       "      <td>104</td>\n",
       "      <td>68</td>\n",
       "      <td>...</td>\n",
       "      <td>-0.9</td>\n",
       "      <td>12.3</td>\n",
       "      <td>0.0</td>\n",
       "      <td>0</td>\n",
       "      <td>0</td>\n",
       "      <td>0.4</td>\n",
       "      <td>2.1</td>\n",
       "      <td>28.5</td>\n",
       "      <td>48.6</td>\n",
       "      <td>6</td>\n",
       "    </tr>\n",
       "    <tr>\n",
       "      <th>14</th>\n",
       "      <td>44</td>\n",
       "      <td>1</td>\n",
       "      <td>160</td>\n",
       "      <td>88</td>\n",
       "      <td>77</td>\n",
       "      <td>158</td>\n",
       "      <td>399</td>\n",
       "      <td>163</td>\n",
       "      <td>94</td>\n",
       "      <td>46</td>\n",
       "      <td>...</td>\n",
       "      <td>-0.6</td>\n",
       "      <td>12.4</td>\n",
       "      <td>0.0</td>\n",
       "      <td>0</td>\n",
       "      <td>0</td>\n",
       "      <td>0.3</td>\n",
       "      <td>1.7</td>\n",
       "      <td>39.2</td>\n",
       "      <td>54.1</td>\n",
       "      <td>1</td>\n",
       "    </tr>\n",
       "    <tr>\n",
       "      <th>15</th>\n",
       "      <td>47</td>\n",
       "      <td>1</td>\n",
       "      <td>150</td>\n",
       "      <td>48</td>\n",
       "      <td>75</td>\n",
       "      <td>132</td>\n",
       "      <td>350</td>\n",
       "      <td>169</td>\n",
       "      <td>65</td>\n",
       "      <td>36</td>\n",
       "      <td>...</td>\n",
       "      <td>0.0</td>\n",
       "      <td>7.7</td>\n",
       "      <td>-0.8</td>\n",
       "      <td>0</td>\n",
       "      <td>0</td>\n",
       "      <td>0.6</td>\n",
       "      <td>1.7</td>\n",
       "      <td>17.2</td>\n",
       "      <td>31.1</td>\n",
       "      <td>1</td>\n",
       "    </tr>\n",
       "    <tr>\n",
       "      <th>16</th>\n",
       "      <td>47</td>\n",
       "      <td>0</td>\n",
       "      <td>171</td>\n",
       "      <td>59</td>\n",
       "      <td>82</td>\n",
       "      <td>145</td>\n",
       "      <td>347</td>\n",
       "      <td>169</td>\n",
       "      <td>61</td>\n",
       "      <td>77</td>\n",
       "      <td>...</td>\n",
       "      <td>0.0</td>\n",
       "      <td>9.4</td>\n",
       "      <td>-1.7</td>\n",
       "      <td>0</td>\n",
       "      <td>0</td>\n",
       "      <td>0.6</td>\n",
       "      <td>2.3</td>\n",
       "      <td>19.5</td>\n",
       "      <td>41.1</td>\n",
       "      <td>10</td>\n",
       "    </tr>\n",
       "    <tr>\n",
       "      <th>17</th>\n",
       "      <td>46</td>\n",
       "      <td>1</td>\n",
       "      <td>158</td>\n",
       "      <td>58</td>\n",
       "      <td>70</td>\n",
       "      <td>120</td>\n",
       "      <td>353</td>\n",
       "      <td>122</td>\n",
       "      <td>52</td>\n",
       "      <td>57</td>\n",
       "      <td>...</td>\n",
       "      <td>0.0</td>\n",
       "      <td>6.6</td>\n",
       "      <td>0.0</td>\n",
       "      <td>0</td>\n",
       "      <td>0</td>\n",
       "      <td>0.3</td>\n",
       "      <td>0.7</td>\n",
       "      <td>17.1</td>\n",
       "      <td>20.8</td>\n",
       "      <td>1</td>\n",
       "    </tr>\n",
       "    <tr>\n",
       "      <th>18</th>\n",
       "      <td>73</td>\n",
       "      <td>0</td>\n",
       "      <td>165</td>\n",
       "      <td>63</td>\n",
       "      <td>91</td>\n",
       "      <td>154</td>\n",
       "      <td>392</td>\n",
       "      <td>175</td>\n",
       "      <td>83</td>\n",
       "      <td>73</td>\n",
       "      <td>...</td>\n",
       "      <td>0.0</td>\n",
       "      <td>5.7</td>\n",
       "      <td>0.0</td>\n",
       "      <td>0</td>\n",
       "      <td>0</td>\n",
       "      <td>0.4</td>\n",
       "      <td>0.5</td>\n",
       "      <td>18.2</td>\n",
       "      <td>22.4</td>\n",
       "      <td>1</td>\n",
       "    </tr>\n",
       "    <tr>\n",
       "      <th>19</th>\n",
       "      <td>57</td>\n",
       "      <td>1</td>\n",
       "      <td>166</td>\n",
       "      <td>72</td>\n",
       "      <td>82</td>\n",
       "      <td>181</td>\n",
       "      <td>399</td>\n",
       "      <td>158</td>\n",
       "      <td>79</td>\n",
       "      <td>-12</td>\n",
       "      <td>...</td>\n",
       "      <td>0.0</td>\n",
       "      <td>7.7</td>\n",
       "      <td>-0.9</td>\n",
       "      <td>0</td>\n",
       "      <td>0</td>\n",
       "      <td>0.5</td>\n",
       "      <td>1.8</td>\n",
       "      <td>25.2</td>\n",
       "      <td>38.5</td>\n",
       "      <td>1</td>\n",
       "    </tr>\n",
       "    <tr>\n",
       "      <th>20</th>\n",
       "      <td>28</td>\n",
       "      <td>1</td>\n",
       "      <td>160</td>\n",
       "      <td>58</td>\n",
       "      <td>83</td>\n",
       "      <td>251</td>\n",
       "      <td>383</td>\n",
       "      <td>189</td>\n",
       "      <td>183</td>\n",
       "      <td>50</td>\n",
       "      <td>...</td>\n",
       "      <td>-0.6</td>\n",
       "      <td>9.1</td>\n",
       "      <td>-1.4</td>\n",
       "      <td>0</td>\n",
       "      <td>0</td>\n",
       "      <td>0.6</td>\n",
       "      <td>3.3</td>\n",
       "      <td>17.1</td>\n",
       "      <td>54.7</td>\n",
       "      <td>1</td>\n",
       "    </tr>\n",
       "    <tr>\n",
       "      <th>21</th>\n",
       "      <td>45</td>\n",
       "      <td>0</td>\n",
       "      <td>169</td>\n",
       "      <td>67</td>\n",
       "      <td>90</td>\n",
       "      <td>122</td>\n",
       "      <td>336</td>\n",
       "      <td>177</td>\n",
       "      <td>78</td>\n",
       "      <td>81</td>\n",
       "      <td>...</td>\n",
       "      <td>-0.6</td>\n",
       "      <td>8.3</td>\n",
       "      <td>-1.8</td>\n",
       "      <td>0</td>\n",
       "      <td>0</td>\n",
       "      <td>0.8</td>\n",
       "      <td>1.1</td>\n",
       "      <td>11.7</td>\n",
       "      <td>19.6</td>\n",
       "      <td>1</td>\n",
       "    </tr>\n",
       "    <tr>\n",
       "      <th>22</th>\n",
       "      <td>36</td>\n",
       "      <td>1</td>\n",
       "      <td>153</td>\n",
       "      <td>75</td>\n",
       "      <td>71</td>\n",
       "      <td>132</td>\n",
       "      <td>364</td>\n",
       "      <td>169</td>\n",
       "      <td>82</td>\n",
       "      <td>62</td>\n",
       "      <td>...</td>\n",
       "      <td>0.0</td>\n",
       "      <td>8.9</td>\n",
       "      <td>-1.0</td>\n",
       "      <td>0</td>\n",
       "      <td>0</td>\n",
       "      <td>0.5</td>\n",
       "      <td>1.7</td>\n",
       "      <td>19.7</td>\n",
       "      <td>34.3</td>\n",
       "      <td>1</td>\n",
       "    </tr>\n",
       "    <tr>\n",
       "      <th>23</th>\n",
       "      <td>57</td>\n",
       "      <td>1</td>\n",
       "      <td>165</td>\n",
       "      <td>59</td>\n",
       "      <td>75</td>\n",
       "      <td>157</td>\n",
       "      <td>406</td>\n",
       "      <td>143</td>\n",
       "      <td>92</td>\n",
       "      <td>4</td>\n",
       "      <td>...</td>\n",
       "      <td>0.0</td>\n",
       "      <td>6.7</td>\n",
       "      <td>-0.5</td>\n",
       "      <td>0</td>\n",
       "      <td>0</td>\n",
       "      <td>0.4</td>\n",
       "      <td>1.1</td>\n",
       "      <td>18.4</td>\n",
       "      <td>28.9</td>\n",
       "      <td>1</td>\n",
       "    </tr>\n",
       "    <tr>\n",
       "      <th>24</th>\n",
       "      <td>40</td>\n",
       "      <td>1</td>\n",
       "      <td>153</td>\n",
       "      <td>55</td>\n",
       "      <td>82</td>\n",
       "      <td>140</td>\n",
       "      <td>388</td>\n",
       "      <td>149</td>\n",
       "      <td>82</td>\n",
       "      <td>52</td>\n",
       "      <td>...</td>\n",
       "      <td>0.0</td>\n",
       "      <td>13.6</td>\n",
       "      <td>0.0</td>\n",
       "      <td>0</td>\n",
       "      <td>0</td>\n",
       "      <td>0.5</td>\n",
       "      <td>2.5</td>\n",
       "      <td>35.3</td>\n",
       "      <td>57.3</td>\n",
       "      <td>1</td>\n",
       "    </tr>\n",
       "    <tr>\n",
       "      <th>25</th>\n",
       "      <td>44</td>\n",
       "      <td>0</td>\n",
       "      <td>169</td>\n",
       "      <td>80</td>\n",
       "      <td>109</td>\n",
       "      <td>128</td>\n",
       "      <td>382</td>\n",
       "      <td>195</td>\n",
       "      <td>60</td>\n",
       "      <td>-34</td>\n",
       "      <td>...</td>\n",
       "      <td>0.0</td>\n",
       "      <td>6.9</td>\n",
       "      <td>0.0</td>\n",
       "      <td>0</td>\n",
       "      <td>0</td>\n",
       "      <td>0.4</td>\n",
       "      <td>1.3</td>\n",
       "      <td>20.7</td>\n",
       "      <td>29.2</td>\n",
       "      <td>16</td>\n",
       "    </tr>\n",
       "    <tr>\n",
       "      <th>26</th>\n",
       "      <td>34</td>\n",
       "      <td>0</td>\n",
       "      <td>170</td>\n",
       "      <td>73</td>\n",
       "      <td>94</td>\n",
       "      <td>186</td>\n",
       "      <td>373</td>\n",
       "      <td>224</td>\n",
       "      <td>125</td>\n",
       "      <td>90</td>\n",
       "      <td>...</td>\n",
       "      <td>0.0</td>\n",
       "      <td>15.3</td>\n",
       "      <td>-1.1</td>\n",
       "      <td>0</td>\n",
       "      <td>0</td>\n",
       "      <td>0.6</td>\n",
       "      <td>2.6</td>\n",
       "      <td>44.0</td>\n",
       "      <td>68.4</td>\n",
       "      <td>14</td>\n",
       "    </tr>\n",
       "    <tr>\n",
       "      <th>27</th>\n",
       "      <td>31</td>\n",
       "      <td>1</td>\n",
       "      <td>160</td>\n",
       "      <td>54</td>\n",
       "      <td>95</td>\n",
       "      <td>161</td>\n",
       "      <td>407</td>\n",
       "      <td>168</td>\n",
       "      <td>83</td>\n",
       "      <td>10</td>\n",
       "      <td>...</td>\n",
       "      <td>0.0</td>\n",
       "      <td>12.7</td>\n",
       "      <td>-1.8</td>\n",
       "      <td>0</td>\n",
       "      <td>0</td>\n",
       "      <td>0.3</td>\n",
       "      <td>3.2</td>\n",
       "      <td>25.4</td>\n",
       "      <td>54.8</td>\n",
       "      <td>10</td>\n",
       "    </tr>\n",
       "    <tr>\n",
       "      <th>28</th>\n",
       "      <td>56</td>\n",
       "      <td>1</td>\n",
       "      <td>164</td>\n",
       "      <td>65</td>\n",
       "      <td>90</td>\n",
       "      <td>164</td>\n",
       "      <td>420</td>\n",
       "      <td>381</td>\n",
       "      <td>99</td>\n",
       "      <td>-8</td>\n",
       "      <td>...</td>\n",
       "      <td>0.0</td>\n",
       "      <td>5.4</td>\n",
       "      <td>0.0</td>\n",
       "      <td>0</td>\n",
       "      <td>0</td>\n",
       "      <td>0.4</td>\n",
       "      <td>-1.4</td>\n",
       "      <td>17.2</td>\n",
       "      <td>3.0</td>\n",
       "      <td>2</td>\n",
       "    </tr>\n",
       "    <tr>\n",
       "      <th>29</th>\n",
       "      <td>51</td>\n",
       "      <td>1</td>\n",
       "      <td>160</td>\n",
       "      <td>83</td>\n",
       "      <td>96</td>\n",
       "      <td>147</td>\n",
       "      <td>400</td>\n",
       "      <td>301</td>\n",
       "      <td>82</td>\n",
       "      <td>-37</td>\n",
       "      <td>...</td>\n",
       "      <td>0.0</td>\n",
       "      <td>7.3</td>\n",
       "      <td>-3.9</td>\n",
       "      <td>0</td>\n",
       "      <td>0</td>\n",
       "      <td>0.5</td>\n",
       "      <td>-1.1</td>\n",
       "      <td>3.6</td>\n",
       "      <td>-6.3</td>\n",
       "      <td>2</td>\n",
       "    </tr>\n",
       "    <tr>\n",
       "      <th>...</th>\n",
       "      <td>...</td>\n",
       "      <td>...</td>\n",
       "      <td>...</td>\n",
       "      <td>...</td>\n",
       "      <td>...</td>\n",
       "      <td>...</td>\n",
       "      <td>...</td>\n",
       "      <td>...</td>\n",
       "      <td>...</td>\n",
       "      <td>...</td>\n",
       "      <td>...</td>\n",
       "      <td>...</td>\n",
       "      <td>...</td>\n",
       "      <td>...</td>\n",
       "      <td>...</td>\n",
       "      <td>...</td>\n",
       "      <td>...</td>\n",
       "      <td>...</td>\n",
       "      <td>...</td>\n",
       "      <td>...</td>\n",
       "      <td>...</td>\n",
       "    </tr>\n",
       "    <tr>\n",
       "      <th>422</th>\n",
       "      <td>29</td>\n",
       "      <td>1</td>\n",
       "      <td>162</td>\n",
       "      <td>57</td>\n",
       "      <td>83</td>\n",
       "      <td>164</td>\n",
       "      <td>359</td>\n",
       "      <td>154</td>\n",
       "      <td>69</td>\n",
       "      <td>64</td>\n",
       "      <td>...</td>\n",
       "      <td>0.0</td>\n",
       "      <td>14.1</td>\n",
       "      <td>-2.2</td>\n",
       "      <td>0</td>\n",
       "      <td>0</td>\n",
       "      <td>0.5</td>\n",
       "      <td>3.0</td>\n",
       "      <td>32.7</td>\n",
       "      <td>56.1</td>\n",
       "      <td>1</td>\n",
       "    </tr>\n",
       "    <tr>\n",
       "      <th>423</th>\n",
       "      <td>51</td>\n",
       "      <td>0</td>\n",
       "      <td>186</td>\n",
       "      <td>95</td>\n",
       "      <td>94</td>\n",
       "      <td>203</td>\n",
       "      <td>367</td>\n",
       "      <td>171</td>\n",
       "      <td>106</td>\n",
       "      <td>-7</td>\n",
       "      <td>...</td>\n",
       "      <td>0.0</td>\n",
       "      <td>9.6</td>\n",
       "      <td>-3.5</td>\n",
       "      <td>0</td>\n",
       "      <td>0</td>\n",
       "      <td>1.0</td>\n",
       "      <td>1.6</td>\n",
       "      <td>9.4</td>\n",
       "      <td>23.4</td>\n",
       "      <td>1</td>\n",
       "    </tr>\n",
       "    <tr>\n",
       "      <th>424</th>\n",
       "      <td>7</td>\n",
       "      <td>0</td>\n",
       "      <td>119</td>\n",
       "      <td>21</td>\n",
       "      <td>140</td>\n",
       "      <td>157</td>\n",
       "      <td>438</td>\n",
       "      <td>226</td>\n",
       "      <td>81</td>\n",
       "      <td>-40</td>\n",
       "      <td>...</td>\n",
       "      <td>0.0</td>\n",
       "      <td>10.0</td>\n",
       "      <td>-2.1</td>\n",
       "      <td>0</td>\n",
       "      <td>0</td>\n",
       "      <td>1.0</td>\n",
       "      <td>5.5</td>\n",
       "      <td>36.7</td>\n",
       "      <td>115.9</td>\n",
       "      <td>9</td>\n",
       "    </tr>\n",
       "    <tr>\n",
       "      <th>425</th>\n",
       "      <td>36</td>\n",
       "      <td>0</td>\n",
       "      <td>171</td>\n",
       "      <td>93</td>\n",
       "      <td>87</td>\n",
       "      <td>150</td>\n",
       "      <td>362</td>\n",
       "      <td>177</td>\n",
       "      <td>96</td>\n",
       "      <td>44</td>\n",
       "      <td>...</td>\n",
       "      <td>0.0</td>\n",
       "      <td>10.3</td>\n",
       "      <td>-0.8</td>\n",
       "      <td>0</td>\n",
       "      <td>0</td>\n",
       "      <td>0.6</td>\n",
       "      <td>3.0</td>\n",
       "      <td>24.1</td>\n",
       "      <td>52.9</td>\n",
       "      <td>1</td>\n",
       "    </tr>\n",
       "    <tr>\n",
       "      <th>426</th>\n",
       "      <td>35</td>\n",
       "      <td>1</td>\n",
       "      <td>160</td>\n",
       "      <td>53</td>\n",
       "      <td>55</td>\n",
       "      <td>163</td>\n",
       "      <td>340</td>\n",
       "      <td>162</td>\n",
       "      <td>102</td>\n",
       "      <td>40</td>\n",
       "      <td>...</td>\n",
       "      <td>0.0</td>\n",
       "      <td>8.7</td>\n",
       "      <td>-0.5</td>\n",
       "      <td>0</td>\n",
       "      <td>0</td>\n",
       "      <td>0.5</td>\n",
       "      <td>2.3</td>\n",
       "      <td>20.9</td>\n",
       "      <td>40.6</td>\n",
       "      <td>1</td>\n",
       "    </tr>\n",
       "    <tr>\n",
       "      <th>427</th>\n",
       "      <td>58</td>\n",
       "      <td>0</td>\n",
       "      <td>160</td>\n",
       "      <td>65</td>\n",
       "      <td>133</td>\n",
       "      <td>148</td>\n",
       "      <td>417</td>\n",
       "      <td>260</td>\n",
       "      <td>92</td>\n",
       "      <td>-158</td>\n",
       "      <td>...</td>\n",
       "      <td>-0.4</td>\n",
       "      <td>6.4</td>\n",
       "      <td>-3.5</td>\n",
       "      <td>0</td>\n",
       "      <td>0</td>\n",
       "      <td>0.4</td>\n",
       "      <td>0.8</td>\n",
       "      <td>-2.9</td>\n",
       "      <td>6.5</td>\n",
       "      <td>10</td>\n",
       "    </tr>\n",
       "    <tr>\n",
       "      <th>428</th>\n",
       "      <td>64</td>\n",
       "      <td>0</td>\n",
       "      <td>160</td>\n",
       "      <td>63</td>\n",
       "      <td>83</td>\n",
       "      <td>0</td>\n",
       "      <td>364</td>\n",
       "      <td>120</td>\n",
       "      <td>90</td>\n",
       "      <td>29</td>\n",
       "      <td>...</td>\n",
       "      <td>0.0</td>\n",
       "      <td>6.7</td>\n",
       "      <td>-0.4</td>\n",
       "      <td>0</td>\n",
       "      <td>0</td>\n",
       "      <td>0.3</td>\n",
       "      <td>0.4</td>\n",
       "      <td>23.7</td>\n",
       "      <td>26.4</td>\n",
       "      <td>1</td>\n",
       "    </tr>\n",
       "    <tr>\n",
       "      <th>429</th>\n",
       "      <td>8</td>\n",
       "      <td>1</td>\n",
       "      <td>130</td>\n",
       "      <td>24</td>\n",
       "      <td>77</td>\n",
       "      <td>125</td>\n",
       "      <td>358</td>\n",
       "      <td>159</td>\n",
       "      <td>70</td>\n",
       "      <td>87</td>\n",
       "      <td>...</td>\n",
       "      <td>0.0</td>\n",
       "      <td>11.3</td>\n",
       "      <td>-2.1</td>\n",
       "      <td>0</td>\n",
       "      <td>0</td>\n",
       "      <td>0.7</td>\n",
       "      <td>3.6</td>\n",
       "      <td>16.1</td>\n",
       "      <td>49.2</td>\n",
       "      <td>16</td>\n",
       "    </tr>\n",
       "    <tr>\n",
       "      <th>430</th>\n",
       "      <td>11</td>\n",
       "      <td>0</td>\n",
       "      <td>138</td>\n",
       "      <td>29</td>\n",
       "      <td>123</td>\n",
       "      <td>145</td>\n",
       "      <td>361</td>\n",
       "      <td>221</td>\n",
       "      <td>80</td>\n",
       "      <td>112</td>\n",
       "      <td>...</td>\n",
       "      <td>-3.4</td>\n",
       "      <td>19.6</td>\n",
       "      <td>-4.2</td>\n",
       "      <td>0</td>\n",
       "      <td>0</td>\n",
       "      <td>0.2</td>\n",
       "      <td>1.8</td>\n",
       "      <td>12.2</td>\n",
       "      <td>25.1</td>\n",
       "      <td>10</td>\n",
       "    </tr>\n",
       "    <tr>\n",
       "      <th>431</th>\n",
       "      <td>47</td>\n",
       "      <td>0</td>\n",
       "      <td>166</td>\n",
       "      <td>56</td>\n",
       "      <td>79</td>\n",
       "      <td>145</td>\n",
       "      <td>381</td>\n",
       "      <td>173</td>\n",
       "      <td>101</td>\n",
       "      <td>52</td>\n",
       "      <td>...</td>\n",
       "      <td>0.0</td>\n",
       "      <td>8.5</td>\n",
       "      <td>0.0</td>\n",
       "      <td>0</td>\n",
       "      <td>0</td>\n",
       "      <td>0.6</td>\n",
       "      <td>1.2</td>\n",
       "      <td>20.4</td>\n",
       "      <td>29.0</td>\n",
       "      <td>6</td>\n",
       "    </tr>\n",
       "    <tr>\n",
       "      <th>432</th>\n",
       "      <td>11</td>\n",
       "      <td>0</td>\n",
       "      <td>140</td>\n",
       "      <td>42</td>\n",
       "      <td>88</td>\n",
       "      <td>123</td>\n",
       "      <td>362</td>\n",
       "      <td>228</td>\n",
       "      <td>81</td>\n",
       "      <td>-18</td>\n",
       "      <td>...</td>\n",
       "      <td>0.0</td>\n",
       "      <td>17.1</td>\n",
       "      <td>-7.1</td>\n",
       "      <td>0</td>\n",
       "      <td>0</td>\n",
       "      <td>0.7</td>\n",
       "      <td>5.5</td>\n",
       "      <td>15.1</td>\n",
       "      <td>84.4</td>\n",
       "      <td>10</td>\n",
       "    </tr>\n",
       "    <tr>\n",
       "      <th>433</th>\n",
       "      <td>70</td>\n",
       "      <td>0</td>\n",
       "      <td>167</td>\n",
       "      <td>60</td>\n",
       "      <td>80</td>\n",
       "      <td>149</td>\n",
       "      <td>290</td>\n",
       "      <td>128</td>\n",
       "      <td>93</td>\n",
       "      <td>-67</td>\n",
       "      <td>...</td>\n",
       "      <td>0.0</td>\n",
       "      <td>2.7</td>\n",
       "      <td>-5.4</td>\n",
       "      <td>0</td>\n",
       "      <td>0</td>\n",
       "      <td>0.3</td>\n",
       "      <td>-0.2</td>\n",
       "      <td>-7.1</td>\n",
       "      <td>-8.3</td>\n",
       "      <td>3</td>\n",
       "    </tr>\n",
       "    <tr>\n",
       "      <th>434</th>\n",
       "      <td>20</td>\n",
       "      <td>0</td>\n",
       "      <td>178</td>\n",
       "      <td>65</td>\n",
       "      <td>88</td>\n",
       "      <td>155</td>\n",
       "      <td>360</td>\n",
       "      <td>163</td>\n",
       "      <td>71</td>\n",
       "      <td>-22</td>\n",
       "      <td>...</td>\n",
       "      <td>-0.5</td>\n",
       "      <td>10.2</td>\n",
       "      <td>0.0</td>\n",
       "      <td>0</td>\n",
       "      <td>0</td>\n",
       "      <td>0.5</td>\n",
       "      <td>0.4</td>\n",
       "      <td>24.0</td>\n",
       "      <td>25.4</td>\n",
       "      <td>1</td>\n",
       "    </tr>\n",
       "    <tr>\n",
       "      <th>435</th>\n",
       "      <td>39</td>\n",
       "      <td>1</td>\n",
       "      <td>164</td>\n",
       "      <td>62</td>\n",
       "      <td>79</td>\n",
       "      <td>155</td>\n",
       "      <td>367</td>\n",
       "      <td>153</td>\n",
       "      <td>95</td>\n",
       "      <td>50</td>\n",
       "      <td>...</td>\n",
       "      <td>0.0</td>\n",
       "      <td>9.7</td>\n",
       "      <td>-0.7</td>\n",
       "      <td>0</td>\n",
       "      <td>0</td>\n",
       "      <td>0.8</td>\n",
       "      <td>1.3</td>\n",
       "      <td>24.1</td>\n",
       "      <td>33.7</td>\n",
       "      <td>1</td>\n",
       "    </tr>\n",
       "    <tr>\n",
       "      <th>436</th>\n",
       "      <td>32</td>\n",
       "      <td>1</td>\n",
       "      <td>164</td>\n",
       "      <td>57</td>\n",
       "      <td>77</td>\n",
       "      <td>144</td>\n",
       "      <td>340</td>\n",
       "      <td>148</td>\n",
       "      <td>82</td>\n",
       "      <td>27</td>\n",
       "      <td>...</td>\n",
       "      <td>-0.6</td>\n",
       "      <td>9.9</td>\n",
       "      <td>-0.6</td>\n",
       "      <td>0</td>\n",
       "      <td>0</td>\n",
       "      <td>0.5</td>\n",
       "      <td>2.4</td>\n",
       "      <td>19.1</td>\n",
       "      <td>36.3</td>\n",
       "      <td>1</td>\n",
       "    </tr>\n",
       "    <tr>\n",
       "      <th>437</th>\n",
       "      <td>35</td>\n",
       "      <td>1</td>\n",
       "      <td>155</td>\n",
       "      <td>63</td>\n",
       "      <td>87</td>\n",
       "      <td>142</td>\n",
       "      <td>391</td>\n",
       "      <td>137</td>\n",
       "      <td>88</td>\n",
       "      <td>66</td>\n",
       "      <td>...</td>\n",
       "      <td>0.0</td>\n",
       "      <td>10.7</td>\n",
       "      <td>0.0</td>\n",
       "      <td>0</td>\n",
       "      <td>0</td>\n",
       "      <td>1.0</td>\n",
       "      <td>2.1</td>\n",
       "      <td>25.6</td>\n",
       "      <td>43.2</td>\n",
       "      <td>1</td>\n",
       "    </tr>\n",
       "    <tr>\n",
       "      <th>438</th>\n",
       "      <td>37</td>\n",
       "      <td>0</td>\n",
       "      <td>175</td>\n",
       "      <td>82</td>\n",
       "      <td>88</td>\n",
       "      <td>146</td>\n",
       "      <td>357</td>\n",
       "      <td>179</td>\n",
       "      <td>72</td>\n",
       "      <td>1</td>\n",
       "      <td>...</td>\n",
       "      <td>-0.4</td>\n",
       "      <td>13.5</td>\n",
       "      <td>-1.2</td>\n",
       "      <td>0</td>\n",
       "      <td>0</td>\n",
       "      <td>0.5</td>\n",
       "      <td>0.6</td>\n",
       "      <td>30.1</td>\n",
       "      <td>35.0</td>\n",
       "      <td>1</td>\n",
       "    </tr>\n",
       "    <tr>\n",
       "      <th>439</th>\n",
       "      <td>49</td>\n",
       "      <td>1</td>\n",
       "      <td>168</td>\n",
       "      <td>66</td>\n",
       "      <td>94</td>\n",
       "      <td>170</td>\n",
       "      <td>383</td>\n",
       "      <td>152</td>\n",
       "      <td>115</td>\n",
       "      <td>92</td>\n",
       "      <td>...</td>\n",
       "      <td>0.0</td>\n",
       "      <td>8.2</td>\n",
       "      <td>-0.7</td>\n",
       "      <td>0</td>\n",
       "      <td>0</td>\n",
       "      <td>0.8</td>\n",
       "      <td>1.7</td>\n",
       "      <td>21.5</td>\n",
       "      <td>33.7</td>\n",
       "      <td>1</td>\n",
       "    </tr>\n",
       "    <tr>\n",
       "      <th>440</th>\n",
       "      <td>37</td>\n",
       "      <td>0</td>\n",
       "      <td>176</td>\n",
       "      <td>72</td>\n",
       "      <td>88</td>\n",
       "      <td>153</td>\n",
       "      <td>389</td>\n",
       "      <td>172</td>\n",
       "      <td>89</td>\n",
       "      <td>67</td>\n",
       "      <td>...</td>\n",
       "      <td>-0.9</td>\n",
       "      <td>16.6</td>\n",
       "      <td>-3.4</td>\n",
       "      <td>0</td>\n",
       "      <td>0</td>\n",
       "      <td>0.7</td>\n",
       "      <td>1.8</td>\n",
       "      <td>24.9</td>\n",
       "      <td>41.4</td>\n",
       "      <td>1</td>\n",
       "    </tr>\n",
       "    <tr>\n",
       "      <th>441</th>\n",
       "      <td>37</td>\n",
       "      <td>1</td>\n",
       "      <td>160</td>\n",
       "      <td>50</td>\n",
       "      <td>74</td>\n",
       "      <td>143</td>\n",
       "      <td>374</td>\n",
       "      <td>146</td>\n",
       "      <td>75</td>\n",
       "      <td>68</td>\n",
       "      <td>...</td>\n",
       "      <td>0.0</td>\n",
       "      <td>11.4</td>\n",
       "      <td>-0.9</td>\n",
       "      <td>0</td>\n",
       "      <td>0</td>\n",
       "      <td>0.7</td>\n",
       "      <td>1.8</td>\n",
       "      <td>40.1</td>\n",
       "      <td>55.5</td>\n",
       "      <td>1</td>\n",
       "    </tr>\n",
       "    <tr>\n",
       "      <th>442</th>\n",
       "      <td>65</td>\n",
       "      <td>1</td>\n",
       "      <td>160</td>\n",
       "      <td>50</td>\n",
       "      <td>85</td>\n",
       "      <td>143</td>\n",
       "      <td>363</td>\n",
       "      <td>146</td>\n",
       "      <td>84</td>\n",
       "      <td>-40</td>\n",
       "      <td>...</td>\n",
       "      <td>0.0</td>\n",
       "      <td>6.6</td>\n",
       "      <td>-6.1</td>\n",
       "      <td>0</td>\n",
       "      <td>0</td>\n",
       "      <td>0.5</td>\n",
       "      <td>0.5</td>\n",
       "      <td>-3.8</td>\n",
       "      <td>0.4</td>\n",
       "      <td>1</td>\n",
       "    </tr>\n",
       "    <tr>\n",
       "      <th>443</th>\n",
       "      <td>41</td>\n",
       "      <td>1</td>\n",
       "      <td>154</td>\n",
       "      <td>75</td>\n",
       "      <td>88</td>\n",
       "      <td>157</td>\n",
       "      <td>384</td>\n",
       "      <td>132</td>\n",
       "      <td>112</td>\n",
       "      <td>65</td>\n",
       "      <td>...</td>\n",
       "      <td>-0.4</td>\n",
       "      <td>10.5</td>\n",
       "      <td>-2.5</td>\n",
       "      <td>0</td>\n",
       "      <td>0</td>\n",
       "      <td>0.5</td>\n",
       "      <td>1.4</td>\n",
       "      <td>17.8</td>\n",
       "      <td>29.5</td>\n",
       "      <td>10</td>\n",
       "    </tr>\n",
       "    <tr>\n",
       "      <th>444</th>\n",
       "      <td>29</td>\n",
       "      <td>0</td>\n",
       "      <td>166</td>\n",
       "      <td>63</td>\n",
       "      <td>81</td>\n",
       "      <td>143</td>\n",
       "      <td>325</td>\n",
       "      <td>218</td>\n",
       "      <td>74</td>\n",
       "      <td>24</td>\n",
       "      <td>...</td>\n",
       "      <td>0.0</td>\n",
       "      <td>7.8</td>\n",
       "      <td>-1.3</td>\n",
       "      <td>0</td>\n",
       "      <td>0</td>\n",
       "      <td>0.5</td>\n",
       "      <td>2.3</td>\n",
       "      <td>14.1</td>\n",
       "      <td>37.1</td>\n",
       "      <td>1</td>\n",
       "    </tr>\n",
       "    <tr>\n",
       "      <th>445</th>\n",
       "      <td>45</td>\n",
       "      <td>0</td>\n",
       "      <td>175</td>\n",
       "      <td>75</td>\n",
       "      <td>91</td>\n",
       "      <td>134</td>\n",
       "      <td>376</td>\n",
       "      <td>160</td>\n",
       "      <td>83</td>\n",
       "      <td>91</td>\n",
       "      <td>...</td>\n",
       "      <td>0.0</td>\n",
       "      <td>7.1</td>\n",
       "      <td>-2.4</td>\n",
       "      <td>0</td>\n",
       "      <td>0</td>\n",
       "      <td>-0.4</td>\n",
       "      <td>1.3</td>\n",
       "      <td>8.5</td>\n",
       "      <td>17.6</td>\n",
       "      <td>1</td>\n",
       "    </tr>\n",
       "    <tr>\n",
       "      <th>446</th>\n",
       "      <td>20</td>\n",
       "      <td>1</td>\n",
       "      <td>157</td>\n",
       "      <td>57</td>\n",
       "      <td>81</td>\n",
       "      <td>151</td>\n",
       "      <td>363</td>\n",
       "      <td>166</td>\n",
       "      <td>80</td>\n",
       "      <td>43</td>\n",
       "      <td>...</td>\n",
       "      <td>0.0</td>\n",
       "      <td>7.2</td>\n",
       "      <td>-0.7</td>\n",
       "      <td>0</td>\n",
       "      <td>0</td>\n",
       "      <td>0.5</td>\n",
       "      <td>2.3</td>\n",
       "      <td>17.6</td>\n",
       "      <td>39.2</td>\n",
       "      <td>1</td>\n",
       "    </tr>\n",
       "    <tr>\n",
       "      <th>447</th>\n",
       "      <td>53</td>\n",
       "      <td>1</td>\n",
       "      <td>160</td>\n",
       "      <td>70</td>\n",
       "      <td>80</td>\n",
       "      <td>199</td>\n",
       "      <td>382</td>\n",
       "      <td>154</td>\n",
       "      <td>117</td>\n",
       "      <td>-37</td>\n",
       "      <td>...</td>\n",
       "      <td>0.0</td>\n",
       "      <td>4.3</td>\n",
       "      <td>-5.0</td>\n",
       "      <td>0</td>\n",
       "      <td>0</td>\n",
       "      <td>0.7</td>\n",
       "      <td>0.6</td>\n",
       "      <td>-4.4</td>\n",
       "      <td>-0.5</td>\n",
       "      <td>1</td>\n",
       "    </tr>\n",
       "    <tr>\n",
       "      <th>448</th>\n",
       "      <td>37</td>\n",
       "      <td>0</td>\n",
       "      <td>190</td>\n",
       "      <td>85</td>\n",
       "      <td>100</td>\n",
       "      <td>137</td>\n",
       "      <td>361</td>\n",
       "      <td>201</td>\n",
       "      <td>73</td>\n",
       "      <td>86</td>\n",
       "      <td>...</td>\n",
       "      <td>0.0</td>\n",
       "      <td>15.6</td>\n",
       "      <td>-1.6</td>\n",
       "      <td>0</td>\n",
       "      <td>0</td>\n",
       "      <td>0.4</td>\n",
       "      <td>2.4</td>\n",
       "      <td>38.0</td>\n",
       "      <td>62.4</td>\n",
       "      <td>10</td>\n",
       "    </tr>\n",
       "    <tr>\n",
       "      <th>449</th>\n",
       "      <td>36</td>\n",
       "      <td>0</td>\n",
       "      <td>166</td>\n",
       "      <td>68</td>\n",
       "      <td>108</td>\n",
       "      <td>176</td>\n",
       "      <td>365</td>\n",
       "      <td>194</td>\n",
       "      <td>116</td>\n",
       "      <td>-85</td>\n",
       "      <td>...</td>\n",
       "      <td>0.0</td>\n",
       "      <td>16.3</td>\n",
       "      <td>-28.6</td>\n",
       "      <td>0</td>\n",
       "      <td>0</td>\n",
       "      <td>1.5</td>\n",
       "      <td>1.0</td>\n",
       "      <td>-44.2</td>\n",
       "      <td>-33.2</td>\n",
       "      <td>2</td>\n",
       "    </tr>\n",
       "    <tr>\n",
       "      <th>450</th>\n",
       "      <td>32</td>\n",
       "      <td>1</td>\n",
       "      <td>155</td>\n",
       "      <td>55</td>\n",
       "      <td>93</td>\n",
       "      <td>106</td>\n",
       "      <td>386</td>\n",
       "      <td>218</td>\n",
       "      <td>63</td>\n",
       "      <td>54</td>\n",
       "      <td>...</td>\n",
       "      <td>-0.4</td>\n",
       "      <td>12.0</td>\n",
       "      <td>-0.7</td>\n",
       "      <td>0</td>\n",
       "      <td>0</td>\n",
       "      <td>0.5</td>\n",
       "      <td>2.4</td>\n",
       "      <td>25.0</td>\n",
       "      <td>46.6</td>\n",
       "      <td>1</td>\n",
       "    </tr>\n",
       "    <tr>\n",
       "      <th>451</th>\n",
       "      <td>78</td>\n",
       "      <td>1</td>\n",
       "      <td>160</td>\n",
       "      <td>70</td>\n",
       "      <td>79</td>\n",
       "      <td>127</td>\n",
       "      <td>364</td>\n",
       "      <td>138</td>\n",
       "      <td>78</td>\n",
       "      <td>28</td>\n",
       "      <td>...</td>\n",
       "      <td>0.0</td>\n",
       "      <td>10.4</td>\n",
       "      <td>-1.8</td>\n",
       "      <td>0</td>\n",
       "      <td>0</td>\n",
       "      <td>0.5</td>\n",
       "      <td>1.6</td>\n",
       "      <td>21.3</td>\n",
       "      <td>32.8</td>\n",
       "      <td>1</td>\n",
       "    </tr>\n",
       "  </tbody>\n",
       "</table>\n",
       "<p>452 rows × 280 columns</p>\n",
       "</div>"
      ],
      "text/plain": [
       "     0    1    2    3    4    5    6    7    8    9   ...   270   271   272  \\\n",
       "0     75    0  190   80   91  193  371  174  121  -16 ...   0.0   9.0  -0.9   \n",
       "1     56    1  165   64   81  174  401  149   39   25 ...   0.0   8.5   0.0   \n",
       "2     54    0  172   95  138  163  386  185  102   96 ...   0.0   9.5  -2.4   \n",
       "3     55    0  175   94  100  202  380  179  143   28 ...   0.0  12.2  -2.2   \n",
       "4     75    0  190   80   88  181  360  177  103  -16 ...   0.0  13.1  -3.6   \n",
       "5     13    0  169   51  100  167  321  174   91  107 ...  -0.6  12.2  -2.8   \n",
       "6     40    1  160   52   77  129  377  133   77   77 ...   0.0   6.5   0.0   \n",
       "7     49    1  162   54   78    0  376  157   70   67 ...   0.0   8.2  -1.9   \n",
       "8     44    0  168   56   84  118  354  160   63   61 ...   0.0   7.0  -1.3   \n",
       "9     50    1  167   67   89  130  383  156   73   85 ...  -0.6  10.8  -1.7   \n",
       "10    62    0  170   72  102  135  401  156   83   72 ...  -0.5   9.0  -2.0   \n",
       "11    45    1  165   86   77  143  373  150   65   12 ...   0.0   4.4  -2.2   \n",
       "12    54    1  172   58   78  155  382  163   81  -24 ...   0.0   6.3  -2.1   \n",
       "13    30    0  170   73   91  180  355  157  104   68 ...  -0.9  12.3   0.0   \n",
       "14    44    1  160   88   77  158  399  163   94   46 ...  -0.6  12.4   0.0   \n",
       "15    47    1  150   48   75  132  350  169   65   36 ...   0.0   7.7  -0.8   \n",
       "16    47    0  171   59   82  145  347  169   61   77 ...   0.0   9.4  -1.7   \n",
       "17    46    1  158   58   70  120  353  122   52   57 ...   0.0   6.6   0.0   \n",
       "18    73    0  165   63   91  154  392  175   83   73 ...   0.0   5.7   0.0   \n",
       "19    57    1  166   72   82  181  399  158   79  -12 ...   0.0   7.7  -0.9   \n",
       "20    28    1  160   58   83  251  383  189  183   50 ...  -0.6   9.1  -1.4   \n",
       "21    45    0  169   67   90  122  336  177   78   81 ...  -0.6   8.3  -1.8   \n",
       "22    36    1  153   75   71  132  364  169   82   62 ...   0.0   8.9  -1.0   \n",
       "23    57    1  165   59   75  157  406  143   92    4 ...   0.0   6.7  -0.5   \n",
       "24    40    1  153   55   82  140  388  149   82   52 ...   0.0  13.6   0.0   \n",
       "25    44    0  169   80  109  128  382  195   60  -34 ...   0.0   6.9   0.0   \n",
       "26    34    0  170   73   94  186  373  224  125   90 ...   0.0  15.3  -1.1   \n",
       "27    31    1  160   54   95  161  407  168   83   10 ...   0.0  12.7  -1.8   \n",
       "28    56    1  164   65   90  164  420  381   99   -8 ...   0.0   5.4   0.0   \n",
       "29    51    1  160   83   96  147  400  301   82  -37 ...   0.0   7.3  -3.9   \n",
       "..   ...  ...  ...  ...  ...  ...  ...  ...  ...  ... ...   ...   ...   ...   \n",
       "422   29    1  162   57   83  164  359  154   69   64 ...   0.0  14.1  -2.2   \n",
       "423   51    0  186   95   94  203  367  171  106   -7 ...   0.0   9.6  -3.5   \n",
       "424    7    0  119   21  140  157  438  226   81  -40 ...   0.0  10.0  -2.1   \n",
       "425   36    0  171   93   87  150  362  177   96   44 ...   0.0  10.3  -0.8   \n",
       "426   35    1  160   53   55  163  340  162  102   40 ...   0.0   8.7  -0.5   \n",
       "427   58    0  160   65  133  148  417  260   92 -158 ...  -0.4   6.4  -3.5   \n",
       "428   64    0  160   63   83    0  364  120   90   29 ...   0.0   6.7  -0.4   \n",
       "429    8    1  130   24   77  125  358  159   70   87 ...   0.0  11.3  -2.1   \n",
       "430   11    0  138   29  123  145  361  221   80  112 ...  -3.4  19.6  -4.2   \n",
       "431   47    0  166   56   79  145  381  173  101   52 ...   0.0   8.5   0.0   \n",
       "432   11    0  140   42   88  123  362  228   81  -18 ...   0.0  17.1  -7.1   \n",
       "433   70    0  167   60   80  149  290  128   93  -67 ...   0.0   2.7  -5.4   \n",
       "434   20    0  178   65   88  155  360  163   71  -22 ...  -0.5  10.2   0.0   \n",
       "435   39    1  164   62   79  155  367  153   95   50 ...   0.0   9.7  -0.7   \n",
       "436   32    1  164   57   77  144  340  148   82   27 ...  -0.6   9.9  -0.6   \n",
       "437   35    1  155   63   87  142  391  137   88   66 ...   0.0  10.7   0.0   \n",
       "438   37    0  175   82   88  146  357  179   72    1 ...  -0.4  13.5  -1.2   \n",
       "439   49    1  168   66   94  170  383  152  115   92 ...   0.0   8.2  -0.7   \n",
       "440   37    0  176   72   88  153  389  172   89   67 ...  -0.9  16.6  -3.4   \n",
       "441   37    1  160   50   74  143  374  146   75   68 ...   0.0  11.4  -0.9   \n",
       "442   65    1  160   50   85  143  363  146   84  -40 ...   0.0   6.6  -6.1   \n",
       "443   41    1  154   75   88  157  384  132  112   65 ...  -0.4  10.5  -2.5   \n",
       "444   29    0  166   63   81  143  325  218   74   24 ...   0.0   7.8  -1.3   \n",
       "445   45    0  175   75   91  134  376  160   83   91 ...   0.0   7.1  -2.4   \n",
       "446   20    1  157   57   81  151  363  166   80   43 ...   0.0   7.2  -0.7   \n",
       "447   53    1  160   70   80  199  382  154  117  -37 ...   0.0   4.3  -5.0   \n",
       "448   37    0  190   85  100  137  361  201   73   86 ...   0.0  15.6  -1.6   \n",
       "449   36    0  166   68  108  176  365  194  116  -85 ...   0.0  16.3 -28.6   \n",
       "450   32    1  155   55   93  106  386  218   63   54 ...  -0.4  12.0  -0.7   \n",
       "451   78    1  160   70   79  127  364  138   78   28 ...   0.0  10.4  -1.8   \n",
       "\n",
       "     273  274  275  276   277    278  279  \n",
       "0      0    0  0.9  2.9  23.3   49.4    8  \n",
       "1      0    0  0.2  2.1  20.4   38.8    6  \n",
       "2      0    0  0.3  3.4  12.3   49.0   10  \n",
       "3      0    0  0.4  2.6  34.6   61.6    1  \n",
       "4      0    0 -0.1  3.9  25.4   62.8    7  \n",
       "5      0    0  0.9  2.2  13.5   31.1   14  \n",
       "6      0    0  0.4  1.0  14.3   20.5    1  \n",
       "7      0    0  0.1  0.5  15.8   19.8    1  \n",
       "8      0    0  0.6  2.1  12.5   30.9    1  \n",
       "9      0    0  0.8  0.9  20.1   25.1   10  \n",
       "10     0    0  0.8  0.9  12.3   19.3    3  \n",
       "11     0    0  0.5  1.5   4.9   17.2    1  \n",
       "12     0    0  0.8  0.5   8.8   12.1   10  \n",
       "13     0    0  0.4  2.1  28.5   48.6    6  \n",
       "14     0    0  0.3  1.7  39.2   54.1    1  \n",
       "15     0    0  0.6  1.7  17.2   31.1    1  \n",
       "16     0    0  0.6  2.3  19.5   41.1   10  \n",
       "17     0    0  0.3  0.7  17.1   20.8    1  \n",
       "18     0    0  0.4  0.5  18.2   22.4    1  \n",
       "19     0    0  0.5  1.8  25.2   38.5    1  \n",
       "20     0    0  0.6  3.3  17.1   54.7    1  \n",
       "21     0    0  0.8  1.1  11.7   19.6    1  \n",
       "22     0    0  0.5  1.7  19.7   34.3    1  \n",
       "23     0    0  0.4  1.1  18.4   28.9    1  \n",
       "24     0    0  0.5  2.5  35.3   57.3    1  \n",
       "25     0    0  0.4  1.3  20.7   29.2   16  \n",
       "26     0    0  0.6  2.6  44.0   68.4   14  \n",
       "27     0    0  0.3  3.2  25.4   54.8   10  \n",
       "28     0    0  0.4 -1.4  17.2    3.0    2  \n",
       "29     0    0  0.5 -1.1   3.6   -6.3    2  \n",
       "..   ...  ...  ...  ...   ...    ...  ...  \n",
       "422    0    0  0.5  3.0  32.7   56.1    1  \n",
       "423    0    0  1.0  1.6   9.4   23.4    1  \n",
       "424    0    0  1.0  5.5  36.7  115.9    9  \n",
       "425    0    0  0.6  3.0  24.1   52.9    1  \n",
       "426    0    0  0.5  2.3  20.9   40.6    1  \n",
       "427    0    0  0.4  0.8  -2.9    6.5   10  \n",
       "428    0    0  0.3  0.4  23.7   26.4    1  \n",
       "429    0    0  0.7  3.6  16.1   49.2   16  \n",
       "430    0    0  0.2  1.8  12.2   25.1   10  \n",
       "431    0    0  0.6  1.2  20.4   29.0    6  \n",
       "432    0    0  0.7  5.5  15.1   84.4   10  \n",
       "433    0    0  0.3 -0.2  -7.1   -8.3    3  \n",
       "434    0    0  0.5  0.4  24.0   25.4    1  \n",
       "435    0    0  0.8  1.3  24.1   33.7    1  \n",
       "436    0    0  0.5  2.4  19.1   36.3    1  \n",
       "437    0    0  1.0  2.1  25.6   43.2    1  \n",
       "438    0    0  0.5  0.6  30.1   35.0    1  \n",
       "439    0    0  0.8  1.7  21.5   33.7    1  \n",
       "440    0    0  0.7  1.8  24.9   41.4    1  \n",
       "441    0    0  0.7  1.8  40.1   55.5    1  \n",
       "442    0    0  0.5  0.5  -3.8    0.4    1  \n",
       "443    0    0  0.5  1.4  17.8   29.5   10  \n",
       "444    0    0  0.5  2.3  14.1   37.1    1  \n",
       "445    0    0 -0.4  1.3   8.5   17.6    1  \n",
       "446    0    0  0.5  2.3  17.6   39.2    1  \n",
       "447    0    0  0.7  0.6  -4.4   -0.5    1  \n",
       "448    0    0  0.4  2.4  38.0   62.4   10  \n",
       "449    0    0  1.5  1.0 -44.2  -33.2    2  \n",
       "450    0    0  0.5  2.4  25.0   46.6    1  \n",
       "451    0    0  0.5  1.6  21.3   32.8    1  \n",
       "\n",
       "[452 rows x 280 columns]"
      ]
     },
     "execution_count": 35,
     "metadata": {},
     "output_type": "execute_result"
    }
   ],
   "source": [
    "#fill the missing value with mean inplace\n",
    "df.fillna(df.mean(), axis = 0, inplace = True)"
   ]
  },
  {
   "cell_type": "code",
   "execution_count": 36,
   "metadata": {
    "collapsed": false
   },
   "outputs": [
    {
     "data": {
      "text/plain": [
       "False"
      ]
     },
     "execution_count": 36,
     "metadata": {},
     "output_type": "execute_result"
    }
   ],
   "source": [
    "#no more missing data\n",
    "df.isnull().values.any()"
   ]
  },
  {
   "cell_type": "markdown",
   "metadata": {},
   "source": [
    "### 6.4"
   ]
  },
  {
   "cell_type": "code",
   "execution_count": 37,
   "metadata": {
    "collapsed": true
   },
   "outputs": [],
   "source": [
    "#in my opinion, there are many approach for this question, first I have tried the linear regression\n",
    "#but since we have too many features and limited computational power I decide to try something with feature selection\n",
    "#i use the chi2 and f_class feature selection separately and then combineed"
   ]
  },
  {
   "cell_type": "code",
   "execution_count": 38,
   "metadata": {
    "collapsed": false
   },
   "outputs": [
    {
     "name": "stderr",
     "output_type": "stream",
     "text": [
      "/Users/Chris/anaconda/lib/python2.7/site-packages/ipykernel/__main__.py:1: FutureWarning: convert_objects is deprecated.  Use the data-type specific converters pd.to_datetime, pd.to_timedelta and pd.to_numeric.\n",
      "  if __name__ == '__main__':\n"
     ]
    }
   ],
   "source": [
    "df.convert_objects(convert_numeric=True)\n",
    "X = df.iloc[:, :-1]\n",
    "y = df[279]"
   ]
  },
  {
   "cell_type": "code",
   "execution_count": 39,
   "metadata": {
    "collapsed": false
   },
   "outputs": [
    {
     "name": "stdout",
     "output_type": "stream",
     "text": [
      "Chi2 selected 9 features [90, 99, 102, 111, 120, 122, 142, 223, 233].\n",
      "F_classif selected 9 features [4, 99, 111, 113, 136, 148, 229, 237, 240].\n",
      "Chi2 & F_classif selected 2 features\n",
      "[99, 111]\n"
     ]
    },
    {
     "name": "stderr",
     "output_type": "stream",
     "text": [
      "/Users/Chris/anaconda/lib/python2.7/site-packages/sklearn/feature_selection/univariate_selection.py:113: UserWarning: Features [ 19  67  69  83 131 132 139 141 143 145 151 156 157 164 204 264 274] are constant.\n",
      "  UserWarning)\n"
     ]
    }
   ],
   "source": [
    "#the result could be the features we need\n",
    "from sklearn.feature_selection import SelectPercentile\n",
    "from sklearn.feature_selection import f_classif,chi2\n",
    "from sklearn.preprocessing import Binarizer, scale\n",
    "\n",
    "# First select features based on chi2 and f_classif\n",
    "p = 3\n",
    "\n",
    "X_bin = Binarizer().fit_transform(scale(X))\n",
    "selectChi2 = SelectPercentile(chi2, percentile=p).fit(X_bin, y)\n",
    "selectF_classif = SelectPercentile(f_classif, percentile=p).fit(X, y)\n",
    "\n",
    "chi2_selected = selectChi2.get_support()\n",
    "chi2_selected_features = [ f for i,f in enumerate(X.columns) if chi2_selected[i]]\n",
    "print('Chi2 selected {} features {}.'.format(chi2_selected.sum(),\n",
    "   chi2_selected_features))\n",
    "f_classif_selected = selectF_classif.get_support()\n",
    "f_classif_selected_features = [ f for i,f in enumerate(X.columns) if f_classif_selected[i]]\n",
    "print('F_classif selected {} features {}.'.format(f_classif_selected.sum(),\n",
    "   f_classif_selected_features))\n",
    "selected = chi2_selected & f_classif_selected\n",
    "print('Chi2 & F_classif selected {} features'.format(selected.sum()))\n",
    "features = [ f for f,s in zip(X.columns, selected) if s]\n",
    "print (features)"
   ]
  }
 ],
 "metadata": {
  "kernelspec": {
   "display_name": "Python 2",
   "language": "python",
   "name": "python2"
  },
  "language_info": {
   "codemirror_mode": {
    "name": "ipython",
    "version": 2
   },
   "file_extension": ".py",
   "mimetype": "text/x-python",
   "name": "python",
   "nbconvert_exporter": "python",
   "pygments_lexer": "ipython2",
   "version": "2.7.11"
  }
 },
 "nbformat": 4,
 "nbformat_minor": 0
}
